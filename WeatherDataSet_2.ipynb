{
  "nbformat": 4,
  "nbformat_minor": 0,
  "metadata": {
    "colab": {
      "provenance": [],
      "include_colab_link": true
    },
    "kernelspec": {
      "name": "python3",
      "display_name": "Python 3"
    },
    "language_info": {
      "name": "python"
    }
  },
  "cells": [
    {
      "cell_type": "markdown",
      "metadata": {
        "id": "view-in-github",
        "colab_type": "text"
      },
      "source": [
        "<a href=\"https://colab.research.google.com/github/luisalfonso634/C2-G13-m/blob/main/WeatherDataSet_2.ipynb\" target=\"_parent\"><img src=\"https://colab.research.google.com/assets/colab-badge.svg\" alt=\"Open In Colab\"/></a>"
      ]
    },
    {
      "cell_type": "code",
      "execution_count": 2,
      "metadata": {
        "colab": {
          "base_uri": "https://localhost:8080/",
          "height": 679
        },
        "id": "uv_SGh-aDoen",
        "outputId": "3c7ec14d-23db-463b-e59c-288839fae656"
      },
      "outputs": [
        {
          "output_type": "stream",
          "name": "stdout",
          "text": [
            "Drive already mounted at /content/drive; to attempt to forcibly remount, call drive.mount(\"/content/drive\", force_remount=True).\n"
          ]
        },
        {
          "output_type": "execute_result",
          "data": {
            "text/plain": [
              "         lat    lon Nombre_Estacio            valid date  precip_24h:mm  \\\n",
              "0     -34.49 -58.33    EZEIZA AERO  2008-01-01T00:00:00Z           0.00   \n",
              "1     -34.49 -58.33    EZEIZA AERO  2008-01-02T00:00:00Z           0.00   \n",
              "2     -34.49 -58.33    EZEIZA AERO  2008-01-03T00:00:00Z           0.00   \n",
              "3     -34.49 -58.33    EZEIZA AERO  2008-01-04T00:00:00Z           0.07   \n",
              "4     -34.49 -58.33    EZEIZA AERO  2008-01-05T00:00:00Z           0.00   \n",
              "...      ...    ...            ...                   ...            ...   \n",
              "54805 -34.33 -58.47     JUNIN AERO  2022-12-28T00:00:00Z           0.30   \n",
              "54806 -34.33 -58.47     JUNIN AERO  2022-12-29T00:00:00Z           2.82   \n",
              "54807 -34.33 -58.47     JUNIN AERO  2022-12-30T00:00:00Z           0.00   \n",
              "54808 -34.33 -58.47     JUNIN AERO  2022-12-31T00:00:00Z           0.00   \n",
              "54809 -34.33 -58.47     JUNIN AERO  2023-01-01T00:00:00Z           0.00   \n",
              "\n",
              "       t_2m:C  t_500hPa:C  wind_dir_10m:d  wind_speed_11m:ms  \\\n",
              "0        26.8       -10.7           101.7                3.1   \n",
              "1        25.8       -10.7            46.0                4.7   \n",
              "2        26.5        -9.0           215.8                3.2   \n",
              "3        26.6       -10.7           156.4               10.1   \n",
              "4        20.0       -12.0           115.4                9.2   \n",
              "...       ...         ...             ...                ...   \n",
              "54805    24.6       -13.8           357.8                3.1   \n",
              "54806    22.6       -13.8           104.2                7.5   \n",
              "54807    25.8        -9.2            52.6                4.3   \n",
              "54808    28.8       -11.0           318.2                3.3   \n",
              "54809    23.2       -11.1           117.0                9.9   \n",
              "\n",
              "       wind_dir_500hPa:d  wind_speed_500hPa:ms  relative_humidity_2m:p  \\\n",
              "0                  252.0                  12.3                    80.1   \n",
              "1                  226.4                  10.2                    79.5   \n",
              "2                  317.2                  14.2                    74.7   \n",
              "3                  237.7                  17.9                    68.4   \n",
              "4                  217.5                  14.6                    68.3   \n",
              "...                  ...                   ...                     ...   \n",
              "54805              186.3                   6.7                    54.8   \n",
              "54806              220.3                  18.8                    71.0   \n",
              "54807              252.4                  13.2                    52.3   \n",
              "54808              245.7                   6.8                    44.5   \n",
              "54809              316.6                   6.8                    76.1   \n",
              "\n",
              "       sfc_pressure:hPa  layer_thickness_500hPa_1000hPa:m  \n",
              "0                  1008                            5735.7  \n",
              "1                  1010                            5729.9  \n",
              "2                  1008                            5723.6  \n",
              "3                  1014                            5699.5  \n",
              "4                  1020                            5658.2  \n",
              "...                 ...                               ...  \n",
              "54805              1009                            5646.5  \n",
              "54806              1013                            5599.8  \n",
              "54807              1010                            5714.5  \n",
              "54808              1006                            5754.9  \n",
              "54809              1012                            5725.1  \n",
              "\n",
              "[54810 rows x 14 columns]"
            ],
            "text/html": [
              "\n",
              "  <div id=\"df-9dd9497e-5f4f-4791-97db-fca29cae42a8\">\n",
              "    <div class=\"colab-df-container\">\n",
              "      <div>\n",
              "<style scoped>\n",
              "    .dataframe tbody tr th:only-of-type {\n",
              "        vertical-align: middle;\n",
              "    }\n",
              "\n",
              "    .dataframe tbody tr th {\n",
              "        vertical-align: top;\n",
              "    }\n",
              "\n",
              "    .dataframe thead th {\n",
              "        text-align: right;\n",
              "    }\n",
              "</style>\n",
              "<table border=\"1\" class=\"dataframe\">\n",
              "  <thead>\n",
              "    <tr style=\"text-align: right;\">\n",
              "      <th></th>\n",
              "      <th>lat</th>\n",
              "      <th>lon</th>\n",
              "      <th>Nombre_Estacio</th>\n",
              "      <th>valid date</th>\n",
              "      <th>precip_24h:mm</th>\n",
              "      <th>t_2m:C</th>\n",
              "      <th>t_500hPa:C</th>\n",
              "      <th>wind_dir_10m:d</th>\n",
              "      <th>wind_speed_11m:ms</th>\n",
              "      <th>wind_dir_500hPa:d</th>\n",
              "      <th>wind_speed_500hPa:ms</th>\n",
              "      <th>relative_humidity_2m:p</th>\n",
              "      <th>sfc_pressure:hPa</th>\n",
              "      <th>layer_thickness_500hPa_1000hPa:m</th>\n",
              "    </tr>\n",
              "  </thead>\n",
              "  <tbody>\n",
              "    <tr>\n",
              "      <th>0</th>\n",
              "      <td>-34.49</td>\n",
              "      <td>-58.33</td>\n",
              "      <td>EZEIZA AERO</td>\n",
              "      <td>2008-01-01T00:00:00Z</td>\n",
              "      <td>0.00</td>\n",
              "      <td>26.8</td>\n",
              "      <td>-10.7</td>\n",
              "      <td>101.7</td>\n",
              "      <td>3.1</td>\n",
              "      <td>252.0</td>\n",
              "      <td>12.3</td>\n",
              "      <td>80.1</td>\n",
              "      <td>1008</td>\n",
              "      <td>5735.7</td>\n",
              "    </tr>\n",
              "    <tr>\n",
              "      <th>1</th>\n",
              "      <td>-34.49</td>\n",
              "      <td>-58.33</td>\n",
              "      <td>EZEIZA AERO</td>\n",
              "      <td>2008-01-02T00:00:00Z</td>\n",
              "      <td>0.00</td>\n",
              "      <td>25.8</td>\n",
              "      <td>-10.7</td>\n",
              "      <td>46.0</td>\n",
              "      <td>4.7</td>\n",
              "      <td>226.4</td>\n",
              "      <td>10.2</td>\n",
              "      <td>79.5</td>\n",
              "      <td>1010</td>\n",
              "      <td>5729.9</td>\n",
              "    </tr>\n",
              "    <tr>\n",
              "      <th>2</th>\n",
              "      <td>-34.49</td>\n",
              "      <td>-58.33</td>\n",
              "      <td>EZEIZA AERO</td>\n",
              "      <td>2008-01-03T00:00:00Z</td>\n",
              "      <td>0.00</td>\n",
              "      <td>26.5</td>\n",
              "      <td>-9.0</td>\n",
              "      <td>215.8</td>\n",
              "      <td>3.2</td>\n",
              "      <td>317.2</td>\n",
              "      <td>14.2</td>\n",
              "      <td>74.7</td>\n",
              "      <td>1008</td>\n",
              "      <td>5723.6</td>\n",
              "    </tr>\n",
              "    <tr>\n",
              "      <th>3</th>\n",
              "      <td>-34.49</td>\n",
              "      <td>-58.33</td>\n",
              "      <td>EZEIZA AERO</td>\n",
              "      <td>2008-01-04T00:00:00Z</td>\n",
              "      <td>0.07</td>\n",
              "      <td>26.6</td>\n",
              "      <td>-10.7</td>\n",
              "      <td>156.4</td>\n",
              "      <td>10.1</td>\n",
              "      <td>237.7</td>\n",
              "      <td>17.9</td>\n",
              "      <td>68.4</td>\n",
              "      <td>1014</td>\n",
              "      <td>5699.5</td>\n",
              "    </tr>\n",
              "    <tr>\n",
              "      <th>4</th>\n",
              "      <td>-34.49</td>\n",
              "      <td>-58.33</td>\n",
              "      <td>EZEIZA AERO</td>\n",
              "      <td>2008-01-05T00:00:00Z</td>\n",
              "      <td>0.00</td>\n",
              "      <td>20.0</td>\n",
              "      <td>-12.0</td>\n",
              "      <td>115.4</td>\n",
              "      <td>9.2</td>\n",
              "      <td>217.5</td>\n",
              "      <td>14.6</td>\n",
              "      <td>68.3</td>\n",
              "      <td>1020</td>\n",
              "      <td>5658.2</td>\n",
              "    </tr>\n",
              "    <tr>\n",
              "      <th>...</th>\n",
              "      <td>...</td>\n",
              "      <td>...</td>\n",
              "      <td>...</td>\n",
              "      <td>...</td>\n",
              "      <td>...</td>\n",
              "      <td>...</td>\n",
              "      <td>...</td>\n",
              "      <td>...</td>\n",
              "      <td>...</td>\n",
              "      <td>...</td>\n",
              "      <td>...</td>\n",
              "      <td>...</td>\n",
              "      <td>...</td>\n",
              "      <td>...</td>\n",
              "    </tr>\n",
              "    <tr>\n",
              "      <th>54805</th>\n",
              "      <td>-34.33</td>\n",
              "      <td>-58.47</td>\n",
              "      <td>JUNIN AERO</td>\n",
              "      <td>2022-12-28T00:00:00Z</td>\n",
              "      <td>0.30</td>\n",
              "      <td>24.6</td>\n",
              "      <td>-13.8</td>\n",
              "      <td>357.8</td>\n",
              "      <td>3.1</td>\n",
              "      <td>186.3</td>\n",
              "      <td>6.7</td>\n",
              "      <td>54.8</td>\n",
              "      <td>1009</td>\n",
              "      <td>5646.5</td>\n",
              "    </tr>\n",
              "    <tr>\n",
              "      <th>54806</th>\n",
              "      <td>-34.33</td>\n",
              "      <td>-58.47</td>\n",
              "      <td>JUNIN AERO</td>\n",
              "      <td>2022-12-29T00:00:00Z</td>\n",
              "      <td>2.82</td>\n",
              "      <td>22.6</td>\n",
              "      <td>-13.8</td>\n",
              "      <td>104.2</td>\n",
              "      <td>7.5</td>\n",
              "      <td>220.3</td>\n",
              "      <td>18.8</td>\n",
              "      <td>71.0</td>\n",
              "      <td>1013</td>\n",
              "      <td>5599.8</td>\n",
              "    </tr>\n",
              "    <tr>\n",
              "      <th>54807</th>\n",
              "      <td>-34.33</td>\n",
              "      <td>-58.47</td>\n",
              "      <td>JUNIN AERO</td>\n",
              "      <td>2022-12-30T00:00:00Z</td>\n",
              "      <td>0.00</td>\n",
              "      <td>25.8</td>\n",
              "      <td>-9.2</td>\n",
              "      <td>52.6</td>\n",
              "      <td>4.3</td>\n",
              "      <td>252.4</td>\n",
              "      <td>13.2</td>\n",
              "      <td>52.3</td>\n",
              "      <td>1010</td>\n",
              "      <td>5714.5</td>\n",
              "    </tr>\n",
              "    <tr>\n",
              "      <th>54808</th>\n",
              "      <td>-34.33</td>\n",
              "      <td>-58.47</td>\n",
              "      <td>JUNIN AERO</td>\n",
              "      <td>2022-12-31T00:00:00Z</td>\n",
              "      <td>0.00</td>\n",
              "      <td>28.8</td>\n",
              "      <td>-11.0</td>\n",
              "      <td>318.2</td>\n",
              "      <td>3.3</td>\n",
              "      <td>245.7</td>\n",
              "      <td>6.8</td>\n",
              "      <td>44.5</td>\n",
              "      <td>1006</td>\n",
              "      <td>5754.9</td>\n",
              "    </tr>\n",
              "    <tr>\n",
              "      <th>54809</th>\n",
              "      <td>-34.33</td>\n",
              "      <td>-58.47</td>\n",
              "      <td>JUNIN AERO</td>\n",
              "      <td>2023-01-01T00:00:00Z</td>\n",
              "      <td>0.00</td>\n",
              "      <td>23.2</td>\n",
              "      <td>-11.1</td>\n",
              "      <td>117.0</td>\n",
              "      <td>9.9</td>\n",
              "      <td>316.6</td>\n",
              "      <td>6.8</td>\n",
              "      <td>76.1</td>\n",
              "      <td>1012</td>\n",
              "      <td>5725.1</td>\n",
              "    </tr>\n",
              "  </tbody>\n",
              "</table>\n",
              "<p>54810 rows × 14 columns</p>\n",
              "</div>\n",
              "      <button class=\"colab-df-convert\" onclick=\"convertToInteractive('df-9dd9497e-5f4f-4791-97db-fca29cae42a8')\"\n",
              "              title=\"Convert this dataframe to an interactive table.\"\n",
              "              style=\"display:none;\">\n",
              "        \n",
              "  <svg xmlns=\"http://www.w3.org/2000/svg\" height=\"24px\"viewBox=\"0 0 24 24\"\n",
              "       width=\"24px\">\n",
              "    <path d=\"M0 0h24v24H0V0z\" fill=\"none\"/>\n",
              "    <path d=\"M18.56 5.44l.94 2.06.94-2.06 2.06-.94-2.06-.94-.94-2.06-.94 2.06-2.06.94zm-11 1L8.5 8.5l.94-2.06 2.06-.94-2.06-.94L8.5 2.5l-.94 2.06-2.06.94zm10 10l.94 2.06.94-2.06 2.06-.94-2.06-.94-.94-2.06-.94 2.06-2.06.94z\"/><path d=\"M17.41 7.96l-1.37-1.37c-.4-.4-.92-.59-1.43-.59-.52 0-1.04.2-1.43.59L10.3 9.45l-7.72 7.72c-.78.78-.78 2.05 0 2.83L4 21.41c.39.39.9.59 1.41.59.51 0 1.02-.2 1.41-.59l7.78-7.78 2.81-2.81c.8-.78.8-2.07 0-2.86zM5.41 20L4 18.59l7.72-7.72 1.47 1.35L5.41 20z\"/>\n",
              "  </svg>\n",
              "      </button>\n",
              "      \n",
              "  <style>\n",
              "    .colab-df-container {\n",
              "      display:flex;\n",
              "      flex-wrap:wrap;\n",
              "      gap: 12px;\n",
              "    }\n",
              "\n",
              "    .colab-df-convert {\n",
              "      background-color: #E8F0FE;\n",
              "      border: none;\n",
              "      border-radius: 50%;\n",
              "      cursor: pointer;\n",
              "      display: none;\n",
              "      fill: #1967D2;\n",
              "      height: 32px;\n",
              "      padding: 0 0 0 0;\n",
              "      width: 32px;\n",
              "    }\n",
              "\n",
              "    .colab-df-convert:hover {\n",
              "      background-color: #E2EBFA;\n",
              "      box-shadow: 0px 1px 2px rgba(60, 64, 67, 0.3), 0px 1px 3px 1px rgba(60, 64, 67, 0.15);\n",
              "      fill: #174EA6;\n",
              "    }\n",
              "\n",
              "    [theme=dark] .colab-df-convert {\n",
              "      background-color: #3B4455;\n",
              "      fill: #D2E3FC;\n",
              "    }\n",
              "\n",
              "    [theme=dark] .colab-df-convert:hover {\n",
              "      background-color: #434B5C;\n",
              "      box-shadow: 0px 1px 3px 1px rgba(0, 0, 0, 0.15);\n",
              "      filter: drop-shadow(0px 1px 2px rgba(0, 0, 0, 0.3));\n",
              "      fill: #FFFFFF;\n",
              "    }\n",
              "  </style>\n",
              "\n",
              "      <script>\n",
              "        const buttonEl =\n",
              "          document.querySelector('#df-9dd9497e-5f4f-4791-97db-fca29cae42a8 button.colab-df-convert');\n",
              "        buttonEl.style.display =\n",
              "          google.colab.kernel.accessAllowed ? 'block' : 'none';\n",
              "\n",
              "        async function convertToInteractive(key) {\n",
              "          const element = document.querySelector('#df-9dd9497e-5f4f-4791-97db-fca29cae42a8');\n",
              "          const dataTable =\n",
              "            await google.colab.kernel.invokeFunction('convertToInteractive',\n",
              "                                                     [key], {});\n",
              "          if (!dataTable) return;\n",
              "\n",
              "          const docLinkHtml = 'Like what you see? Visit the ' +\n",
              "            '<a target=\"_blank\" href=https://colab.research.google.com/notebooks/data_table.ipynb>data table notebook</a>'\n",
              "            + ' to learn more about interactive tables.';\n",
              "          element.innerHTML = '';\n",
              "          dataTable['output_type'] = 'display_data';\n",
              "          await google.colab.output.renderOutput(dataTable, element);\n",
              "          const docLink = document.createElement('div');\n",
              "          docLink.innerHTML = docLinkHtml;\n",
              "          element.appendChild(docLink);\n",
              "        }\n",
              "      </script>\n",
              "    </div>\n",
              "  </div>\n",
              "  "
            ]
          },
          "metadata": {},
          "execution_count": 2
        }
      ],
      "source": [
        "import pandas as pd \n",
        "import numpy as np \n",
        "import matplotlib.pyplot as plt\n",
        "from matplotlib.patches import Rectangle\n",
        "import seaborn as sns\n",
        "from google.colab import files\n",
        "from google.colab import drive\n",
        "drive.mount('/content/drive')\n",
        "df = pd.read_excel('/content/drive/MyDrive/Wheather Data Set 2/Weather_DATASET_2_Buenos_Aires_2008_2022.xlsx')\n",
        "df.shape\n",
        "df"
      ]
    },
    {
      "cell_type": "code",
      "source": [
        "df.info()"
      ],
      "metadata": {
        "colab": {
          "base_uri": "https://localhost:8080/"
        },
        "id": "OYL2YhqUJ7wO",
        "outputId": "ffa31423-177f-4620-b612-54e47016034a"
      },
      "execution_count": null,
      "outputs": [
        {
          "output_type": "stream",
          "name": "stdout",
          "text": [
            "<class 'pandas.core.frame.DataFrame'>\n",
            "RangeIndex: 54810 entries, 0 to 54809\n",
            "Data columns (total 14 columns):\n",
            " #   Column                            Non-Null Count  Dtype  \n",
            "---  ------                            --------------  -----  \n",
            " 0   lat                               54810 non-null  float64\n",
            " 1   lon                               54810 non-null  float64\n",
            " 2   Nombre_Estacio                    54810 non-null  object \n",
            " 3   valid date                        54810 non-null  object \n",
            " 4   precip_24h:mm                     54810 non-null  float64\n",
            " 5   t_2m:C                            54810 non-null  float64\n",
            " 6   t_500hPa:C                        54810 non-null  float64\n",
            " 7   wind_dir_10m:d                    54810 non-null  float64\n",
            " 8   wind_speed_11m:ms                 54810 non-null  float64\n",
            " 9   wind_dir_500hPa:d                 54810 non-null  float64\n",
            " 10  wind_speed_500hPa:ms              54810 non-null  float64\n",
            " 11  relative_humidity_2m:p            54810 non-null  float64\n",
            " 12  sfc_pressure:hPa                  54810 non-null  int64  \n",
            " 13  layer_thickness_500hPa_1000hPa:m  54810 non-null  float64\n",
            "dtypes: float64(11), int64(1), object(2)\n",
            "memory usage: 5.9+ MB\n"
          ]
        }
      ]
    },
    {
      "cell_type": "markdown",
      "source": [
        "Es una Base de Datos compartida por METEOMATICS, con 54810 filas y 14 parametros distintos (https://www.meteomatics.com/en/weather-api/?ppc_keyword=meteomatics&gclid=Cj0KCQiAn4SeBhCwARIsANeF9DLv5OV9Bz-p5NOgLt6hKZiss9g7CdySQ_hlHBY8OFuxCyXPrJQebpYaAiUOEALw_wcB)\n",
        "\n",
        "Los parametros que estan presentes en esta base de datos son:\n",
        "\n",
        "\n",
        " 0   lat, indica la latitud de la estacion.-\n",
        "\n",
        " 1   lon, indica la longitud de la estacion.- \n",
        "\n",
        " 2   Nombre_Estacio, indica el nombre de la estacion.- \n",
        " \n",
        " 3   valid date, indica la fecha y la hora de observacion, en este caso todas las observaciones son a las 00:00 Z, es decir, 21:00 Hora Local Argentina (HLA).- \n",
        "\n",
        " 4   precip_24h:mm, indica la precipitacion acumulada en mm en las ultimas 24 hrs.-\n",
        "\n",
        " 5   t_2m:C, indica la temperatura superficial en grados Centigrados.-\n",
        "\n",
        " 6   t_500hPa:C, indica la temperatura en el nivel de 500 hPa, expresada en grados Centigrados.-\n",
        "\n",
        " 7   wind_dir_10m:d, indica la direccion del viento a 10m de altura, expresada en grados entre 0 y 360.-\n",
        "\n",
        " 8   wind_speed_11m:ms, indica la velocidad del viento a 10m de altura en m/s.-\n",
        "\n",
        " 9   wind_dir_500hPa:d, indica la direccion del viento en 500 hPa, expresada en grados entre 0 y 360.\n",
        "\n",
        " 10  wind_speed_500hPa:ms, indica la velocidad del viento a 500 hPa, en m/s.-\n",
        "\n",
        " 11  relative_humidity_2m:p, indica la humedad relativa en superficie.-\n",
        "\n",
        "\n",
        " 12  sfc_pressure:hPa, indica la presion atmosferica en supercie, expresada en hPa.-         \n",
        " 13  layer_thickness_500hPa_1000hPa:m, indica el espesor, expresado en metros de la capa entre 500 hPa y 100 hPa. \n",
        "\n",
        "\n",
        "\n",
        "\n",
        "\n",
        "\n",
        "\n",
        "\n",
        "\n"
      ],
      "metadata": {
        "id": "ZyGqvfH6ISLi"
      }
    },
    {
      "cell_type": "markdown",
      "source": [
        "Con estos datos se podria hacer un modelo de pronostico para preveer de acuerdo a la existencia de ciertos parametros, la posibilidad de precipitacion en la Ciudad de Buenos Aires, por otra parte, se podria usar un Dataset disponible en la pagina del Gobierno de la Ciudad de Buenos Aires, para predecir el consumo electrico, dependiendo de las condiciones meteorologicas en la Ciudad de Buenos Aires"
      ],
      "metadata": {
        "id": "bvjGgRGcfI1X"
      }
    },
    {
      "cell_type": "code",
      "source": [
        "#con esto veo las primeras 10 filas del archivo\n",
        "df.head(10)"
      ],
      "metadata": {
        "colab": {
          "base_uri": "https://localhost:8080/",
          "height": 601
        },
        "id": "SvoeaEZMn7ht",
        "outputId": "a0f8769f-4e66-41f8-9f26-babf508e8d4b"
      },
      "execution_count": null,
      "outputs": [
        {
          "output_type": "execute_result",
          "data": {
            "text/plain": [
              "     lat    lon Nombre_Estacio            valid date  precip_24h:mm  t_2m:C  \\\n",
              "0 -34.49 -58.33    EZEIZA AERO  2008-01-01T00:00:00Z           0.00    26.8   \n",
              "1 -34.49 -58.33    EZEIZA AERO  2008-01-02T00:00:00Z           0.00    25.8   \n",
              "2 -34.49 -58.33    EZEIZA AERO  2008-01-03T00:00:00Z           0.00    26.5   \n",
              "3 -34.49 -58.33    EZEIZA AERO  2008-01-04T00:00:00Z           0.07    26.6   \n",
              "4 -34.49 -58.33    EZEIZA AERO  2008-01-05T00:00:00Z           0.00    20.0   \n",
              "5 -34.49 -58.33    EZEIZA AERO  2008-01-06T00:00:00Z           0.00    22.8   \n",
              "6 -34.49 -58.33    EZEIZA AERO  2008-01-07T00:00:00Z           0.00    25.9   \n",
              "7 -34.49 -58.33    EZEIZA AERO  2008-01-08T00:00:00Z           1.79    28.3   \n",
              "8 -34.49 -58.33    EZEIZA AERO  2008-01-09T00:00:00Z           0.00    28.8   \n",
              "9 -34.49 -58.33    EZEIZA AERO  2008-01-10T00:00:00Z           2.31    29.7   \n",
              "\n",
              "   t_500hPa:C  wind_dir_10m:d  wind_speed_11m:ms  wind_dir_500hPa:d  \\\n",
              "0       -10.7           101.7                3.1              252.0   \n",
              "1       -10.7            46.0                4.7              226.4   \n",
              "2        -9.0           215.8                3.2              317.2   \n",
              "3       -10.7           156.4               10.1              237.7   \n",
              "4       -12.0           115.4                9.2              217.5   \n",
              "5       -11.5           112.7                5.9              221.7   \n",
              "6        -9.2            99.7                3.6              214.4   \n",
              "7        -8.4            11.7                4.3              229.4   \n",
              "8       -11.4            15.1                2.8              252.4   \n",
              "9       -11.1           358.3                4.7              288.8   \n",
              "\n",
              "   wind_speed_500hPa:ms  relative_humidity_2m:p  sfc_pressure:hPa  \\\n",
              "0                  12.3                    80.1              1008   \n",
              "1                  10.2                    79.5              1010   \n",
              "2                  14.2                    74.7              1008   \n",
              "3                  17.9                    68.4              1014   \n",
              "4                  14.6                    68.3              1020   \n",
              "5                  16.2                    66.5              1014   \n",
              "6                  18.1                    73.1              1009   \n",
              "7                  18.2                    67.3              1004   \n",
              "8                  14.8                    75.1              1004   \n",
              "9                  13.0                    65.0              1001   \n",
              "\n",
              "   layer_thickness_500hPa_1000hPa:m  \n",
              "0                            5735.7  \n",
              "1                            5729.9  \n",
              "2                            5723.6  \n",
              "3                            5699.5  \n",
              "4                            5658.2  \n",
              "5                            5679.3  \n",
              "6                            5727.3  \n",
              "7                            5773.5  \n",
              "8                            5763.6  \n",
              "9                            5759.1  "
            ],
            "text/html": [
              "\n",
              "  <div id=\"df-1fbe1b29-1c1a-4b4c-87fb-5c9532d11c14\">\n",
              "    <div class=\"colab-df-container\">\n",
              "      <div>\n",
              "<style scoped>\n",
              "    .dataframe tbody tr th:only-of-type {\n",
              "        vertical-align: middle;\n",
              "    }\n",
              "\n",
              "    .dataframe tbody tr th {\n",
              "        vertical-align: top;\n",
              "    }\n",
              "\n",
              "    .dataframe thead th {\n",
              "        text-align: right;\n",
              "    }\n",
              "</style>\n",
              "<table border=\"1\" class=\"dataframe\">\n",
              "  <thead>\n",
              "    <tr style=\"text-align: right;\">\n",
              "      <th></th>\n",
              "      <th>lat</th>\n",
              "      <th>lon</th>\n",
              "      <th>Nombre_Estacio</th>\n",
              "      <th>valid date</th>\n",
              "      <th>precip_24h:mm</th>\n",
              "      <th>t_2m:C</th>\n",
              "      <th>t_500hPa:C</th>\n",
              "      <th>wind_dir_10m:d</th>\n",
              "      <th>wind_speed_11m:ms</th>\n",
              "      <th>wind_dir_500hPa:d</th>\n",
              "      <th>wind_speed_500hPa:ms</th>\n",
              "      <th>relative_humidity_2m:p</th>\n",
              "      <th>sfc_pressure:hPa</th>\n",
              "      <th>layer_thickness_500hPa_1000hPa:m</th>\n",
              "    </tr>\n",
              "  </thead>\n",
              "  <tbody>\n",
              "    <tr>\n",
              "      <th>0</th>\n",
              "      <td>-34.49</td>\n",
              "      <td>-58.33</td>\n",
              "      <td>EZEIZA AERO</td>\n",
              "      <td>2008-01-01T00:00:00Z</td>\n",
              "      <td>0.00</td>\n",
              "      <td>26.8</td>\n",
              "      <td>-10.7</td>\n",
              "      <td>101.7</td>\n",
              "      <td>3.1</td>\n",
              "      <td>252.0</td>\n",
              "      <td>12.3</td>\n",
              "      <td>80.1</td>\n",
              "      <td>1008</td>\n",
              "      <td>5735.7</td>\n",
              "    </tr>\n",
              "    <tr>\n",
              "      <th>1</th>\n",
              "      <td>-34.49</td>\n",
              "      <td>-58.33</td>\n",
              "      <td>EZEIZA AERO</td>\n",
              "      <td>2008-01-02T00:00:00Z</td>\n",
              "      <td>0.00</td>\n",
              "      <td>25.8</td>\n",
              "      <td>-10.7</td>\n",
              "      <td>46.0</td>\n",
              "      <td>4.7</td>\n",
              "      <td>226.4</td>\n",
              "      <td>10.2</td>\n",
              "      <td>79.5</td>\n",
              "      <td>1010</td>\n",
              "      <td>5729.9</td>\n",
              "    </tr>\n",
              "    <tr>\n",
              "      <th>2</th>\n",
              "      <td>-34.49</td>\n",
              "      <td>-58.33</td>\n",
              "      <td>EZEIZA AERO</td>\n",
              "      <td>2008-01-03T00:00:00Z</td>\n",
              "      <td>0.00</td>\n",
              "      <td>26.5</td>\n",
              "      <td>-9.0</td>\n",
              "      <td>215.8</td>\n",
              "      <td>3.2</td>\n",
              "      <td>317.2</td>\n",
              "      <td>14.2</td>\n",
              "      <td>74.7</td>\n",
              "      <td>1008</td>\n",
              "      <td>5723.6</td>\n",
              "    </tr>\n",
              "    <tr>\n",
              "      <th>3</th>\n",
              "      <td>-34.49</td>\n",
              "      <td>-58.33</td>\n",
              "      <td>EZEIZA AERO</td>\n",
              "      <td>2008-01-04T00:00:00Z</td>\n",
              "      <td>0.07</td>\n",
              "      <td>26.6</td>\n",
              "      <td>-10.7</td>\n",
              "      <td>156.4</td>\n",
              "      <td>10.1</td>\n",
              "      <td>237.7</td>\n",
              "      <td>17.9</td>\n",
              "      <td>68.4</td>\n",
              "      <td>1014</td>\n",
              "      <td>5699.5</td>\n",
              "    </tr>\n",
              "    <tr>\n",
              "      <th>4</th>\n",
              "      <td>-34.49</td>\n",
              "      <td>-58.33</td>\n",
              "      <td>EZEIZA AERO</td>\n",
              "      <td>2008-01-05T00:00:00Z</td>\n",
              "      <td>0.00</td>\n",
              "      <td>20.0</td>\n",
              "      <td>-12.0</td>\n",
              "      <td>115.4</td>\n",
              "      <td>9.2</td>\n",
              "      <td>217.5</td>\n",
              "      <td>14.6</td>\n",
              "      <td>68.3</td>\n",
              "      <td>1020</td>\n",
              "      <td>5658.2</td>\n",
              "    </tr>\n",
              "    <tr>\n",
              "      <th>5</th>\n",
              "      <td>-34.49</td>\n",
              "      <td>-58.33</td>\n",
              "      <td>EZEIZA AERO</td>\n",
              "      <td>2008-01-06T00:00:00Z</td>\n",
              "      <td>0.00</td>\n",
              "      <td>22.8</td>\n",
              "      <td>-11.5</td>\n",
              "      <td>112.7</td>\n",
              "      <td>5.9</td>\n",
              "      <td>221.7</td>\n",
              "      <td>16.2</td>\n",
              "      <td>66.5</td>\n",
              "      <td>1014</td>\n",
              "      <td>5679.3</td>\n",
              "    </tr>\n",
              "    <tr>\n",
              "      <th>6</th>\n",
              "      <td>-34.49</td>\n",
              "      <td>-58.33</td>\n",
              "      <td>EZEIZA AERO</td>\n",
              "      <td>2008-01-07T00:00:00Z</td>\n",
              "      <td>0.00</td>\n",
              "      <td>25.9</td>\n",
              "      <td>-9.2</td>\n",
              "      <td>99.7</td>\n",
              "      <td>3.6</td>\n",
              "      <td>214.4</td>\n",
              "      <td>18.1</td>\n",
              "      <td>73.1</td>\n",
              "      <td>1009</td>\n",
              "      <td>5727.3</td>\n",
              "    </tr>\n",
              "    <tr>\n",
              "      <th>7</th>\n",
              "      <td>-34.49</td>\n",
              "      <td>-58.33</td>\n",
              "      <td>EZEIZA AERO</td>\n",
              "      <td>2008-01-08T00:00:00Z</td>\n",
              "      <td>1.79</td>\n",
              "      <td>28.3</td>\n",
              "      <td>-8.4</td>\n",
              "      <td>11.7</td>\n",
              "      <td>4.3</td>\n",
              "      <td>229.4</td>\n",
              "      <td>18.2</td>\n",
              "      <td>67.3</td>\n",
              "      <td>1004</td>\n",
              "      <td>5773.5</td>\n",
              "    </tr>\n",
              "    <tr>\n",
              "      <th>8</th>\n",
              "      <td>-34.49</td>\n",
              "      <td>-58.33</td>\n",
              "      <td>EZEIZA AERO</td>\n",
              "      <td>2008-01-09T00:00:00Z</td>\n",
              "      <td>0.00</td>\n",
              "      <td>28.8</td>\n",
              "      <td>-11.4</td>\n",
              "      <td>15.1</td>\n",
              "      <td>2.8</td>\n",
              "      <td>252.4</td>\n",
              "      <td>14.8</td>\n",
              "      <td>75.1</td>\n",
              "      <td>1004</td>\n",
              "      <td>5763.6</td>\n",
              "    </tr>\n",
              "    <tr>\n",
              "      <th>9</th>\n",
              "      <td>-34.49</td>\n",
              "      <td>-58.33</td>\n",
              "      <td>EZEIZA AERO</td>\n",
              "      <td>2008-01-10T00:00:00Z</td>\n",
              "      <td>2.31</td>\n",
              "      <td>29.7</td>\n",
              "      <td>-11.1</td>\n",
              "      <td>358.3</td>\n",
              "      <td>4.7</td>\n",
              "      <td>288.8</td>\n",
              "      <td>13.0</td>\n",
              "      <td>65.0</td>\n",
              "      <td>1001</td>\n",
              "      <td>5759.1</td>\n",
              "    </tr>\n",
              "  </tbody>\n",
              "</table>\n",
              "</div>\n",
              "      <button class=\"colab-df-convert\" onclick=\"convertToInteractive('df-1fbe1b29-1c1a-4b4c-87fb-5c9532d11c14')\"\n",
              "              title=\"Convert this dataframe to an interactive table.\"\n",
              "              style=\"display:none;\">\n",
              "        \n",
              "  <svg xmlns=\"http://www.w3.org/2000/svg\" height=\"24px\"viewBox=\"0 0 24 24\"\n",
              "       width=\"24px\">\n",
              "    <path d=\"M0 0h24v24H0V0z\" fill=\"none\"/>\n",
              "    <path d=\"M18.56 5.44l.94 2.06.94-2.06 2.06-.94-2.06-.94-.94-2.06-.94 2.06-2.06.94zm-11 1L8.5 8.5l.94-2.06 2.06-.94-2.06-.94L8.5 2.5l-.94 2.06-2.06.94zm10 10l.94 2.06.94-2.06 2.06-.94-2.06-.94-.94-2.06-.94 2.06-2.06.94z\"/><path d=\"M17.41 7.96l-1.37-1.37c-.4-.4-.92-.59-1.43-.59-.52 0-1.04.2-1.43.59L10.3 9.45l-7.72 7.72c-.78.78-.78 2.05 0 2.83L4 21.41c.39.39.9.59 1.41.59.51 0 1.02-.2 1.41-.59l7.78-7.78 2.81-2.81c.8-.78.8-2.07 0-2.86zM5.41 20L4 18.59l7.72-7.72 1.47 1.35L5.41 20z\"/>\n",
              "  </svg>\n",
              "      </button>\n",
              "      \n",
              "  <style>\n",
              "    .colab-df-container {\n",
              "      display:flex;\n",
              "      flex-wrap:wrap;\n",
              "      gap: 12px;\n",
              "    }\n",
              "\n",
              "    .colab-df-convert {\n",
              "      background-color: #E8F0FE;\n",
              "      border: none;\n",
              "      border-radius: 50%;\n",
              "      cursor: pointer;\n",
              "      display: none;\n",
              "      fill: #1967D2;\n",
              "      height: 32px;\n",
              "      padding: 0 0 0 0;\n",
              "      width: 32px;\n",
              "    }\n",
              "\n",
              "    .colab-df-convert:hover {\n",
              "      background-color: #E2EBFA;\n",
              "      box-shadow: 0px 1px 2px rgba(60, 64, 67, 0.3), 0px 1px 3px 1px rgba(60, 64, 67, 0.15);\n",
              "      fill: #174EA6;\n",
              "    }\n",
              "\n",
              "    [theme=dark] .colab-df-convert {\n",
              "      background-color: #3B4455;\n",
              "      fill: #D2E3FC;\n",
              "    }\n",
              "\n",
              "    [theme=dark] .colab-df-convert:hover {\n",
              "      background-color: #434B5C;\n",
              "      box-shadow: 0px 1px 3px 1px rgba(0, 0, 0, 0.15);\n",
              "      filter: drop-shadow(0px 1px 2px rgba(0, 0, 0, 0.3));\n",
              "      fill: #FFFFFF;\n",
              "    }\n",
              "  </style>\n",
              "\n",
              "      <script>\n",
              "        const buttonEl =\n",
              "          document.querySelector('#df-1fbe1b29-1c1a-4b4c-87fb-5c9532d11c14 button.colab-df-convert');\n",
              "        buttonEl.style.display =\n",
              "          google.colab.kernel.accessAllowed ? 'block' : 'none';\n",
              "\n",
              "        async function convertToInteractive(key) {\n",
              "          const element = document.querySelector('#df-1fbe1b29-1c1a-4b4c-87fb-5c9532d11c14');\n",
              "          const dataTable =\n",
              "            await google.colab.kernel.invokeFunction('convertToInteractive',\n",
              "                                                     [key], {});\n",
              "          if (!dataTable) return;\n",
              "\n",
              "          const docLinkHtml = 'Like what you see? Visit the ' +\n",
              "            '<a target=\"_blank\" href=https://colab.research.google.com/notebooks/data_table.ipynb>data table notebook</a>'\n",
              "            + ' to learn more about interactive tables.';\n",
              "          element.innerHTML = '';\n",
              "          dataTable['output_type'] = 'display_data';\n",
              "          await google.colab.output.renderOutput(dataTable, element);\n",
              "          const docLink = document.createElement('div');\n",
              "          docLink.innerHTML = docLinkHtml;\n",
              "          element.appendChild(docLink);\n",
              "        }\n",
              "      </script>\n",
              "    </div>\n",
              "  </div>\n",
              "  "
            ]
          },
          "metadata": {},
          "execution_count": 4
        }
      ]
    },
    {
      "cell_type": "code",
      "source": [
        "#con esto veo las ultimas 10 filas del archivo\n",
        "df.tail(10)"
      ],
      "metadata": {
        "colab": {
          "base_uri": "https://localhost:8080/",
          "height": 601
        },
        "id": "K_ZgNjsQoYA0",
        "outputId": "62756b06-d024-4dfc-8a1c-ccdd94a80881"
      },
      "execution_count": null,
      "outputs": [
        {
          "output_type": "execute_result",
          "data": {
            "text/plain": [
              "         lat    lon Nombre_Estacio            valid date  precip_24h:mm  \\\n",
              "54800 -34.33 -58.47     JUNIN AERO  2022-12-23T00:00:00Z           0.00   \n",
              "54801 -34.33 -58.47     JUNIN AERO  2022-12-24T00:00:00Z           1.67   \n",
              "54802 -34.33 -58.47     JUNIN AERO  2022-12-25T00:00:00Z          36.07   \n",
              "54803 -34.33 -58.47     JUNIN AERO  2022-12-26T00:00:00Z           0.00   \n",
              "54804 -34.33 -58.47     JUNIN AERO  2022-12-27T00:00:00Z           0.00   \n",
              "54805 -34.33 -58.47     JUNIN AERO  2022-12-28T00:00:00Z           0.30   \n",
              "54806 -34.33 -58.47     JUNIN AERO  2022-12-29T00:00:00Z           2.82   \n",
              "54807 -34.33 -58.47     JUNIN AERO  2022-12-30T00:00:00Z           0.00   \n",
              "54808 -34.33 -58.47     JUNIN AERO  2022-12-31T00:00:00Z           0.00   \n",
              "54809 -34.33 -58.47     JUNIN AERO  2023-01-01T00:00:00Z           0.00   \n",
              "\n",
              "       t_2m:C  t_500hPa:C  wind_dir_10m:d  wind_speed_11m:ms  \\\n",
              "54800    24.9       -10.6           198.0                1.6   \n",
              "54801    23.6       -10.2           128.1                2.6   \n",
              "54802    20.8       -12.3           172.0                7.3   \n",
              "54803    19.5       -14.5           316.6                1.5   \n",
              "54804    22.8       -12.0            18.0                3.2   \n",
              "54805    24.6       -13.8           357.8                3.1   \n",
              "54806    22.6       -13.8           104.2                7.5   \n",
              "54807    25.8        -9.2            52.6                4.3   \n",
              "54808    28.8       -11.0           318.2                3.3   \n",
              "54809    23.2       -11.1           117.0                9.9   \n",
              "\n",
              "       wind_dir_500hPa:d  wind_speed_500hPa:ms  relative_humidity_2m:p  \\\n",
              "54800              324.8                   7.6                    79.2   \n",
              "54801              319.8                  11.6                    80.8   \n",
              "54802              288.8                  22.3                    60.0   \n",
              "54803              264.7                  14.6                    67.1   \n",
              "54804              232.5                   8.6                    57.9   \n",
              "54805              186.3                   6.7                    54.8   \n",
              "54806              220.3                  18.8                    71.0   \n",
              "54807              252.4                  13.2                    52.3   \n",
              "54808              245.7                   6.8                    44.5   \n",
              "54809              316.6                   6.8                    76.1   \n",
              "\n",
              "       sfc_pressure:hPa  layer_thickness_500hPa_1000hPa:m  \n",
              "54800              1010                            5702.7  \n",
              "54801              1009                            5688.9  \n",
              "54802              1017                            5603.2  \n",
              "54803              1016                            5591.9  \n",
              "54804              1011                            5649.8  \n",
              "54805              1009                            5646.5  \n",
              "54806              1013                            5599.8  \n",
              "54807              1010                            5714.5  \n",
              "54808              1006                            5754.9  \n",
              "54809              1012                            5725.1  "
            ],
            "text/html": [
              "\n",
              "  <div id=\"df-0ff9e7c7-81d3-4ed3-8dfc-a86f04a54f2d\">\n",
              "    <div class=\"colab-df-container\">\n",
              "      <div>\n",
              "<style scoped>\n",
              "    .dataframe tbody tr th:only-of-type {\n",
              "        vertical-align: middle;\n",
              "    }\n",
              "\n",
              "    .dataframe tbody tr th {\n",
              "        vertical-align: top;\n",
              "    }\n",
              "\n",
              "    .dataframe thead th {\n",
              "        text-align: right;\n",
              "    }\n",
              "</style>\n",
              "<table border=\"1\" class=\"dataframe\">\n",
              "  <thead>\n",
              "    <tr style=\"text-align: right;\">\n",
              "      <th></th>\n",
              "      <th>lat</th>\n",
              "      <th>lon</th>\n",
              "      <th>Nombre_Estacio</th>\n",
              "      <th>valid date</th>\n",
              "      <th>precip_24h:mm</th>\n",
              "      <th>t_2m:C</th>\n",
              "      <th>t_500hPa:C</th>\n",
              "      <th>wind_dir_10m:d</th>\n",
              "      <th>wind_speed_11m:ms</th>\n",
              "      <th>wind_dir_500hPa:d</th>\n",
              "      <th>wind_speed_500hPa:ms</th>\n",
              "      <th>relative_humidity_2m:p</th>\n",
              "      <th>sfc_pressure:hPa</th>\n",
              "      <th>layer_thickness_500hPa_1000hPa:m</th>\n",
              "    </tr>\n",
              "  </thead>\n",
              "  <tbody>\n",
              "    <tr>\n",
              "      <th>54800</th>\n",
              "      <td>-34.33</td>\n",
              "      <td>-58.47</td>\n",
              "      <td>JUNIN AERO</td>\n",
              "      <td>2022-12-23T00:00:00Z</td>\n",
              "      <td>0.00</td>\n",
              "      <td>24.9</td>\n",
              "      <td>-10.6</td>\n",
              "      <td>198.0</td>\n",
              "      <td>1.6</td>\n",
              "      <td>324.8</td>\n",
              "      <td>7.6</td>\n",
              "      <td>79.2</td>\n",
              "      <td>1010</td>\n",
              "      <td>5702.7</td>\n",
              "    </tr>\n",
              "    <tr>\n",
              "      <th>54801</th>\n",
              "      <td>-34.33</td>\n",
              "      <td>-58.47</td>\n",
              "      <td>JUNIN AERO</td>\n",
              "      <td>2022-12-24T00:00:00Z</td>\n",
              "      <td>1.67</td>\n",
              "      <td>23.6</td>\n",
              "      <td>-10.2</td>\n",
              "      <td>128.1</td>\n",
              "      <td>2.6</td>\n",
              "      <td>319.8</td>\n",
              "      <td>11.6</td>\n",
              "      <td>80.8</td>\n",
              "      <td>1009</td>\n",
              "      <td>5688.9</td>\n",
              "    </tr>\n",
              "    <tr>\n",
              "      <th>54802</th>\n",
              "      <td>-34.33</td>\n",
              "      <td>-58.47</td>\n",
              "      <td>JUNIN AERO</td>\n",
              "      <td>2022-12-25T00:00:00Z</td>\n",
              "      <td>36.07</td>\n",
              "      <td>20.8</td>\n",
              "      <td>-12.3</td>\n",
              "      <td>172.0</td>\n",
              "      <td>7.3</td>\n",
              "      <td>288.8</td>\n",
              "      <td>22.3</td>\n",
              "      <td>60.0</td>\n",
              "      <td>1017</td>\n",
              "      <td>5603.2</td>\n",
              "    </tr>\n",
              "    <tr>\n",
              "      <th>54803</th>\n",
              "      <td>-34.33</td>\n",
              "      <td>-58.47</td>\n",
              "      <td>JUNIN AERO</td>\n",
              "      <td>2022-12-26T00:00:00Z</td>\n",
              "      <td>0.00</td>\n",
              "      <td>19.5</td>\n",
              "      <td>-14.5</td>\n",
              "      <td>316.6</td>\n",
              "      <td>1.5</td>\n",
              "      <td>264.7</td>\n",
              "      <td>14.6</td>\n",
              "      <td>67.1</td>\n",
              "      <td>1016</td>\n",
              "      <td>5591.9</td>\n",
              "    </tr>\n",
              "    <tr>\n",
              "      <th>54804</th>\n",
              "      <td>-34.33</td>\n",
              "      <td>-58.47</td>\n",
              "      <td>JUNIN AERO</td>\n",
              "      <td>2022-12-27T00:00:00Z</td>\n",
              "      <td>0.00</td>\n",
              "      <td>22.8</td>\n",
              "      <td>-12.0</td>\n",
              "      <td>18.0</td>\n",
              "      <td>3.2</td>\n",
              "      <td>232.5</td>\n",
              "      <td>8.6</td>\n",
              "      <td>57.9</td>\n",
              "      <td>1011</td>\n",
              "      <td>5649.8</td>\n",
              "    </tr>\n",
              "    <tr>\n",
              "      <th>54805</th>\n",
              "      <td>-34.33</td>\n",
              "      <td>-58.47</td>\n",
              "      <td>JUNIN AERO</td>\n",
              "      <td>2022-12-28T00:00:00Z</td>\n",
              "      <td>0.30</td>\n",
              "      <td>24.6</td>\n",
              "      <td>-13.8</td>\n",
              "      <td>357.8</td>\n",
              "      <td>3.1</td>\n",
              "      <td>186.3</td>\n",
              "      <td>6.7</td>\n",
              "      <td>54.8</td>\n",
              "      <td>1009</td>\n",
              "      <td>5646.5</td>\n",
              "    </tr>\n",
              "    <tr>\n",
              "      <th>54806</th>\n",
              "      <td>-34.33</td>\n",
              "      <td>-58.47</td>\n",
              "      <td>JUNIN AERO</td>\n",
              "      <td>2022-12-29T00:00:00Z</td>\n",
              "      <td>2.82</td>\n",
              "      <td>22.6</td>\n",
              "      <td>-13.8</td>\n",
              "      <td>104.2</td>\n",
              "      <td>7.5</td>\n",
              "      <td>220.3</td>\n",
              "      <td>18.8</td>\n",
              "      <td>71.0</td>\n",
              "      <td>1013</td>\n",
              "      <td>5599.8</td>\n",
              "    </tr>\n",
              "    <tr>\n",
              "      <th>54807</th>\n",
              "      <td>-34.33</td>\n",
              "      <td>-58.47</td>\n",
              "      <td>JUNIN AERO</td>\n",
              "      <td>2022-12-30T00:00:00Z</td>\n",
              "      <td>0.00</td>\n",
              "      <td>25.8</td>\n",
              "      <td>-9.2</td>\n",
              "      <td>52.6</td>\n",
              "      <td>4.3</td>\n",
              "      <td>252.4</td>\n",
              "      <td>13.2</td>\n",
              "      <td>52.3</td>\n",
              "      <td>1010</td>\n",
              "      <td>5714.5</td>\n",
              "    </tr>\n",
              "    <tr>\n",
              "      <th>54808</th>\n",
              "      <td>-34.33</td>\n",
              "      <td>-58.47</td>\n",
              "      <td>JUNIN AERO</td>\n",
              "      <td>2022-12-31T00:00:00Z</td>\n",
              "      <td>0.00</td>\n",
              "      <td>28.8</td>\n",
              "      <td>-11.0</td>\n",
              "      <td>318.2</td>\n",
              "      <td>3.3</td>\n",
              "      <td>245.7</td>\n",
              "      <td>6.8</td>\n",
              "      <td>44.5</td>\n",
              "      <td>1006</td>\n",
              "      <td>5754.9</td>\n",
              "    </tr>\n",
              "    <tr>\n",
              "      <th>54809</th>\n",
              "      <td>-34.33</td>\n",
              "      <td>-58.47</td>\n",
              "      <td>JUNIN AERO</td>\n",
              "      <td>2023-01-01T00:00:00Z</td>\n",
              "      <td>0.00</td>\n",
              "      <td>23.2</td>\n",
              "      <td>-11.1</td>\n",
              "      <td>117.0</td>\n",
              "      <td>9.9</td>\n",
              "      <td>316.6</td>\n",
              "      <td>6.8</td>\n",
              "      <td>76.1</td>\n",
              "      <td>1012</td>\n",
              "      <td>5725.1</td>\n",
              "    </tr>\n",
              "  </tbody>\n",
              "</table>\n",
              "</div>\n",
              "      <button class=\"colab-df-convert\" onclick=\"convertToInteractive('df-0ff9e7c7-81d3-4ed3-8dfc-a86f04a54f2d')\"\n",
              "              title=\"Convert this dataframe to an interactive table.\"\n",
              "              style=\"display:none;\">\n",
              "        \n",
              "  <svg xmlns=\"http://www.w3.org/2000/svg\" height=\"24px\"viewBox=\"0 0 24 24\"\n",
              "       width=\"24px\">\n",
              "    <path d=\"M0 0h24v24H0V0z\" fill=\"none\"/>\n",
              "    <path d=\"M18.56 5.44l.94 2.06.94-2.06 2.06-.94-2.06-.94-.94-2.06-.94 2.06-2.06.94zm-11 1L8.5 8.5l.94-2.06 2.06-.94-2.06-.94L8.5 2.5l-.94 2.06-2.06.94zm10 10l.94 2.06.94-2.06 2.06-.94-2.06-.94-.94-2.06-.94 2.06-2.06.94z\"/><path d=\"M17.41 7.96l-1.37-1.37c-.4-.4-.92-.59-1.43-.59-.52 0-1.04.2-1.43.59L10.3 9.45l-7.72 7.72c-.78.78-.78 2.05 0 2.83L4 21.41c.39.39.9.59 1.41.59.51 0 1.02-.2 1.41-.59l7.78-7.78 2.81-2.81c.8-.78.8-2.07 0-2.86zM5.41 20L4 18.59l7.72-7.72 1.47 1.35L5.41 20z\"/>\n",
              "  </svg>\n",
              "      </button>\n",
              "      \n",
              "  <style>\n",
              "    .colab-df-container {\n",
              "      display:flex;\n",
              "      flex-wrap:wrap;\n",
              "      gap: 12px;\n",
              "    }\n",
              "\n",
              "    .colab-df-convert {\n",
              "      background-color: #E8F0FE;\n",
              "      border: none;\n",
              "      border-radius: 50%;\n",
              "      cursor: pointer;\n",
              "      display: none;\n",
              "      fill: #1967D2;\n",
              "      height: 32px;\n",
              "      padding: 0 0 0 0;\n",
              "      width: 32px;\n",
              "    }\n",
              "\n",
              "    .colab-df-convert:hover {\n",
              "      background-color: #E2EBFA;\n",
              "      box-shadow: 0px 1px 2px rgba(60, 64, 67, 0.3), 0px 1px 3px 1px rgba(60, 64, 67, 0.15);\n",
              "      fill: #174EA6;\n",
              "    }\n",
              "\n",
              "    [theme=dark] .colab-df-convert {\n",
              "      background-color: #3B4455;\n",
              "      fill: #D2E3FC;\n",
              "    }\n",
              "\n",
              "    [theme=dark] .colab-df-convert:hover {\n",
              "      background-color: #434B5C;\n",
              "      box-shadow: 0px 1px 3px 1px rgba(0, 0, 0, 0.15);\n",
              "      filter: drop-shadow(0px 1px 2px rgba(0, 0, 0, 0.3));\n",
              "      fill: #FFFFFF;\n",
              "    }\n",
              "  </style>\n",
              "\n",
              "      <script>\n",
              "        const buttonEl =\n",
              "          document.querySelector('#df-0ff9e7c7-81d3-4ed3-8dfc-a86f04a54f2d button.colab-df-convert');\n",
              "        buttonEl.style.display =\n",
              "          google.colab.kernel.accessAllowed ? 'block' : 'none';\n",
              "\n",
              "        async function convertToInteractive(key) {\n",
              "          const element = document.querySelector('#df-0ff9e7c7-81d3-4ed3-8dfc-a86f04a54f2d');\n",
              "          const dataTable =\n",
              "            await google.colab.kernel.invokeFunction('convertToInteractive',\n",
              "                                                     [key], {});\n",
              "          if (!dataTable) return;\n",
              "\n",
              "          const docLinkHtml = 'Like what you see? Visit the ' +\n",
              "            '<a target=\"_blank\" href=https://colab.research.google.com/notebooks/data_table.ipynb>data table notebook</a>'\n",
              "            + ' to learn more about interactive tables.';\n",
              "          element.innerHTML = '';\n",
              "          dataTable['output_type'] = 'display_data';\n",
              "          await google.colab.output.renderOutput(dataTable, element);\n",
              "          const docLink = document.createElement('div');\n",
              "          docLink.innerHTML = docLinkHtml;\n",
              "          element.appendChild(docLink);\n",
              "        }\n",
              "      </script>\n",
              "    </div>\n",
              "  </div>\n",
              "  "
            ]
          },
          "metadata": {},
          "execution_count": 5
        }
      ]
    },
    {
      "cell_type": "code",
      "source": [
        "#con esto veo 10 filas random del archivo\n",
        "df.sample(10)"
      ],
      "metadata": {
        "colab": {
          "base_uri": "https://localhost:8080/",
          "height": 601
        },
        "id": "0xuSgR7eoild",
        "outputId": "bff9c9c8-07c6-4baa-d441-d286e0a65d63"
      },
      "execution_count": null,
      "outputs": [
        {
          "output_type": "execute_result",
          "data": {
            "text/plain": [
              "         lat    lon             Nombre_Estacio            valid date  \\\n",
              "5351  -34.35 -58.29            AEROPARQUE AERO  2008-08-23T00:00:00Z   \n",
              "44367 -34.33 -60.56                 JUNIN AERO  2018-06-03T00:00:00Z   \n",
              "39020 -34.40 -58.30                 MORON AERO  2019-10-15T00:00:00Z   \n",
              "31802 -34.35 -58.29  BUENOS AIRES OBSERVATORIO  2016-01-12T00:00:00Z   \n",
              "38970 -34.40 -58.30                 MORON AERO  2019-08-26T00:00:00Z   \n",
              "14366 -34.58 -57.54              LA PLATA AERO  2012-04-25T00:00:00Z   \n",
              "23069 -34.33 -58.47                 JUNIN AERO  2008-02-17T00:00:00Z   \n",
              "27802 -34.49 -58.33                EZEIZA AERO  2021-01-31T00:00:00Z   \n",
              "9902  -37.56 -57.35         MAR DEL PLATA AERO  2014-02-06T00:00:00Z   \n",
              "8649  -37.56 -57.35         MAR DEL PLATA AERO  2010-09-02T00:00:00Z   \n",
              "\n",
              "       precip_24h:mm  t_2m:C  t_500hPa:C  wind_dir_10m:d  wind_speed_11m:ms  \\\n",
              "5351            0.00    13.9       -19.5           354.7                3.5   \n",
              "44367           0.00     8.6       -22.5           181.2                1.8   \n",
              "39020          34.77    12.3       -12.2           117.7               12.2   \n",
              "31802           0.00    26.4        -7.7            98.6                4.0   \n",
              "38970           0.53    14.6       -15.9            76.3                3.4   \n",
              "14366           0.00    11.4       -17.4           119.3                2.5   \n",
              "23069           0.00    25.3       -10.2           103.8                5.8   \n",
              "27802          53.13    20.4        -9.3           137.4               14.7   \n",
              "9902           38.34    17.8        -8.0           128.6                1.3   \n",
              "8649            0.06     6.4       -18.6           145.2                7.9   \n",
              "\n",
              "       wind_dir_500hPa:d  wind_speed_500hPa:ms  relative_humidity_2m:p  \\\n",
              "5351               250.9                   8.4                    72.3   \n",
              "44367              241.9                  10.4                    65.7   \n",
              "39020              286.8                  10.0                    70.3   \n",
              "31802              257.9                  22.9                    74.3   \n",
              "38970              313.1                  13.5                    84.8   \n",
              "14366              259.6                  20.7                    59.4   \n",
              "23069              237.4                   4.9                    77.4   \n",
              "27802              284.5                  17.7                    78.7   \n",
              "9902               293.1                  29.0                    86.0   \n",
              "8649               266.8                  20.2                    76.0   \n",
              "\n",
              "       sfc_pressure:hPa  layer_thickness_500hPa_1000hPa:m  \n",
              "5351               1026                            5483.8  \n",
              "44367              1023                            5407.8  \n",
              "39020              1030                            5541.3  \n",
              "31802              1005                            5755.2  \n",
              "38970              1019                            5605.4  \n",
              "14366              1019                            5503.1  \n",
              "23069              1010                            5711.9  \n",
              "27802              1012                            5640.0  \n",
              "9902               1009                            5685.3  \n",
              "8649               1030                            5465.5  "
            ],
            "text/html": [
              "\n",
              "  <div id=\"df-b42e221c-7d50-4143-b68b-ebeff0e69ef3\">\n",
              "    <div class=\"colab-df-container\">\n",
              "      <div>\n",
              "<style scoped>\n",
              "    .dataframe tbody tr th:only-of-type {\n",
              "        vertical-align: middle;\n",
              "    }\n",
              "\n",
              "    .dataframe tbody tr th {\n",
              "        vertical-align: top;\n",
              "    }\n",
              "\n",
              "    .dataframe thead th {\n",
              "        text-align: right;\n",
              "    }\n",
              "</style>\n",
              "<table border=\"1\" class=\"dataframe\">\n",
              "  <thead>\n",
              "    <tr style=\"text-align: right;\">\n",
              "      <th></th>\n",
              "      <th>lat</th>\n",
              "      <th>lon</th>\n",
              "      <th>Nombre_Estacio</th>\n",
              "      <th>valid date</th>\n",
              "      <th>precip_24h:mm</th>\n",
              "      <th>t_2m:C</th>\n",
              "      <th>t_500hPa:C</th>\n",
              "      <th>wind_dir_10m:d</th>\n",
              "      <th>wind_speed_11m:ms</th>\n",
              "      <th>wind_dir_500hPa:d</th>\n",
              "      <th>wind_speed_500hPa:ms</th>\n",
              "      <th>relative_humidity_2m:p</th>\n",
              "      <th>sfc_pressure:hPa</th>\n",
              "      <th>layer_thickness_500hPa_1000hPa:m</th>\n",
              "    </tr>\n",
              "  </thead>\n",
              "  <tbody>\n",
              "    <tr>\n",
              "      <th>5351</th>\n",
              "      <td>-34.35</td>\n",
              "      <td>-58.29</td>\n",
              "      <td>AEROPARQUE AERO</td>\n",
              "      <td>2008-08-23T00:00:00Z</td>\n",
              "      <td>0.00</td>\n",
              "      <td>13.9</td>\n",
              "      <td>-19.5</td>\n",
              "      <td>354.7</td>\n",
              "      <td>3.5</td>\n",
              "      <td>250.9</td>\n",
              "      <td>8.4</td>\n",
              "      <td>72.3</td>\n",
              "      <td>1026</td>\n",
              "      <td>5483.8</td>\n",
              "    </tr>\n",
              "    <tr>\n",
              "      <th>44367</th>\n",
              "      <td>-34.33</td>\n",
              "      <td>-60.56</td>\n",
              "      <td>JUNIN AERO</td>\n",
              "      <td>2018-06-03T00:00:00Z</td>\n",
              "      <td>0.00</td>\n",
              "      <td>8.6</td>\n",
              "      <td>-22.5</td>\n",
              "      <td>181.2</td>\n",
              "      <td>1.8</td>\n",
              "      <td>241.9</td>\n",
              "      <td>10.4</td>\n",
              "      <td>65.7</td>\n",
              "      <td>1023</td>\n",
              "      <td>5407.8</td>\n",
              "    </tr>\n",
              "    <tr>\n",
              "      <th>39020</th>\n",
              "      <td>-34.40</td>\n",
              "      <td>-58.30</td>\n",
              "      <td>MORON AERO</td>\n",
              "      <td>2019-10-15T00:00:00Z</td>\n",
              "      <td>34.77</td>\n",
              "      <td>12.3</td>\n",
              "      <td>-12.2</td>\n",
              "      <td>117.7</td>\n",
              "      <td>12.2</td>\n",
              "      <td>286.8</td>\n",
              "      <td>10.0</td>\n",
              "      <td>70.3</td>\n",
              "      <td>1030</td>\n",
              "      <td>5541.3</td>\n",
              "    </tr>\n",
              "    <tr>\n",
              "      <th>31802</th>\n",
              "      <td>-34.35</td>\n",
              "      <td>-58.29</td>\n",
              "      <td>BUENOS AIRES OBSERVATORIO</td>\n",
              "      <td>2016-01-12T00:00:00Z</td>\n",
              "      <td>0.00</td>\n",
              "      <td>26.4</td>\n",
              "      <td>-7.7</td>\n",
              "      <td>98.6</td>\n",
              "      <td>4.0</td>\n",
              "      <td>257.9</td>\n",
              "      <td>22.9</td>\n",
              "      <td>74.3</td>\n",
              "      <td>1005</td>\n",
              "      <td>5755.2</td>\n",
              "    </tr>\n",
              "    <tr>\n",
              "      <th>38970</th>\n",
              "      <td>-34.40</td>\n",
              "      <td>-58.30</td>\n",
              "      <td>MORON AERO</td>\n",
              "      <td>2019-08-26T00:00:00Z</td>\n",
              "      <td>0.53</td>\n",
              "      <td>14.6</td>\n",
              "      <td>-15.9</td>\n",
              "      <td>76.3</td>\n",
              "      <td>3.4</td>\n",
              "      <td>313.1</td>\n",
              "      <td>13.5</td>\n",
              "      <td>84.8</td>\n",
              "      <td>1019</td>\n",
              "      <td>5605.4</td>\n",
              "    </tr>\n",
              "    <tr>\n",
              "      <th>14366</th>\n",
              "      <td>-34.58</td>\n",
              "      <td>-57.54</td>\n",
              "      <td>LA PLATA AERO</td>\n",
              "      <td>2012-04-25T00:00:00Z</td>\n",
              "      <td>0.00</td>\n",
              "      <td>11.4</td>\n",
              "      <td>-17.4</td>\n",
              "      <td>119.3</td>\n",
              "      <td>2.5</td>\n",
              "      <td>259.6</td>\n",
              "      <td>20.7</td>\n",
              "      <td>59.4</td>\n",
              "      <td>1019</td>\n",
              "      <td>5503.1</td>\n",
              "    </tr>\n",
              "    <tr>\n",
              "      <th>23069</th>\n",
              "      <td>-34.33</td>\n",
              "      <td>-58.47</td>\n",
              "      <td>JUNIN AERO</td>\n",
              "      <td>2008-02-17T00:00:00Z</td>\n",
              "      <td>0.00</td>\n",
              "      <td>25.3</td>\n",
              "      <td>-10.2</td>\n",
              "      <td>103.8</td>\n",
              "      <td>5.8</td>\n",
              "      <td>237.4</td>\n",
              "      <td>4.9</td>\n",
              "      <td>77.4</td>\n",
              "      <td>1010</td>\n",
              "      <td>5711.9</td>\n",
              "    </tr>\n",
              "    <tr>\n",
              "      <th>27802</th>\n",
              "      <td>-34.49</td>\n",
              "      <td>-58.33</td>\n",
              "      <td>EZEIZA AERO</td>\n",
              "      <td>2021-01-31T00:00:00Z</td>\n",
              "      <td>53.13</td>\n",
              "      <td>20.4</td>\n",
              "      <td>-9.3</td>\n",
              "      <td>137.4</td>\n",
              "      <td>14.7</td>\n",
              "      <td>284.5</td>\n",
              "      <td>17.7</td>\n",
              "      <td>78.7</td>\n",
              "      <td>1012</td>\n",
              "      <td>5640.0</td>\n",
              "    </tr>\n",
              "    <tr>\n",
              "      <th>9902</th>\n",
              "      <td>-37.56</td>\n",
              "      <td>-57.35</td>\n",
              "      <td>MAR DEL PLATA AERO</td>\n",
              "      <td>2014-02-06T00:00:00Z</td>\n",
              "      <td>38.34</td>\n",
              "      <td>17.8</td>\n",
              "      <td>-8.0</td>\n",
              "      <td>128.6</td>\n",
              "      <td>1.3</td>\n",
              "      <td>293.1</td>\n",
              "      <td>29.0</td>\n",
              "      <td>86.0</td>\n",
              "      <td>1009</td>\n",
              "      <td>5685.3</td>\n",
              "    </tr>\n",
              "    <tr>\n",
              "      <th>8649</th>\n",
              "      <td>-37.56</td>\n",
              "      <td>-57.35</td>\n",
              "      <td>MAR DEL PLATA AERO</td>\n",
              "      <td>2010-09-02T00:00:00Z</td>\n",
              "      <td>0.06</td>\n",
              "      <td>6.4</td>\n",
              "      <td>-18.6</td>\n",
              "      <td>145.2</td>\n",
              "      <td>7.9</td>\n",
              "      <td>266.8</td>\n",
              "      <td>20.2</td>\n",
              "      <td>76.0</td>\n",
              "      <td>1030</td>\n",
              "      <td>5465.5</td>\n",
              "    </tr>\n",
              "  </tbody>\n",
              "</table>\n",
              "</div>\n",
              "      <button class=\"colab-df-convert\" onclick=\"convertToInteractive('df-b42e221c-7d50-4143-b68b-ebeff0e69ef3')\"\n",
              "              title=\"Convert this dataframe to an interactive table.\"\n",
              "              style=\"display:none;\">\n",
              "        \n",
              "  <svg xmlns=\"http://www.w3.org/2000/svg\" height=\"24px\"viewBox=\"0 0 24 24\"\n",
              "       width=\"24px\">\n",
              "    <path d=\"M0 0h24v24H0V0z\" fill=\"none\"/>\n",
              "    <path d=\"M18.56 5.44l.94 2.06.94-2.06 2.06-.94-2.06-.94-.94-2.06-.94 2.06-2.06.94zm-11 1L8.5 8.5l.94-2.06 2.06-.94-2.06-.94L8.5 2.5l-.94 2.06-2.06.94zm10 10l.94 2.06.94-2.06 2.06-.94-2.06-.94-.94-2.06-.94 2.06-2.06.94z\"/><path d=\"M17.41 7.96l-1.37-1.37c-.4-.4-.92-.59-1.43-.59-.52 0-1.04.2-1.43.59L10.3 9.45l-7.72 7.72c-.78.78-.78 2.05 0 2.83L4 21.41c.39.39.9.59 1.41.59.51 0 1.02-.2 1.41-.59l7.78-7.78 2.81-2.81c.8-.78.8-2.07 0-2.86zM5.41 20L4 18.59l7.72-7.72 1.47 1.35L5.41 20z\"/>\n",
              "  </svg>\n",
              "      </button>\n",
              "      \n",
              "  <style>\n",
              "    .colab-df-container {\n",
              "      display:flex;\n",
              "      flex-wrap:wrap;\n",
              "      gap: 12px;\n",
              "    }\n",
              "\n",
              "    .colab-df-convert {\n",
              "      background-color: #E8F0FE;\n",
              "      border: none;\n",
              "      border-radius: 50%;\n",
              "      cursor: pointer;\n",
              "      display: none;\n",
              "      fill: #1967D2;\n",
              "      height: 32px;\n",
              "      padding: 0 0 0 0;\n",
              "      width: 32px;\n",
              "    }\n",
              "\n",
              "    .colab-df-convert:hover {\n",
              "      background-color: #E2EBFA;\n",
              "      box-shadow: 0px 1px 2px rgba(60, 64, 67, 0.3), 0px 1px 3px 1px rgba(60, 64, 67, 0.15);\n",
              "      fill: #174EA6;\n",
              "    }\n",
              "\n",
              "    [theme=dark] .colab-df-convert {\n",
              "      background-color: #3B4455;\n",
              "      fill: #D2E3FC;\n",
              "    }\n",
              "\n",
              "    [theme=dark] .colab-df-convert:hover {\n",
              "      background-color: #434B5C;\n",
              "      box-shadow: 0px 1px 3px 1px rgba(0, 0, 0, 0.15);\n",
              "      filter: drop-shadow(0px 1px 2px rgba(0, 0, 0, 0.3));\n",
              "      fill: #FFFFFF;\n",
              "    }\n",
              "  </style>\n",
              "\n",
              "      <script>\n",
              "        const buttonEl =\n",
              "          document.querySelector('#df-b42e221c-7d50-4143-b68b-ebeff0e69ef3 button.colab-df-convert');\n",
              "        buttonEl.style.display =\n",
              "          google.colab.kernel.accessAllowed ? 'block' : 'none';\n",
              "\n",
              "        async function convertToInteractive(key) {\n",
              "          const element = document.querySelector('#df-b42e221c-7d50-4143-b68b-ebeff0e69ef3');\n",
              "          const dataTable =\n",
              "            await google.colab.kernel.invokeFunction('convertToInteractive',\n",
              "                                                     [key], {});\n",
              "          if (!dataTable) return;\n",
              "\n",
              "          const docLinkHtml = 'Like what you see? Visit the ' +\n",
              "            '<a target=\"_blank\" href=https://colab.research.google.com/notebooks/data_table.ipynb>data table notebook</a>'\n",
              "            + ' to learn more about interactive tables.';\n",
              "          element.innerHTML = '';\n",
              "          dataTable['output_type'] = 'display_data';\n",
              "          await google.colab.output.renderOutput(dataTable, element);\n",
              "          const docLink = document.createElement('div');\n",
              "          docLink.innerHTML = docLinkHtml;\n",
              "          element.appendChild(docLink);\n",
              "        }\n",
              "      </script>\n",
              "    </div>\n",
              "  </div>\n",
              "  "
            ]
          },
          "metadata": {},
          "execution_count": 8
        }
      ]
    },
    {
      "cell_type": "code",
      "source": [
        "df.shape"
      ],
      "metadata": {
        "id": "e4ubIdd_pCt4"
      },
      "execution_count": null,
      "outputs": []
    },
    {
      "cell_type": "code",
      "source": [
        "#Me dice cuantas filas y columnas tengo en el dataframe\n",
        "df.shape"
      ],
      "metadata": {
        "colab": {
          "base_uri": "https://localhost:8080/"
        },
        "id": "oou9DDEjq8i8",
        "outputId": "6cf4f03c-4905-4638-c201-cd181d5b0e41"
      },
      "execution_count": null,
      "outputs": [
        {
          "output_type": "execute_result",
          "data": {
            "text/plain": [
              "(54810, 14)"
            ]
          },
          "metadata": {},
          "execution_count": 11
        }
      ]
    },
    {
      "cell_type": "code",
      "source": [
        "#ME elimina todas las filas y columnas que tienen datos faltantes\n",
        "df.dropna\n"
      ],
      "metadata": {
        "colab": {
          "base_uri": "https://localhost:8080/"
        },
        "id": "9V2t-QV5rXlJ",
        "outputId": "120bebde-9781-4560-a680-d80974832956"
      },
      "execution_count": null,
      "outputs": [
        {
          "output_type": "execute_result",
          "data": {
            "text/plain": [
              "<bound method DataFrame.dropna of          lat    lon Nombre_Estacio            valid date  precip_24h:mm  \\\n",
              "0     -34.49 -58.33    EZEIZA AERO  2008-01-01T00:00:00Z           0.00   \n",
              "1     -34.49 -58.33    EZEIZA AERO  2008-01-02T00:00:00Z           0.00   \n",
              "2     -34.49 -58.33    EZEIZA AERO  2008-01-03T00:00:00Z           0.00   \n",
              "3     -34.49 -58.33    EZEIZA AERO  2008-01-04T00:00:00Z           0.07   \n",
              "4     -34.49 -58.33    EZEIZA AERO  2008-01-05T00:00:00Z           0.00   \n",
              "...      ...    ...            ...                   ...            ...   \n",
              "54805 -34.33 -58.47     JUNIN AERO  2022-12-28T00:00:00Z           0.30   \n",
              "54806 -34.33 -58.47     JUNIN AERO  2022-12-29T00:00:00Z           2.82   \n",
              "54807 -34.33 -58.47     JUNIN AERO  2022-12-30T00:00:00Z           0.00   \n",
              "54808 -34.33 -58.47     JUNIN AERO  2022-12-31T00:00:00Z           0.00   \n",
              "54809 -34.33 -58.47     JUNIN AERO  2023-01-01T00:00:00Z           0.00   \n",
              "\n",
              "       t_2m:C  t_500hPa:C  wind_dir_10m:d  wind_speed_11m:ms  \\\n",
              "0        26.8       -10.7           101.7                3.1   \n",
              "1        25.8       -10.7            46.0                4.7   \n",
              "2        26.5        -9.0           215.8                3.2   \n",
              "3        26.6       -10.7           156.4               10.1   \n",
              "4        20.0       -12.0           115.4                9.2   \n",
              "...       ...         ...             ...                ...   \n",
              "54805    24.6       -13.8           357.8                3.1   \n",
              "54806    22.6       -13.8           104.2                7.5   \n",
              "54807    25.8        -9.2            52.6                4.3   \n",
              "54808    28.8       -11.0           318.2                3.3   \n",
              "54809    23.2       -11.1           117.0                9.9   \n",
              "\n",
              "       wind_dir_500hPa:d  wind_speed_500hPa:ms  relative_humidity_2m:p  \\\n",
              "0                  252.0                  12.3                    80.1   \n",
              "1                  226.4                  10.2                    79.5   \n",
              "2                  317.2                  14.2                    74.7   \n",
              "3                  237.7                  17.9                    68.4   \n",
              "4                  217.5                  14.6                    68.3   \n",
              "...                  ...                   ...                     ...   \n",
              "54805              186.3                   6.7                    54.8   \n",
              "54806              220.3                  18.8                    71.0   \n",
              "54807              252.4                  13.2                    52.3   \n",
              "54808              245.7                   6.8                    44.5   \n",
              "54809              316.6                   6.8                    76.1   \n",
              "\n",
              "       sfc_pressure:hPa  layer_thickness_500hPa_1000hPa:m  \n",
              "0                  1008                            5735.7  \n",
              "1                  1010                            5729.9  \n",
              "2                  1008                            5723.6  \n",
              "3                  1014                            5699.5  \n",
              "4                  1020                            5658.2  \n",
              "...                 ...                               ...  \n",
              "54805              1009                            5646.5  \n",
              "54806              1013                            5599.8  \n",
              "54807              1010                            5714.5  \n",
              "54808              1006                            5754.9  \n",
              "54809              1012                            5725.1  \n",
              "\n",
              "[54810 rows x 14 columns]>"
            ]
          },
          "metadata": {},
          "execution_count": 15
        }
      ]
    },
    {
      "cell_type": "markdown",
      "source": [
        "**MATPLOT**"
      ],
      "metadata": {
        "id": "w1MsnYRbjAak"
      }
    },
    {
      "cell_type": "code",
      "source": [
        "plt.scatter(df['precip_24h:mm'],df['layer_thickness_500hPa_1000hPa:m'])\n",
        "plt.show"
      ],
      "metadata": {
        "colab": {
          "base_uri": "https://localhost:8080/",
          "height": 282
        },
        "id": "4DGSFK_rmqGf",
        "outputId": "a5a92a97-cadb-4edb-a279-14338273bfd7"
      },
      "execution_count": 10,
      "outputs": [
        {
          "output_type": "execute_result",
          "data": {
            "text/plain": [
              "<function matplotlib.pyplot.show(*args, **kw)>"
            ]
          },
          "metadata": {},
          "execution_count": 10
        },
        {
          "output_type": "display_data",
          "data": {
            "text/plain": [
              "<Figure size 432x288 with 1 Axes>"
            ],
            "image/png": "[encoded data removed]"
          },
          "metadata": {
            "needs_background": "light"
          }
        }
      ]
    },
    {
      "cell_type": "code",
      "source": [
        "plt.scatter(df['precip_24h:mm'],df['sfc_pressure:hPa'])\n",
        "plt.show"
      ],
      "metadata": {
        "colab": {
          "base_uri": "https://localhost:8080/",
          "height": 282
        },
        "id": "bMq2yRMXnYql",
        "outputId": "3a5f6df8-2cf2-40ff-81cf-81d2a763e5f3"
      },
      "execution_count": 11,
      "outputs": [
        {
          "output_type": "execute_result",
          "data": {
            "text/plain": [
              "<function matplotlib.pyplot.show(*args, **kw)>"
            ]
          },
          "metadata": {},
          "execution_count": 11
        },
        {
          "output_type": "display_data",
          "data": {
            "text/plain": [
              "<Figure size 432x288 with 1 Axes>"
            ],
            "image/png": "[encoded data removed]"
          },
          "metadata": {
            "needs_background": "light"
          }
        }
      ]
    },
    {
      "cell_type": "code",
      "source": [
        "plt.scatter(df['layer_thickness_500hPa_1000hPa:m'],df['sfc_pressure:hPa'])\n",
        "plt.show"
      ],
      "metadata": {
        "colab": {
          "base_uri": "https://localhost:8080/",
          "height": 282
        },
        "id": "JFikipfuoGKN",
        "outputId": "1ae1caa5-36b3-48f3-f95b-5c8bf26b64d8"
      },
      "execution_count": 12,
      "outputs": [
        {
          "output_type": "execute_result",
          "data": {
            "text/plain": [
              "<function matplotlib.pyplot.show(*args, **kw)>"
            ]
          },
          "metadata": {},
          "execution_count": 12
        },
        {
          "output_type": "display_data",
          "data": {
            "text/plain": [
              "<Figure size 432x288 with 1 Axes>"
            ],
            "image/png": "[encoded data removed]"
          },
          "metadata": {
            "needs_background": "light"
          }
        }
      ]
    },
    {
      "cell_type": "markdown",
      "source": [
        "Este grafico me permite visualizar la relacion entre la presion en superficie y el espesor de la capa geopotencial entre 500 y 1000 hPa, esto me permite ver que a medida que la presion en superficie es menor, la relacion es inversamente proporcional con el espesor de la capa entre 1000 y 500 hPa, siendo mayor el espesor de la capa, a medida que disminuye la presion en superficie"
      ],
      "metadata": {
        "id": "UF0KdORxobbt"
      }
    },
    {
      "cell_type": "code",
      "source": [
        "plt.scatter(df['t_2m:C'],df['layer_thickness_500hPa_1000hPa:m'])"
      ],
      "metadata": {
        "colab": {
          "base_uri": "https://localhost:8080/",
          "height": 282
        },
        "id": "qasp8ADM0ohd",
        "outputId": "d7fd01d8-b01e-42e6-c117-80dc98b5d7f2"
      },
      "execution_count": null,
      "outputs": [
        {
          "output_type": "execute_result",
          "data": {
            "text/plain": [
              "<matplotlib.collections.PathCollection at 0x7f078d3ab5b0>"
            ]
          },
          "metadata": {},
          "execution_count": 89
        },
        {
          "output_type": "display_data",
          "data": {
            "text/plain": [
              "<Figure size 432x288 with 1 Axes>"
            ],
            "image/png": "[encoded data removed]"
          },
          "metadata": {
            "needs_background": "light"
          }
        }
      ]
    },
    {
      "cell_type": "markdown",
      "source": [
        "Este grafico me permite visualizar la relacion entre la temperatura en superficie y el espesor de la capa geopotencial entre 500 y 1000 hPa, esto permite ver que a medida que la temperatura en superficie es menor, la relacion es directamente proporcional con el espesor de la capa entre 1000 y 500 hPa, siendo mayor el espesor de la capa, a medida que aumenta la temperatura en superficie"
      ],
      "metadata": {
        "id": "Drl3_tyi09sn"
      }
    },
    {
      "cell_type": "code",
      "source": [
        "plt.scatter(df['t_2m:C'],df['sfc_pressure:hPa'])"
      ],
      "metadata": {
        "colab": {
          "base_uri": "https://localhost:8080/",
          "height": 282
        },
        "id": "b2xeX5KA10oR",
        "outputId": "9f3bde3e-cf62-4a14-80dd-65ede2e14cb8"
      },
      "execution_count": null,
      "outputs": [
        {
          "output_type": "execute_result",
          "data": {
            "text/plain": [
              "<matplotlib.collections.PathCollection at 0x7f078d25b760>"
            ]
          },
          "metadata": {},
          "execution_count": 90
        },
        {
          "output_type": "display_data",
          "data": {
            "text/plain": [
              "<Figure size 432x288 with 1 Axes>"
            ],
            "image/png": "[encoded data removed]"
          },
          "metadata": {
            "needs_background": "light"
          }
        }
      ]
    },
    {
      "cell_type": "code",
      "source": [
        "plt.bar(df['Nombre_Estacio'],df['precip_24h:mm'])\n",
        "plt.xticks(rotation=90)\n",
        "plt.show()"
      ],
      "metadata": {
        "colab": {
          "base_uri": "https://localhost:8080/",
          "height": 410
        },
        "id": "Ehzrkym2r266",
        "outputId": "c998f812-4e8c-4568-a84e-da39ac151acc"
      },
      "execution_count": 27,
      "outputs": [
        {
          "output_type": "display_data",
          "data": {
            "text/plain": [
              "<Figure size 432x288 with 1 Axes>"
            ],
            "image/png": "[encoded data removed]"
          },
          "metadata": {
            "needs_background": "light"
          }
        }
      ]
    },
    {
      "cell_type": "markdown",
      "source": [
        "En este grafico vemos la precipitacion acumulada en 24 hrs por cada estacion meteorologica de las que tenemos disponibles para el analisis"
      ],
      "metadata": {
        "id": "Qh-0o_KUumVw"
      }
    },
    {
      "cell_type": "code",
      "source": [
        "plt.hist(df['relative_humidity_2m:p'], bins=1000)\n",
        "plt.show"
      ],
      "metadata": {
        "id": "AErH8NYyv_gS",
        "colab": {
          "base_uri": "https://localhost:8080/",
          "height": 282
        },
        "outputId": "7f09d515-3c7b-43f6-e3a4-a119844b60b5"
      },
      "execution_count": null,
      "outputs": [
        {
          "output_type": "execute_result",
          "data": {
            "text/plain": [
              "<function matplotlib.pyplot.show(*args, **kw)>"
            ]
          },
          "metadata": {},
          "execution_count": 9
        },
        {
          "output_type": "display_data",
          "data": {
            "text/plain": [
              "<Figure size 432x288 with 1 Axes>"
            ],
            "image/png": "[encoded data removed]"
          },
          "metadata": {
            "needs_background": "light"
          }
        }
      ]
    },
    {
      "cell_type": "markdown",
      "source": [
        "En este grafico tenemos un histograma de la humedad relativa en superficie, en el mismo podemos ver que la humedad entre 70% y 80%, puede ser considerado normal para Buenos Aires"
      ],
      "metadata": {
        "id": "2brRsmF9u55x"
      }
    },
    {
      "cell_type": "code",
      "source": [
        "plt.boxplot(df['layer_thickness_500hPa_1000hPa:m'], patch_artist=True, vert=False)\n",
        "plt.show"
      ],
      "metadata": {
        "colab": {
          "base_uri": "https://localhost:8080/",
          "height": 285
        },
        "id": "Wc4ZOybWFPVD",
        "outputId": "b4515493-de63-4960-f1b7-4e408aa09d71"
      },
      "execution_count": 27,
      "outputs": [
        {
          "output_type": "execute_result",
          "data": {
            "text/plain": [
              "<function matplotlib.pyplot.show(*args, **kw)>"
            ]
          },
          "metadata": {},
          "execution_count": 27
        },
        {
          "output_type": "display_data",
          "data": {
            "text/plain": [
              "<Figure size 432x288 with 1 Axes>"
            ],
            "image/png": "[encoded data removed]"
          },
          "metadata": {}
        }
      ]
    },
    {
      "cell_type": "markdown",
      "source": [
        "**SEABORN**"
      ],
      "metadata": {
        "id": "MkDqFi30LAve"
      }
    },
    {
      "cell_type": "code",
      "source": [
        "sns.set(style=\"dark\", palette=\"dark\", font=\"Arial\",font_scale=1)\n",
        "chart=sns.barplot(df['Nombre_Estacio'], df['precip_24h:mm'])\n",
        "chart.set_xticklabels(\n",
        "    chart.get_xticklabels(), \n",
        "    rotation=90, \n",
        "    horizontalalignment='right'\n",
        ")\n",
        "plt.show"
      ],
      "metadata": {
        "colab": {
          "base_uri": "https://localhost:8080/",
          "height": 518
        },
        "id": "lZN2eSuzLI2c",
        "outputId": "79de22f0-af26-40bf-8927-6ce0fa765e82"
      },
      "execution_count": 26,
      "outputs": [
        {
          "output_type": "stream",
          "name": "stderr",
          "text": [
            "/usr/local/lib/python3.8/dist-packages/seaborn/_decorators.py:36: FutureWarning: Pass the following variables as keyword args: x, y. From version 0.12, the only valid positional argument will be `data`, and passing other arguments without an explicit keyword will result in an error or misinterpretation.\n",
            "  warnings.warn(\n"
          ]
        },
        {
          "output_type": "execute_result",
          "data": {
            "text/plain": [
              "<function matplotlib.pyplot.show(*args, **kw)>"
            ]
          },
          "metadata": {},
          "execution_count": 26
        },
        {
          "output_type": "display_data",
          "data": {
            "text/plain": [
              "<Figure size 432x288 with 1 Axes>"
            ],
            "image/png": "[encoded data removed]"
          },
          "metadata": {}
        }
      ]
    },
    {
      "cell_type": "markdown",
      "source": [
        "En este grafico podemos ver la precipitacion en 24 hrs historica en varias estaciones de la Provincia de Buenos Aires, siendo la estacion Buenos Aires Observatorio, la que mayor cantidad de precipitaciones registro durante este periodo"
      ],
      "metadata": {
        "id": "kyN2yGbPgdPN"
      }
    },
    {
      "cell_type": "code",
      "source": [
        "sns.displot(data=df['Nombre_Estacio'] , x= df['t_500hPa:C']);"
      ],
      "metadata": {
        "colab": {
          "base_uri": "https://localhost:8080/",
          "height": 365
        },
        "id": "35ymcN7NT2B-",
        "outputId": "9633afd8-d92e-4176-c440-8f3cb3e65ca5"
      },
      "execution_count": 31,
      "outputs": [
        {
          "output_type": "display_data",
          "data": {
            "text/plain": [
              "<Figure size 360x360 with 1 Axes>"
            ],
            "image/png": "[encoded data removed]"
          },
          "metadata": {}
        }
      ]
    },
    {
      "cell_type": "code",
      "source": [
        "sns.set(style=\"dark\", palette=\"dark\", font=\"Arial\",font_scale=1)\n",
        "sns.displot(data=df['Nombre_Estacio'] , x= df['t_500hPa:C'], y=df['precip_24h:mm']);"
      ],
      "metadata": {
        "colab": {
          "base_uri": "https://localhost:8080/",
          "height": 365
        },
        "id": "gkgWrshfbLlg",
        "outputId": "0d82150a-f666-4833-bbbe-703542483191"
      },
      "execution_count": 38,
      "outputs": [
        {
          "output_type": "display_data",
          "data": {
            "text/plain": [
              "<Figure size 360x360 with 1 Axes>"
            ],
            "image/png": "[encoded data removed]"
          },
          "metadata": {}
        }
      ]
    },
    {
      "cell_type": "code",
      "source": [
        "sns.displot(data=df['Nombre_Estacio'] , x= df['t_2m:C'], y=df['precip_24h:mm'])"
      ],
      "metadata": {
        "colab": {
          "base_uri": "https://localhost:8080/",
          "height": 386
        },
        "id": "kKBHIAGGbaJx",
        "outputId": "ffb25200-813e-40ab-c5ec-44c96d11e1d1"
      },
      "execution_count": 3,
      "outputs": [
        {
          "output_type": "execute_result",
          "data": {
            "text/plain": [
              "<seaborn.axisgrid.FacetGrid at 0x7f9746437f10>"
            ]
          },
          "metadata": {},
          "execution_count": 3
        },
        {
          "output_type": "display_data",
          "data": {
            "text/plain": [
              "<Figure size 360x360 with 1 Axes>"
            ],
            "image/png": "[encoded data removed]"
          },
          "metadata": {
            "needs_background": "light"
          }
        }
      ]
    },
    {
      "cell_type": "markdown",
      "source": [
        "Aqui vemos que la mayor cantidad de precipitacion en Buenos Aires, se registro historicamente con temperaturas en superficie entre 15 y 25 grados Celcius"
      ],
      "metadata": {
        "id": "HDOM9APYgAg1"
      }
    },
    {
      "cell_type": "code",
      "source": [
        "sns.displot(data=df['Nombre_Estacio'] , x= df['t_2m:C'], y=df['precip_24h:mm'], hue=df['Nombre_Estacio'], kind = 'kde')"
      ],
      "metadata": {
        "colab": {
          "base_uri": "https://localhost:8080/",
          "height": 386
        },
        "id": "baFNbyW7hM86",
        "outputId": "39a58721-dfd8-4436-b5d2-e1f855ffb802"
      },
      "execution_count": 9,
      "outputs": [
        {
          "output_type": "execute_result",
          "data": {
            "text/plain": [
              "<seaborn.axisgrid.FacetGrid at 0x7f9730ddd550>"
            ]
          },
          "metadata": {},
          "execution_count": 9
        },
        {
          "output_type": "display_data",
          "data": {
            "text/plain": [
              "<Figure size 550.375x360 with 1 Axes>"
            ],
            "image/png": "[encoded data removed]"
          },
          "metadata": {
            "needs_background": "light"
          }
        }
      ]
    },
    {
      "cell_type": "markdown",
      "source": [
        "En este grafico se puede ver que en las estaciones Merlo y Buenos Aires Observatorio, fue donde se registraron mayor cantidad de precipitaciones de poca intensidad, y en la estacion de Ezeiza Aero, fue una de las que registro mayor cantidad de precipitaciones de fuerte intensidad,"
      ],
      "metadata": {
        "id": "EybtEsyPiML2"
      }
    },
    {
      "cell_type": "code",
      "source": [
        "sns.displot(data=df['Nombre_Estacio'] , x= df['t_2m:C'], y=df['t_500hPa:C'])"
      ],
      "metadata": {
        "colab": {
          "base_uri": "https://localhost:8080/",
          "height": 386
        },
        "id": "Jn4zBCI9eY-b",
        "outputId": "f386f1ea-1f74-4d8e-fba6-6da2bc241155"
      },
      "execution_count": 4,
      "outputs": [
        {
          "output_type": "execute_result",
          "data": {
            "text/plain": [
              "<seaborn.axisgrid.FacetGrid at 0x7f97455b16a0>"
            ]
          },
          "metadata": {},
          "execution_count": 4
        },
        {
          "output_type": "display_data",
          "data": {
            "text/plain": [
              "<Figure size 360x360 with 1 Axes>"
            ],
            "image/png": "[encoded data removed]"
          },
          "metadata": {
            "needs_background": "light"
          }
        }
      ]
    },
    {
      "cell_type": "markdown",
      "source": [
        "En este grafico se puede observar que el aumento y la disminucion de la temperatura en superficie y en 500 hPa es directamente proporcional"
      ],
      "metadata": {
        "id": "km_jjKqofvTq"
      }
    },
    {
      "cell_type": "code",
      "source": [
        "sns.displot(data=df['Nombre_Estacio'] , x= df['t_2m:C'], y=df['layer_thickness_500hPa_1000hPa:m'])"
      ],
      "metadata": {
        "colab": {
          "base_uri": "https://localhost:8080/",
          "height": 386
        },
        "id": "HaIaZvtgesMX",
        "outputId": "cf0f48cf-4113-43f8-898a-2c7811e1dd46"
      },
      "execution_count": 5,
      "outputs": [
        {
          "output_type": "execute_result",
          "data": {
            "text/plain": [
              "<seaborn.axisgrid.FacetGrid at 0x7f972f686cd0>"
            ]
          },
          "metadata": {},
          "execution_count": 5
        },
        {
          "output_type": "display_data",
          "data": {
            "text/plain": [
              "<Figure size 360x360 with 1 Axes>"
            ],
            "image/png": "[encoded data removed]"
          },
          "metadata": {
            "needs_background": "light"
          }
        }
      ]
    },
    {
      "cell_type": "code",
      "source": [
        "sns.displot(data=df['Nombre_Estacio'] , x= df['t_500hPa:C'], y=df['layer_thickness_500hPa_1000hPa:m'])\n",
        "plt.show"
      ],
      "metadata": {
        "colab": {
          "base_uri": "https://localhost:8080/",
          "height": 386
        },
        "id": "jIrfC6tQe2ok",
        "outputId": "66cc193c-b71f-4730-a3fe-5179ce2fb9ba"
      },
      "execution_count": 7,
      "outputs": [
        {
          "output_type": "execute_result",
          "data": {
            "text/plain": [
              "<function matplotlib.pyplot.show(*args, **kw)>"
            ]
          },
          "metadata": {},
          "execution_count": 7
        },
        {
          "output_type": "display_data",
          "data": {
            "text/plain": [
              "<Figure size 360x360 with 1 Axes>"
            ],
            "image/png": "[encoded data removed]"
          },
          "metadata": {
            "needs_background": "light"
          }
        }
      ]
    },
    {
      "cell_type": "markdown",
      "source": [
        "En estos ultimos dos graficos se puede ver la relacion con el espesor de capa geopotencial entre 500 y 1000 hPa y la temperatura en Superficie y en 500 hPa, en ambos casos se puede ver que a menor temperatura, menor es el espesor de la capa entre 500 y 1000 hPa"
      ],
      "metadata": {
        "id": "NFzSBQZLfQXK"
      }
    },
    {
      "cell_type": "code",
      "source": [
        "sns.histplot(data = df, x=df['valid date'], y= df['precip_24h:mm'], bins=12)\n",
        "plt.show"
      ],
      "metadata": {
        "colab": {
          "base_uri": "https://localhost:8080/",
          "height": 296
        },
        "id": "oG5HQoT2rCW1",
        "outputId": "66017a23-8de9-493b-c4a9-0eb9dcdbf788"
      },
      "execution_count": 26,
      "outputs": [
        {
          "output_type": "execute_result",
          "data": {
            "text/plain": [
              "<function matplotlib.pyplot.show(*args, **kw)>"
            ]
          },
          "metadata": {},
          "execution_count": 26
        },
        {
          "output_type": "display_data",
          "data": {
            "text/plain": [
              "<Figure size 432x288 with 1 Axes>"
            ],
            "image/png": "[encoded data removed]"
          },
          "metadata": {
            "needs_background": "light"
          }
        }
      ]
    },
    {
      "cell_type": "markdown",
      "source": [
        "En esta grafica vemos la distribucion de la precipitacion en toda la serie temporal, en la misma podemos ver que en los ultimos años se han venido presentando precipitaciones de mayor intensidad con respecto a los primeros años de la serie"
      ],
      "metadata": {
        "id": "gq6mdXPwtsML"
      }
    },
    {
      "cell_type": "code",
      "source": [
        "sns.displot(data = df, x= df['layer_thickness_500hPa_1000hPa:m'], kind='kde')\n",
        "plt.show"
      ],
      "metadata": {
        "colab": {
          "base_uri": "https://localhost:8080/",
          "height": 386
        },
        "id": "VnMH3FSJxa0_",
        "outputId": "f453a236-d9aa-4e50-c82c-2e72674a421c"
      },
      "execution_count": 39,
      "outputs": [
        {
          "output_type": "execute_result",
          "data": {
            "text/plain": [
              "<function matplotlib.pyplot.show(*args, **kw)>"
            ]
          },
          "metadata": {},
          "execution_count": 39
        },
        {
          "output_type": "display_data",
          "data": {
            "text/plain": [
              "<Figure size 360x360 with 1 Axes>"
            ],
            "image/png": "[encoded data removed]"
          },
          "metadata": {
            "needs_background": "light"
          }
        }
      ]
    },
    {
      "cell_type": "code",
      "source": [
        "df.corr()"
      ],
      "metadata": {
        "colab": {
          "base_uri": "https://localhost:8080/",
          "height": 490
        },
        "id": "K-0MHoUS2qky",
        "outputId": "cf13acdf-7343-4fc7-ff24-a7c36279d490"
      },
      "execution_count": 40,
      "outputs": [
        {
          "output_type": "execute_result",
          "data": {
            "text/plain": [
              "                                       lat       lon  precip_24h:mm    t_2m:C  \\\n",
              "lat                               1.000000 -0.470395       0.019202  0.217558   \n",
              "lon                              -0.470395  1.000000      -0.000181 -0.022008   \n",
              "precip_24h:mm                     0.019202 -0.000181       1.000000  0.027696   \n",
              "t_2m:C                            0.217558 -0.022008       0.027696  1.000000   \n",
              "t_500hPa:C                        0.148703 -0.066241       0.086625  0.760097   \n",
              "wind_dir_10m:d                   -0.031752  0.041509       0.092866 -0.184937   \n",
              "wind_speed_11m:ms                 0.103159  0.206117       0.102492  0.033531   \n",
              "wind_dir_500hPa:d                 0.008231 -0.009375       0.089425 -0.051478   \n",
              "wind_speed_500hPa:ms             -0.033979  0.022723       0.152500 -0.334537   \n",
              "relative_humidity_2m:p           -0.128194  0.169087       0.179858 -0.119449   \n",
              "sfc_pressure:hPa                 -0.078215  0.323855      -0.171514 -0.554483   \n",
              "layer_thickness_500hPa_1000hPa:m  0.157882 -0.087425       0.057915  0.851113   \n",
              "\n",
              "                                  t_500hPa:C  wind_dir_10m:d  \\\n",
              "lat                                 0.148703       -0.031752   \n",
              "lon                                -0.066241        0.041509   \n",
              "precip_24h:mm                       0.086625        0.092866   \n",
              "t_2m:C                              0.760097       -0.184937   \n",
              "t_500hPa:C                          1.000000       -0.262745   \n",
              "wind_dir_10m:d                     -0.262745        1.000000   \n",
              "wind_speed_11m:ms                   0.020969       -0.019531   \n",
              "wind_dir_500hPa:d                  -0.028373       -0.027327   \n",
              "wind_speed_500hPa:ms               -0.276909        0.289128   \n",
              "relative_humidity_2m:p              0.074692       -0.103944   \n",
              "sfc_pressure:hPa                   -0.443054       -0.029817   \n",
              "layer_thickness_500hPa_1000hPa:m    0.927975       -0.277859   \n",
              "\n",
              "                                  wind_speed_11m:ms  wind_dir_500hPa:d  \\\n",
              "lat                                        0.103159           0.008231   \n",
              "lon                                        0.206117          -0.009375   \n",
              "precip_24h:mm                              0.102492           0.089425   \n",
              "t_2m:C                                     0.033531          -0.051478   \n",
              "t_500hPa:C                                 0.020969          -0.028373   \n",
              "wind_dir_10m:d                            -0.019531          -0.027327   \n",
              "wind_speed_11m:ms                          1.000000          -0.017661   \n",
              "wind_dir_500hPa:d                         -0.017661           1.000000   \n",
              "wind_speed_500hPa:ms                       0.027306           0.261078   \n",
              "relative_humidity_2m:p                    -0.020704           0.148573   \n",
              "sfc_pressure:hPa                           0.114742          -0.166141   \n",
              "layer_thickness_500hPa_1000hPa:m          -0.025624           0.030063   \n",
              "\n",
              "                                  wind_speed_500hPa:ms  \\\n",
              "lat                                          -0.033979   \n",
              "lon                                           0.022723   \n",
              "precip_24h:mm                                 0.152500   \n",
              "t_2m:C                                       -0.334537   \n",
              "t_500hPa:C                                   -0.276909   \n",
              "wind_dir_10m:d                                0.289128   \n",
              "wind_speed_11m:ms                             0.027306   \n",
              "wind_dir_500hPa:d                             0.261078   \n",
              "wind_speed_500hPa:ms                          1.000000   \n",
              "relative_humidity_2m:p                       -0.060714   \n",
              "sfc_pressure:hPa                             -0.062204   \n",
              "layer_thickness_500hPa_1000hPa:m             -0.330819   \n",
              "\n",
              "                                  relative_humidity_2m:p  sfc_pressure:hPa  \\\n",
              "lat                                            -0.128194         -0.078215   \n",
              "lon                                             0.169087          0.323855   \n",
              "precip_24h:mm                                   0.179858         -0.171514   \n",
              "t_2m:C                                         -0.119449         -0.554483   \n",
              "t_500hPa:C                                      0.074692         -0.443054   \n",
              "wind_dir_10m:d                                 -0.103944         -0.029817   \n",
              "wind_speed_11m:ms                              -0.020704          0.114742   \n",
              "wind_dir_500hPa:d                               0.148573         -0.166141   \n",
              "wind_speed_500hPa:ms                           -0.060714         -0.062204   \n",
              "relative_humidity_2m:p                          1.000000         -0.062973   \n",
              "sfc_pressure:hPa                               -0.062973          1.000000   \n",
              "layer_thickness_500hPa_1000hPa:m                0.119955         -0.580130   \n",
              "\n",
              "                                  layer_thickness_500hPa_1000hPa:m  \n",
              "lat                                                       0.157882  \n",
              "lon                                                      -0.087425  \n",
              "precip_24h:mm                                             0.057915  \n",
              "t_2m:C                                                    0.851113  \n",
              "t_500hPa:C                                                0.927975  \n",
              "wind_dir_10m:d                                           -0.277859  \n",
              "wind_speed_11m:ms                                        -0.025624  \n",
              "wind_dir_500hPa:d                                         0.030063  \n",
              "wind_speed_500hPa:ms                                     -0.330819  \n",
              "relative_humidity_2m:p                                    0.119955  \n",
              "sfc_pressure:hPa                                         -0.580130  \n",
              "layer_thickness_500hPa_1000hPa:m                          1.000000  "
            ],
            "text/html": [
              "\n",
              "  <div id=\"df-35a822a9-e0c4-4852-9309-6afb8284bd79\">\n",
              "    <div class=\"colab-df-container\">\n",
              "      <div>\n",
              "<style scoped>\n",
              "    .dataframe tbody tr th:only-of-type {\n",
              "        vertical-align: middle;\n",
              "    }\n",
              "\n",
              "    .dataframe tbody tr th {\n",
              "        vertical-align: top;\n",
              "    }\n",
              "\n",
              "    .dataframe thead th {\n",
              "        text-align: right;\n",
              "    }\n",
              "</style>\n",
              "<table border=\"1\" class=\"dataframe\">\n",
              "  <thead>\n",
              "    <tr style=\"text-align: right;\">\n",
              "      <th></th>\n",
              "      <th>lat</th>\n",
              "      <th>lon</th>\n",
              "      <th>precip_24h:mm</th>\n",
              "      <th>t_2m:C</th>\n",
              "      <th>t_500hPa:C</th>\n",
              "      <th>wind_dir_10m:d</th>\n",
              "      <th>wind_speed_11m:ms</th>\n",
              "      <th>wind_dir_500hPa:d</th>\n",
              "      <th>wind_speed_500hPa:ms</th>\n",
              "      <th>relative_humidity_2m:p</th>\n",
              "      <th>sfc_pressure:hPa</th>\n",
              "      <th>layer_thickness_500hPa_1000hPa:m</th>\n",
              "    </tr>\n",
              "  </thead>\n",
              "  <tbody>\n",
              "    <tr>\n",
              "      <th>lat</th>\n",
              "      <td>1.000000</td>\n",
              "      <td>-0.470395</td>\n",
              "      <td>0.019202</td>\n",
              "      <td>0.217558</td>\n",
              "      <td>0.148703</td>\n",
              "      <td>-0.031752</td>\n",
              "      <td>0.103159</td>\n",
              "      <td>0.008231</td>\n",
              "      <td>-0.033979</td>\n",
              "      <td>-0.128194</td>\n",
              "      <td>-0.078215</td>\n",
              "      <td>0.157882</td>\n",
              "    </tr>\n",
              "    <tr>\n",
              "      <th>lon</th>\n",
              "      <td>-0.470395</td>\n",
              "      <td>1.000000</td>\n",
              "      <td>-0.000181</td>\n",
              "      <td>-0.022008</td>\n",
              "      <td>-0.066241</td>\n",
              "      <td>0.041509</td>\n",
              "      <td>0.206117</td>\n",
              "      <td>-0.009375</td>\n",
              "      <td>0.022723</td>\n",
              "      <td>0.169087</td>\n",
              "      <td>0.323855</td>\n",
              "      <td>-0.087425</td>\n",
              "    </tr>\n",
              "    <tr>\n",
              "      <th>precip_24h:mm</th>\n",
              "      <td>0.019202</td>\n",
              "      <td>-0.000181</td>\n",
              "      <td>1.000000</td>\n",
              "      <td>0.027696</td>\n",
              "      <td>0.086625</td>\n",
              "      <td>0.092866</td>\n",
              "      <td>0.102492</td>\n",
              "      <td>0.089425</td>\n",
              "      <td>0.152500</td>\n",
              "      <td>0.179858</td>\n",
              "      <td>-0.171514</td>\n",
              "      <td>0.057915</td>\n",
              "    </tr>\n",
              "    <tr>\n",
              "      <th>t_2m:C</th>\n",
              "      <td>0.217558</td>\n",
              "      <td>-0.022008</td>\n",
              "      <td>0.027696</td>\n",
              "      <td>1.000000</td>\n",
              "      <td>0.760097</td>\n",
              "      <td>-0.184937</td>\n",
              "      <td>0.033531</td>\n",
              "      <td>-0.051478</td>\n",
              "      <td>-0.334537</td>\n",
              "      <td>-0.119449</td>\n",
              "      <td>-0.554483</td>\n",
              "      <td>0.851113</td>\n",
              "    </tr>\n",
              "    <tr>\n",
              "      <th>t_500hPa:C</th>\n",
              "      <td>0.148703</td>\n",
              "      <td>-0.066241</td>\n",
              "      <td>0.086625</td>\n",
              "      <td>0.760097</td>\n",
              "      <td>1.000000</td>\n",
              "      <td>-0.262745</td>\n",
              "      <td>0.020969</td>\n",
              "      <td>-0.028373</td>\n",
              "      <td>-0.276909</td>\n",
              "      <td>0.074692</td>\n",
              "      <td>-0.443054</td>\n",
              "      <td>0.927975</td>\n",
              "    </tr>\n",
              "    <tr>\n",
              "      <th>wind_dir_10m:d</th>\n",
              "      <td>-0.031752</td>\n",
              "      <td>0.041509</td>\n",
              "      <td>0.092866</td>\n",
              "      <td>-0.184937</td>\n",
              "      <td>-0.262745</td>\n",
              "      <td>1.000000</td>\n",
              "      <td>-0.019531</td>\n",
              "      <td>-0.027327</td>\n",
              "      <td>0.289128</td>\n",
              "      <td>-0.103944</td>\n",
              "      <td>-0.029817</td>\n",
              "      <td>-0.277859</td>\n",
              "    </tr>\n",
              "    <tr>\n",
              "      <th>wind_speed_11m:ms</th>\n",
              "      <td>0.103159</td>\n",
              "      <td>0.206117</td>\n",
              "      <td>0.102492</td>\n",
              "      <td>0.033531</td>\n",
              "      <td>0.020969</td>\n",
              "      <td>-0.019531</td>\n",
              "      <td>1.000000</td>\n",
              "      <td>-0.017661</td>\n",
              "      <td>0.027306</td>\n",
              "      <td>-0.020704</td>\n",
              "      <td>0.114742</td>\n",
              "      <td>-0.025624</td>\n",
              "    </tr>\n",
              "    <tr>\n",
              "      <th>wind_dir_500hPa:d</th>\n",
              "      <td>0.008231</td>\n",
              "      <td>-0.009375</td>\n",
              "      <td>0.089425</td>\n",
              "      <td>-0.051478</td>\n",
              "      <td>-0.028373</td>\n",
              "      <td>-0.027327</td>\n",
              "      <td>-0.017661</td>\n",
              "      <td>1.000000</td>\n",
              "      <td>0.261078</td>\n",
              "      <td>0.148573</td>\n",
              "      <td>-0.166141</td>\n",
              "      <td>0.030063</td>\n",
              "    </tr>\n",
              "    <tr>\n",
              "      <th>wind_speed_500hPa:ms</th>\n",
              "      <td>-0.033979</td>\n",
              "      <td>0.022723</td>\n",
              "      <td>0.152500</td>\n",
              "      <td>-0.334537</td>\n",
              "      <td>-0.276909</td>\n",
              "      <td>0.289128</td>\n",
              "      <td>0.027306</td>\n",
              "      <td>0.261078</td>\n",
              "      <td>1.000000</td>\n",
              "      <td>-0.060714</td>\n",
              "      <td>-0.062204</td>\n",
              "      <td>-0.330819</td>\n",
              "    </tr>\n",
              "    <tr>\n",
              "      <th>relative_humidity_2m:p</th>\n",
              "      <td>-0.128194</td>\n",
              "      <td>0.169087</td>\n",
              "      <td>0.179858</td>\n",
              "      <td>-0.119449</td>\n",
              "      <td>0.074692</td>\n",
              "      <td>-0.103944</td>\n",
              "      <td>-0.020704</td>\n",
              "      <td>0.148573</td>\n",
              "      <td>-0.060714</td>\n",
              "      <td>1.000000</td>\n",
              "      <td>-0.062973</td>\n",
              "      <td>0.119955</td>\n",
              "    </tr>\n",
              "    <tr>\n",
              "      <th>sfc_pressure:hPa</th>\n",
              "      <td>-0.078215</td>\n",
              "      <td>0.323855</td>\n",
              "      <td>-0.171514</td>\n",
              "      <td>-0.554483</td>\n",
              "      <td>-0.443054</td>\n",
              "      <td>-0.029817</td>\n",
              "      <td>0.114742</td>\n",
              "      <td>-0.166141</td>\n",
              "      <td>-0.062204</td>\n",
              "      <td>-0.062973</td>\n",
              "      <td>1.000000</td>\n",
              "      <td>-0.580130</td>\n",
              "    </tr>\n",
              "    <tr>\n",
              "      <th>layer_thickness_500hPa_1000hPa:m</th>\n",
              "      <td>0.157882</td>\n",
              "      <td>-0.087425</td>\n",
              "      <td>0.057915</td>\n",
              "      <td>0.851113</td>\n",
              "      <td>0.927975</td>\n",
              "      <td>-0.277859</td>\n",
              "      <td>-0.025624</td>\n",
              "      <td>0.030063</td>\n",
              "      <td>-0.330819</td>\n",
              "      <td>0.119955</td>\n",
              "      <td>-0.580130</td>\n",
              "      <td>1.000000</td>\n",
              "    </tr>\n",
              "  </tbody>\n",
              "</table>\n",
              "</div>\n",
              "      <button class=\"colab-df-convert\" onclick=\"convertToInteractive('df-35a822a9-e0c4-4852-9309-6afb8284bd79')\"\n",
              "              title=\"Convert this dataframe to an interactive table.\"\n",
              "              style=\"display:none;\">\n",
              "        \n",
              "  <svg xmlns=\"http://www.w3.org/2000/svg\" height=\"24px\"viewBox=\"0 0 24 24\"\n",
              "       width=\"24px\">\n",
              "    <path d=\"M0 0h24v24H0V0z\" fill=\"none\"/>\n",
              "    <path d=\"M18.56 5.44l.94 2.06.94-2.06 2.06-.94-2.06-.94-.94-2.06-.94 2.06-2.06.94zm-11 1L8.5 8.5l.94-2.06 2.06-.94-2.06-.94L8.5 2.5l-.94 2.06-2.06.94zm10 10l.94 2.06.94-2.06 2.06-.94-2.06-.94-.94-2.06-.94 2.06-2.06.94z\"/><path d=\"M17.41 7.96l-1.37-1.37c-.4-.4-.92-.59-1.43-.59-.52 0-1.04.2-1.43.59L10.3 9.45l-7.72 7.72c-.78.78-.78 2.05 0 2.83L4 21.41c.39.39.9.59 1.41.59.51 0 1.02-.2 1.41-.59l7.78-7.78 2.81-2.81c.8-.78.8-2.07 0-2.86zM5.41 20L4 18.59l7.72-7.72 1.47 1.35L5.41 20z\"/>\n",
              "  </svg>\n",
              "      </button>\n",
              "      \n",
              "  <style>\n",
              "    .colab-df-container {\n",
              "      display:flex;\n",
              "      flex-wrap:wrap;\n",
              "      gap: 12px;\n",
              "    }\n",
              "\n",
              "    .colab-df-convert {\n",
              "      background-color: #E8F0FE;\n",
              "      border: none;\n",
              "      border-radius: 50%;\n",
              "      cursor: pointer;\n",
              "      display: none;\n",
              "      fill: #1967D2;\n",
              "      height: 32px;\n",
              "      padding: 0 0 0 0;\n",
              "      width: 32px;\n",
              "    }\n",
              "\n",
              "    .colab-df-convert:hover {\n",
              "      background-color: #E2EBFA;\n",
              "      box-shadow: 0px 1px 2px rgba(60, 64, 67, 0.3), 0px 1px 3px 1px rgba(60, 64, 67, 0.15);\n",
              "      fill: #174EA6;\n",
              "    }\n",
              "\n",
              "    [theme=dark] .colab-df-convert {\n",
              "      background-color: #3B4455;\n",
              "      fill: #D2E3FC;\n",
              "    }\n",
              "\n",
              "    [theme=dark] .colab-df-convert:hover {\n",
              "      background-color: #434B5C;\n",
              "      box-shadow: 0px 1px 3px 1px rgba(0, 0, 0, 0.15);\n",
              "      filter: drop-shadow(0px 1px 2px rgba(0, 0, 0, 0.3));\n",
              "      fill: #FFFFFF;\n",
              "    }\n",
              "  </style>\n",
              "\n",
              "      <script>\n",
              "        const buttonEl =\n",
              "          document.querySelector('#df-35a822a9-e0c4-4852-9309-6afb8284bd79 button.colab-df-convert');\n",
              "        buttonEl.style.display =\n",
              "          google.colab.kernel.accessAllowed ? 'block' : 'none';\n",
              "\n",
              "        async function convertToInteractive(key) {\n",
              "          const element = document.querySelector('#df-35a822a9-e0c4-4852-9309-6afb8284bd79');\n",
              "          const dataTable =\n",
              "            await google.colab.kernel.invokeFunction('convertToInteractive',\n",
              "                                                     [key], {});\n",
              "          if (!dataTable) return;\n",
              "\n",
              "          const docLinkHtml = 'Like what you see? Visit the ' +\n",
              "            '<a target=\"_blank\" href=https://colab.research.google.com/notebooks/data_table.ipynb>data table notebook</a>'\n",
              "            + ' to learn more about interactive tables.';\n",
              "          element.innerHTML = '';\n",
              "          dataTable['output_type'] = 'display_data';\n",
              "          await google.colab.output.renderOutput(dataTable, element);\n",
              "          const docLink = document.createElement('div');\n",
              "          docLink.innerHTML = docLinkHtml;\n",
              "          element.appendChild(docLink);\n",
              "        }\n",
              "      </script>\n",
              "    </div>\n",
              "  </div>\n",
              "  "
            ]
          },
          "metadata": {},
          "execution_count": 40
        }
      ]
    },
    {
      "cell_type": "markdown",
      "source": [
        "En esta tabla podemos corroborar lo que hemos visto ya en todo el analisis y podemos saber cuales son las variables que estan mejor correlacionadas entre si\n"
      ],
      "metadata": {
        "id": "nKJwAk0925BC"
      }
    },
    {
      "cell_type": "code",
      "source": [
        "#annot=True, me deja ver los valores de la correlacion en cada cuadro\n",
        "sns.heatmap(df.corr(), annot=False, cmap='coolwarm', linewidths='5',linecolor='white')"
      ],
      "metadata": {
        "colab": {
          "base_uri": "https://localhost:8080/",
          "height": 457
        },
        "id": "zHEA5Le23uU-",
        "outputId": "e2db0c63-0262-48c7-85d4-b94e8afa65d6"
      },
      "execution_count": 50,
      "outputs": [
        {
          "output_type": "execute_result",
          "data": {
            "text/plain": [
              "<matplotlib.axes._subplots.AxesSubplot at 0x7f970218e730>"
            ]
          },
          "metadata": {},
          "execution_count": 50
        },
        {
          "output_type": "display_data",
          "data": {
            "text/plain": [
              "<Figure size 432x288 with 2 Axes>"
            ],
            "image/png": "[encoded data removed]"
          },
          "metadata": {
            "needs_background": "light"
          }
        }
      ]
    },
    {
      "cell_type": "markdown",
      "source": [
        "Vemos lo mismo que veiamos antes, pero ahora en un Mapa de Calor y podemos identificar facilmente, cuales son las variables con mayor correlacion"
      ],
      "metadata": {
        "id": "_90tha0P3zpO"
      }
    }
  ]
}