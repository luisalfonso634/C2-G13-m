{
  "nbformat": 4,
  "nbformat_minor": 0,
  "metadata": {
    "colab": {
      "provenance": [],
      "authorship_tag": "ABX9TyM9Oxx+Z6uYiu3oD51nb/if",
      "include_colab_link": true
    },
    "kernelspec": {
      "name": "python3",
      "display_name": "Python 3"
    },
    "language_info": {
      "name": "python"
    }
  },
  "cells": [
    {
      "cell_type": "markdown",
      "metadata": {
        "id": "view-in-github",
        "colab_type": "text"
      },
      "source": [
        "<a href=\"https://colab.research.google.com/github/luisalfonso634/C2-G13-m/blob/main/4TA_ENTREGA25feb23.ipynb\" target=\"_parent\"><img src=\"https://colab.research.google.com/assets/colab-badge.svg\" alt=\"Open In Colab\"/></a>"
      ]
    },
    {
      "cell_type": "markdown",
      "source": [
        "\n",
        "\n",
        "# PRONOSTICAR LA OCURRENCIA DE PRECIPITACION EN BASE A LOS VALORES DE OTROS PARAMETROS METEOROLOGICOS\n"
      ],
      "metadata": {
        "id": "fCHTLXcjPaIj"
      }
    },
    {
      "cell_type": "markdown",
      "source": [
        "**Introduccion**"
      ],
      "metadata": {
        "id": "pq1EaKSgdJ-p"
      }
    },
    {
      "cell_type": "markdown",
      "source": [
        "La investigacion propuesta puede ser relevante para varios sectores económicos que dependen del clima o están relacionados con él. Tales como:\n",
        "Sector Agricola: Los agricultores pueden utilizar los datos de precipitación, temperatura, presión en superficie y humedad relativa para planificar las siembras, el riego y el uso de pesticidas.\n",
        "\n",
        "Sector Energía: Las empresas de energía, especialmente las que producen energía hidroeléctrica, pueden utilizar los datos meteorológicos para planificar la generación de energía y prevenir riesgos de inundaciones.\n",
        "\n",
        "Sector Transporte: Las empresas de transporte, como las aerolíneas y las empresas de transporte marítimo, pueden utilizar los datos meteorológicos para planificar sus operaciones y prever posibles retrasos o cancelaciones debido a las condiciones climáticas.\n",
        "\n",
        "Sector Turismo: Las empresas de turismo, como las compañías de aereas, los operadores de actividades al aire libre y los hoteles, pueden utilizar los datos meteorológicos para planificar sus operaciones y ofrecer experiencias atractivas a los clientes.\n",
        "\n",
        "En resumen, este trabajo puede ser relevante para cualquier sector que dependa del clima o que esté relacionado con él, ya que la capacidad de pronosticar la precipitación con datos meteorológicos precisos puede tener un impacto significativo en la toma de decisiones empresariales."
      ],
      "metadata": {
        "id": "C9R4CwnUeA4q"
      }
    },
    {
      "cell_type": "markdown",
      "source": [
        "**HIPOTESIS**"
      ],
      "metadata": {
        "id": "BbT_FmJWfcmX"
      }
    },
    {
      "cell_type": "markdown",
      "source": [
        "Existe una relación entre la cantidad de precipitación en las últimas 24 horas y la temperatura, la presión en superficie y la humedad relativa a 2 metros de altura. A medida que aumentan la humedad relativa y la presión en superficie, y disminuye la temperatura, aumenta la probabilidad de que ocurra precipitación en las próximas horas.\n"
      ],
      "metadata": {
        "id": "V72RN9zzff-c"
      }
    },
    {
      "cell_type": "markdown",
      "source": [
        "**METODOLOGIA PROPUESTA**"
      ],
      "metadata": {
        "id": "7tiG_xKDfugi"
      }
    },
    {
      "cell_type": "markdown",
      "source": [
        "Para poner a prueba esta hipótesis, se realizará un análisis de regresión para determinar la influencia que tiene cada una de estas variables en la cantidad de precipitación en las próximas horas. \n",
        "Además, se podran utilizar técnicas de modelado predictivo para desarrollar un modelo que permita predecir la probabilidad de precipitación en función de las variables mencionadas."
      ],
      "metadata": {
        "id": "S3Nkb6Q8f5sy"
      }
    },
    {
      "cell_type": "markdown",
      "source": [
        "**Problema Comercial:** Crear un modelo para predecir la precipitacion en base a otros parametros meteorológicos"
      ],
      "metadata": {
        "id": "hhO96MWVgPOS"
      }
    },
    {
      "cell_type": "markdown",
      "source": [
        "**Contexto analítico:** Como parte de una empresa consultora, los siguientes datos se han recopilado y están disponibles en el drive:\n",
        "\n",
        "El archivo ***\"Weather_DATASET_2_Buenos_Aires_2008_2022.xlsx\"***.  \n",
        "Esta una Base de Datos compartida por METEOMATICS, con 54810 filas y 14 parametros distintos (columnas)\n",
        " (https://www.meteomatics.com/en/weather-api/?ppc_keyword=meteomatics&gclid=Cj0KCQiAn4SeBhCwARIsANeF9DLv5OV9Bz-p5NOgLt6hKZiss9g7CdySQ_hlHBY8OFuxCyXPrJQebpYaAiUOEALw_wcB), con informacion de varios parametros meteorologicos en un periodo de tiempo que va desde el 01ENE2008 al 01ENE2023.\n",
        "\n",
        "Es una base de datos que contiene información climática recopilada de diversas estaciones meteorológicas. La base de datos cuenta con 17 columnas que incluyen información como la ubicación de la estación meteorológica (latitud y longitud), el nombre de la estación, la fecha y hora de las mediciones, así como diversos datos climáticos como la cantidad de precipitación en las últimas 24 horas, temperatura, dirección y velocidad del viento, humedad relativa, presión en superficie, espesor de la capa entre 500 y 1000 hPa, entre otros.\n",
        "\n",
        "La información de la base de datos puede ser utilizada para realizar análisis climáticos y pronósticos meteorológicos en diferentes sectores económicos como la agricultura, la aviación, la energía, entre otros, que requieren conocer la variabilidad del clima y sus impactos. También puede ser utilizada para la investigación científica en el campo de la climatología y la meteorología o cualquiera de los campos que se indicaron anteriormente."
      ],
      "metadata": {
        "id": "_Qfe-Vyegtr6"
      }
    },
    {
      "cell_type": "code",
      "source": [
        "! pip install -q chart_studio\n",
        "! pip install -q bqplot\n",
        "! pip install -q pingouin\n",
        "!pip install pyreadstat\n",
        "import pyreadstat\n",
        "import pandas as pd \n",
        "import numpy as np \n",
        "import matplotlib.pyplot as plt\n",
        "from   scipy import stats\n",
        "from matplotlib.patches import Rectangle\n",
        "import seaborn as sns\n",
        "from google.colab import files\n",
        "from google.colab import drive\n",
        "from datetime import datetime, timedelta\n",
        "from pandas import DataFrame\n",
        "import statsmodels.formula.api as sm\n",
        "import chart_studio.plotly     as py\n",
        "import pyreadstat\n",
        "drive.mount('/content/drive')\n",
        "df = pd.read_excel('/content/drive/MyDrive/Wheather Data Set 2/Weather_DATASET_2_Buenos_Aires_2008_2022.xlsx')\n",
        "dfweather2=df\n",
        "\n",
        "#Para separar una columna con fecha y hora en dos columnas diferentes\n",
        "dfweather2['Date'] = pd.to_datetime(dfweather2['valid date']).dt.date\n",
        "\n",
        "#Pase Date a type datetime\n",
        "dfweather2['Date'] = pd.to_datetime(dfweather2['Date'])\n",
        "dfweather2['Month'] = pd.to_datetime( dfweather2['Date'] , format='%YYY%MM%DD')\n",
        "\n",
        "#Para extraer el mes de la fecha y guardarlo en un campo aparte\n",
        "df['Month2'] = dfweather2['Month'].dt.month \n",
        "\n",
        "dfweather3=dfweather2[['Month2','precip_24h:mm','t_2m:C','t_500hPa:C','relative_humidity_2m:p',\t'sfc_pressure:hPa',\t'layer_thickness_500hPa_1000hPa:m','wind_dir_10m:d',\t'wind_speed_11m:ms',\t'wind_dir_500hPa:d',\t'wind_speed_500hPa:ms']]\n",
        "dfweather3"
      ],
      "metadata": {
        "colab": {
          "base_uri": "https://localhost:8080/",
          "height": 627
        },
        "id": "digXsth1UIeI",
        "outputId": "7b4c841a-7b71-4f11-b5c9-dff6a3c5e05d"
      },
      "execution_count": 9,
      "outputs": [
        {
          "output_type": "stream",
          "name": "stdout",
          "text": [
            "Looking in indexes: https://pypi.org/simple, https://us-python.pkg.dev/colab-wheels/public/simple/\n",
            "Requirement already satisfied: pyreadstat in /usr/local/lib/python3.8/dist-packages (1.2.1)\n",
            "Requirement already satisfied: pandas>=1.2.0 in /usr/local/lib/python3.8/dist-packages (from pyreadstat) (1.3.5)\n",
            "Requirement already satisfied: python-dateutil>=2.7.3 in /usr/local/lib/python3.8/dist-packages (from pandas>=1.2.0->pyreadstat) (2.8.2)\n",
            "Requirement already satisfied: pytz>=2017.3 in /usr/local/lib/python3.8/dist-packages (from pandas>=1.2.0->pyreadstat) (2022.7.1)\n",
            "Requirement already satisfied: numpy>=1.17.3 in /usr/local/lib/python3.8/dist-packages (from pandas>=1.2.0->pyreadstat) (1.22.4)\n",
            "Requirement already satisfied: six>=1.5 in /usr/local/lib/python3.8/dist-packages (from python-dateutil>=2.7.3->pandas>=1.2.0->pyreadstat) (1.15.0)\n",
            "Drive already mounted at /content/drive; to attempt to forcibly remount, call drive.mount(\"/content/drive\", force_remount=True).\n"
          ]
        },
        {
          "output_type": "execute_result",
          "data": {
            "text/plain": [
              "       Month2  precip_24h:mm  t_2m:C  t_500hPa:C  relative_humidity_2m:p  \\\n",
              "0           1           0.00    26.8       -10.7                    80.1   \n",
              "1           1           0.00    25.8       -10.7                    79.5   \n",
              "2           1           0.00    26.5        -9.0                    74.7   \n",
              "3           1           0.07    26.6       -10.7                    68.4   \n",
              "4           1           0.00    20.0       -12.0                    68.3   \n",
              "...       ...            ...     ...         ...                     ...   \n",
              "54805      12           0.30    24.6       -13.8                    54.8   \n",
              "54806      12           2.82    22.6       -13.8                    71.0   \n",
              "54807      12           0.00    25.8        -9.2                    52.3   \n",
              "54808      12           0.00    28.8       -11.0                    44.5   \n",
              "54809       1           0.00    23.2       -11.1                    76.1   \n",
              "\n",
              "       sfc_pressure:hPa  layer_thickness_500hPa_1000hPa:m  wind_dir_10m:d  \\\n",
              "0                  1008                            5735.7           101.7   \n",
              "1                  1010                            5729.9            46.0   \n",
              "2                  1008                            5723.6           215.8   \n",
              "3                  1014                            5699.5           156.4   \n",
              "4                  1020                            5658.2           115.4   \n",
              "...                 ...                               ...             ...   \n",
              "54805              1009                            5646.5           357.8   \n",
              "54806              1013                            5599.8           104.2   \n",
              "54807              1010                            5714.5            52.6   \n",
              "54808              1006                            5754.9           318.2   \n",
              "54809              1012                            5725.1           117.0   \n",
              "\n",
              "       wind_speed_11m:ms  wind_dir_500hPa:d  wind_speed_500hPa:ms  \n",
              "0                    3.1              252.0                  12.3  \n",
              "1                    4.7              226.4                  10.2  \n",
              "2                    3.2              317.2                  14.2  \n",
              "3                   10.1              237.7                  17.9  \n",
              "4                    9.2              217.5                  14.6  \n",
              "...                  ...                ...                   ...  \n",
              "54805                3.1              186.3                   6.7  \n",
              "54806                7.5              220.3                  18.8  \n",
              "54807                4.3              252.4                  13.2  \n",
              "54808                3.3              245.7                   6.8  \n",
              "54809                9.9              316.6                   6.8  \n",
              "\n",
              "[54810 rows x 11 columns]"
            ],
            "text/html": [
              "\n",
              "  <div id=\"df-df053676-8417-498b-865a-96a6f77027c5\">\n",
              "    <div class=\"colab-df-container\">\n",
              "      <div>\n",
              "<style scoped>\n",
              "    .dataframe tbody tr th:only-of-type {\n",
              "        vertical-align: middle;\n",
              "    }\n",
              "\n",
              "    .dataframe tbody tr th {\n",
              "        vertical-align: top;\n",
              "    }\n",
              "\n",
              "    .dataframe thead th {\n",
              "        text-align: right;\n",
              "    }\n",
              "</style>\n",
              "<table border=\"1\" class=\"dataframe\">\n",
              "  <thead>\n",
              "    <tr style=\"text-align: right;\">\n",
              "      <th></th>\n",
              "      <th>Month2</th>\n",
              "      <th>precip_24h:mm</th>\n",
              "      <th>t_2m:C</th>\n",
              "      <th>t_500hPa:C</th>\n",
              "      <th>relative_humidity_2m:p</th>\n",
              "      <th>sfc_pressure:hPa</th>\n",
              "      <th>layer_thickness_500hPa_1000hPa:m</th>\n",
              "      <th>wind_dir_10m:d</th>\n",
              "      <th>wind_speed_11m:ms</th>\n",
              "      <th>wind_dir_500hPa:d</th>\n",
              "      <th>wind_speed_500hPa:ms</th>\n",
              "    </tr>\n",
              "  </thead>\n",
              "  <tbody>\n",
              "    <tr>\n",
              "      <th>0</th>\n",
              "      <td>1</td>\n",
              "      <td>0.00</td>\n",
              "      <td>26.8</td>\n",
              "      <td>-10.7</td>\n",
              "      <td>80.1</td>\n",
              "      <td>1008</td>\n",
              "      <td>5735.7</td>\n",
              "      <td>101.7</td>\n",
              "      <td>3.1</td>\n",
              "      <td>252.0</td>\n",
              "      <td>12.3</td>\n",
              "    </tr>\n",
              "    <tr>\n",
              "      <th>1</th>\n",
              "      <td>1</td>\n",
              "      <td>0.00</td>\n",
              "      <td>25.8</td>\n",
              "      <td>-10.7</td>\n",
              "      <td>79.5</td>\n",
              "      <td>1010</td>\n",
              "      <td>5729.9</td>\n",
              "      <td>46.0</td>\n",
              "      <td>4.7</td>\n",
              "      <td>226.4</td>\n",
              "      <td>10.2</td>\n",
              "    </tr>\n",
              "    <tr>\n",
              "      <th>2</th>\n",
              "      <td>1</td>\n",
              "      <td>0.00</td>\n",
              "      <td>26.5</td>\n",
              "      <td>-9.0</td>\n",
              "      <td>74.7</td>\n",
              "      <td>1008</td>\n",
              "      <td>5723.6</td>\n",
              "      <td>215.8</td>\n",
              "      <td>3.2</td>\n",
              "      <td>317.2</td>\n",
              "      <td>14.2</td>\n",
              "    </tr>\n",
              "    <tr>\n",
              "      <th>3</th>\n",
              "      <td>1</td>\n",
              "      <td>0.07</td>\n",
              "      <td>26.6</td>\n",
              "      <td>-10.7</td>\n",
              "      <td>68.4</td>\n",
              "      <td>1014</td>\n",
              "      <td>5699.5</td>\n",
              "      <td>156.4</td>\n",
              "      <td>10.1</td>\n",
              "      <td>237.7</td>\n",
              "      <td>17.9</td>\n",
              "    </tr>\n",
              "    <tr>\n",
              "      <th>4</th>\n",
              "      <td>1</td>\n",
              "      <td>0.00</td>\n",
              "      <td>20.0</td>\n",
              "      <td>-12.0</td>\n",
              "      <td>68.3</td>\n",
              "      <td>1020</td>\n",
              "      <td>5658.2</td>\n",
              "      <td>115.4</td>\n",
              "      <td>9.2</td>\n",
              "      <td>217.5</td>\n",
              "      <td>14.6</td>\n",
              "    </tr>\n",
              "    <tr>\n",
              "      <th>...</th>\n",
              "      <td>...</td>\n",
              "      <td>...</td>\n",
              "      <td>...</td>\n",
              "      <td>...</td>\n",
              "      <td>...</td>\n",
              "      <td>...</td>\n",
              "      <td>...</td>\n",
              "      <td>...</td>\n",
              "      <td>...</td>\n",
              "      <td>...</td>\n",
              "      <td>...</td>\n",
              "    </tr>\n",
              "    <tr>\n",
              "      <th>54805</th>\n",
              "      <td>12</td>\n",
              "      <td>0.30</td>\n",
              "      <td>24.6</td>\n",
              "      <td>-13.8</td>\n",
              "      <td>54.8</td>\n",
              "      <td>1009</td>\n",
              "      <td>5646.5</td>\n",
              "      <td>357.8</td>\n",
              "      <td>3.1</td>\n",
              "      <td>186.3</td>\n",
              "      <td>6.7</td>\n",
              "    </tr>\n",
              "    <tr>\n",
              "      <th>54806</th>\n",
              "      <td>12</td>\n",
              "      <td>2.82</td>\n",
              "      <td>22.6</td>\n",
              "      <td>-13.8</td>\n",
              "      <td>71.0</td>\n",
              "      <td>1013</td>\n",
              "      <td>5599.8</td>\n",
              "      <td>104.2</td>\n",
              "      <td>7.5</td>\n",
              "      <td>220.3</td>\n",
              "      <td>18.8</td>\n",
              "    </tr>\n",
              "    <tr>\n",
              "      <th>54807</th>\n",
              "      <td>12</td>\n",
              "      <td>0.00</td>\n",
              "      <td>25.8</td>\n",
              "      <td>-9.2</td>\n",
              "      <td>52.3</td>\n",
              "      <td>1010</td>\n",
              "      <td>5714.5</td>\n",
              "      <td>52.6</td>\n",
              "      <td>4.3</td>\n",
              "      <td>252.4</td>\n",
              "      <td>13.2</td>\n",
              "    </tr>\n",
              "    <tr>\n",
              "      <th>54808</th>\n",
              "      <td>12</td>\n",
              "      <td>0.00</td>\n",
              "      <td>28.8</td>\n",
              "      <td>-11.0</td>\n",
              "      <td>44.5</td>\n",
              "      <td>1006</td>\n",
              "      <td>5754.9</td>\n",
              "      <td>318.2</td>\n",
              "      <td>3.3</td>\n",
              "      <td>245.7</td>\n",
              "      <td>6.8</td>\n",
              "    </tr>\n",
              "    <tr>\n",
              "      <th>54809</th>\n",
              "      <td>1</td>\n",
              "      <td>0.00</td>\n",
              "      <td>23.2</td>\n",
              "      <td>-11.1</td>\n",
              "      <td>76.1</td>\n",
              "      <td>1012</td>\n",
              "      <td>5725.1</td>\n",
              "      <td>117.0</td>\n",
              "      <td>9.9</td>\n",
              "      <td>316.6</td>\n",
              "      <td>6.8</td>\n",
              "    </tr>\n",
              "  </tbody>\n",
              "</table>\n",
              "<p>54810 rows × 11 columns</p>\n",
              "</div>\n",
              "      <button class=\"colab-df-convert\" onclick=\"convertToInteractive('df-df053676-8417-498b-865a-96a6f77027c5')\"\n",
              "              title=\"Convert this dataframe to an interactive table.\"\n",
              "              style=\"display:none;\">\n",
              "        \n",
              "  <svg xmlns=\"http://www.w3.org/2000/svg\" height=\"24px\"viewBox=\"0 0 24 24\"\n",
              "       width=\"24px\">\n",
              "    <path d=\"M0 0h24v24H0V0z\" fill=\"none\"/>\n",
              "    <path d=\"M18.56 5.44l.94 2.06.94-2.06 2.06-.94-2.06-.94-.94-2.06-.94 2.06-2.06.94zm-11 1L8.5 8.5l.94-2.06 2.06-.94-2.06-.94L8.5 2.5l-.94 2.06-2.06.94zm10 10l.94 2.06.94-2.06 2.06-.94-2.06-.94-.94-2.06-.94 2.06-2.06.94z\"/><path d=\"M17.41 7.96l-1.37-1.37c-.4-.4-.92-.59-1.43-.59-.52 0-1.04.2-1.43.59L10.3 9.45l-7.72 7.72c-.78.78-.78 2.05 0 2.83L4 21.41c.39.39.9.59 1.41.59.51 0 1.02-.2 1.41-.59l7.78-7.78 2.81-2.81c.8-.78.8-2.07 0-2.86zM5.41 20L4 18.59l7.72-7.72 1.47 1.35L5.41 20z\"/>\n",
              "  </svg>\n",
              "      </button>\n",
              "      \n",
              "  <style>\n",
              "    .colab-df-container {\n",
              "      display:flex;\n",
              "      flex-wrap:wrap;\n",
              "      gap: 12px;\n",
              "    }\n",
              "\n",
              "    .colab-df-convert {\n",
              "      background-color: #E8F0FE;\n",
              "      border: none;\n",
              "      border-radius: 50%;\n",
              "      cursor: pointer;\n",
              "      display: none;\n",
              "      fill: #1967D2;\n",
              "      height: 32px;\n",
              "      padding: 0 0 0 0;\n",
              "      width: 32px;\n",
              "    }\n",
              "\n",
              "    .colab-df-convert:hover {\n",
              "      background-color: #E2EBFA;\n",
              "      box-shadow: 0px 1px 2px rgba(60, 64, 67, 0.3), 0px 1px 3px 1px rgba(60, 64, 67, 0.15);\n",
              "      fill: #174EA6;\n",
              "    }\n",
              "\n",
              "    [theme=dark] .colab-df-convert {\n",
              "      background-color: #3B4455;\n",
              "      fill: #D2E3FC;\n",
              "    }\n",
              "\n",
              "    [theme=dark] .colab-df-convert:hover {\n",
              "      background-color: #434B5C;\n",
              "      box-shadow: 0px 1px 3px 1px rgba(0, 0, 0, 0.15);\n",
              "      filter: drop-shadow(0px 1px 2px rgba(0, 0, 0, 0.3));\n",
              "      fill: #FFFFFF;\n",
              "    }\n",
              "  </style>\n",
              "\n",
              "      <script>\n",
              "        const buttonEl =\n",
              "          document.querySelector('#df-df053676-8417-498b-865a-96a6f77027c5 button.colab-df-convert');\n",
              "        buttonEl.style.display =\n",
              "          google.colab.kernel.accessAllowed ? 'block' : 'none';\n",
              "\n",
              "        async function convertToInteractive(key) {\n",
              "          const element = document.querySelector('#df-df053676-8417-498b-865a-96a6f77027c5');\n",
              "          const dataTable =\n",
              "            await google.colab.kernel.invokeFunction('convertToInteractive',\n",
              "                                                     [key], {});\n",
              "          if (!dataTable) return;\n",
              "\n",
              "          const docLinkHtml = 'Like what you see? Visit the ' +\n",
              "            '<a target=\"_blank\" href=https://colab.research.google.com/notebooks/data_table.ipynb>data table notebook</a>'\n",
              "            + ' to learn more about interactive tables.';\n",
              "          element.innerHTML = '';\n",
              "          dataTable['output_type'] = 'display_data';\n",
              "          await google.colab.output.renderOutput(dataTable, element);\n",
              "          const docLink = document.createElement('div');\n",
              "          docLink.innerHTML = docLinkHtml;\n",
              "          element.appendChild(docLink);\n",
              "        }\n",
              "      </script>\n",
              "    </div>\n",
              "  </div>\n",
              "  "
            ]
          },
          "metadata": {},
          "execution_count": 9
        }
      ]
    },
    {
      "cell_type": "markdown",
      "source": [
        "La Base de datos luego de excluir algunas variables que se consideraron menos importantes, quedó compuesta por 11 variables que miden diferentes aspectos climáticos. \n",
        "\n",
        "Estas variables son:\n",
        "\n",
        "**Month2**: Mes en el que se tomó la medición.\n",
        "\n",
        "**precip_24h:mm:** Cantidad de precipitación en milímetros en las últimas 24 horas.\n",
        "\n",
        "**t_2m:C:** Temperatura del aire a una altura de 2 metros en grados Celsius.\n",
        "\n",
        "**t_500hPa:C:** Temperatura del aire en la altura de 500 hectopascales en grados Celsius.\n",
        "\n",
        "**relative_humidity_2m:p:** Humedad relativa a una altura de 2 metros en porcentaje\n",
        "sfc_pressure:hPa: Presión de superficie en hectopascales.\n",
        "\n",
        "**layer_thickness_500hPa_1000hPa:m:** Espesor de la capa de aire entre 500 y 1000 hectopascales en metros.\n",
        "\n",
        "**wind_dir_10m:d:** Dirección del viento a una altura de 10 metros en grados.\n",
        "\n",
        "**wind_speed_11m:ms:** Velocidad del viento a una altura de 11 metros en metros por segundo.\n",
        "\n",
        "**wind_dir_500hPa:d:** Dirección del viento en la altura de 500 hectopascales en grados.\n",
        "\n",
        "**wind_speed_500hPa:ms:** Velocidad del viento en la altura de 500 hectopascales en metros por segundo."
      ],
      "metadata": {
        "id": "6Xl9Rzf4tsA8"
      }
    },
    {
      "cell_type": "code",
      "source": [
        "dfweather3.info()"
      ],
      "metadata": {
        "colab": {
          "base_uri": "https://localhost:8080/"
        },
        "id": "FmnU4Vd5V4Y3",
        "outputId": "b09a5cc4-8fb7-485f-b2c2-94b60f1b092b"
      },
      "execution_count": 10,
      "outputs": [
        {
          "output_type": "stream",
          "name": "stdout",
          "text": [
            "<class 'pandas.core.frame.DataFrame'>\n",
            "RangeIndex: 54810 entries, 0 to 54809\n",
            "Data columns (total 11 columns):\n",
            " #   Column                            Non-Null Count  Dtype  \n",
            "---  ------                            --------------  -----  \n",
            " 0   Month2                            54810 non-null  int64  \n",
            " 1   precip_24h:mm                     54810 non-null  float64\n",
            " 2   t_2m:C                            54810 non-null  float64\n",
            " 3   t_500hPa:C                        54810 non-null  float64\n",
            " 4   relative_humidity_2m:p            54810 non-null  float64\n",
            " 5   sfc_pressure:hPa                  54810 non-null  int64  \n",
            " 6   layer_thickness_500hPa_1000hPa:m  54810 non-null  float64\n",
            " 7   wind_dir_10m:d                    54810 non-null  float64\n",
            " 8   wind_speed_11m:ms                 54810 non-null  float64\n",
            " 9   wind_dir_500hPa:d                 54810 non-null  float64\n",
            " 10  wind_speed_500hPa:ms              54810 non-null  float64\n",
            "dtypes: float64(9), int64(2)\n",
            "memory usage: 4.6 MB\n"
          ]
        }
      ]
    },
    {
      "cell_type": "markdown",
      "source": [
        "**Problema** Como parte del estudio realizado para el Curso de Data Science, se propone estudiar los parametros meteorológicos expresado en el cuadro anterior a fin de revisar si es posible pronosticar la ocurrencia de precipitación de acuerdo a otros parámetros meteorológicos\n",
        "\n",
        "La pregunta final viene quedando asi: \n",
        "\n",
        "**¿Es posible pronosticar eventos de precipitacion de acuerdo con el aumento o disminución de otros parametros meteorologicos?**"
      ],
      "metadata": {
        "id": "7ordqNzUWS-8"
      }
    },
    {
      "cell_type": "markdown",
      "source": [
        "##EXPLORACION DE DATA"
      ],
      "metadata": {
        "id": "mLJTIRrgYRD-"
      }
    },
    {
      "cell_type": "code",
      "source": [
        "dfweather3.head()"
      ],
      "metadata": {
        "colab": {
          "base_uri": "https://localhost:8080/",
          "height": 0
        },
        "id": "OFrOuPE9bYGm",
        "outputId": "ddceb98e-acb9-476b-ef26-35148b52d836"
      },
      "execution_count": 11,
      "outputs": [
        {
          "output_type": "execute_result",
          "data": {
            "text/plain": [
              "   Month2  precip_24h:mm  t_2m:C  t_500hPa:C  relative_humidity_2m:p  \\\n",
              "0       1           0.00    26.8       -10.7                    80.1   \n",
              "1       1           0.00    25.8       -10.7                    79.5   \n",
              "2       1           0.00    26.5        -9.0                    74.7   \n",
              "3       1           0.07    26.6       -10.7                    68.4   \n",
              "4       1           0.00    20.0       -12.0                    68.3   \n",
              "\n",
              "   sfc_pressure:hPa  layer_thickness_500hPa_1000hPa:m  wind_dir_10m:d  \\\n",
              "0              1008                            5735.7           101.7   \n",
              "1              1010                            5729.9            46.0   \n",
              "2              1008                            5723.6           215.8   \n",
              "3              1014                            5699.5           156.4   \n",
              "4              1020                            5658.2           115.4   \n",
              "\n",
              "   wind_speed_11m:ms  wind_dir_500hPa:d  wind_speed_500hPa:ms  \n",
              "0                3.1              252.0                  12.3  \n",
              "1                4.7              226.4                  10.2  \n",
              "2                3.2              317.2                  14.2  \n",
              "3               10.1              237.7                  17.9  \n",
              "4                9.2              217.5                  14.6  "
            ],
            "text/html": [
              "\n",
              "  <div id=\"df-0058068e-df18-4107-9a25-13d33e223e41\">\n",
              "    <div class=\"colab-df-container\">\n",
              "      <div>\n",
              "<style scoped>\n",
              "    .dataframe tbody tr th:only-of-type {\n",
              "        vertical-align: middle;\n",
              "    }\n",
              "\n",
              "    .dataframe tbody tr th {\n",
              "        vertical-align: top;\n",
              "    }\n",
              "\n",
              "    .dataframe thead th {\n",
              "        text-align: right;\n",
              "    }\n",
              "</style>\n",
              "<table border=\"1\" class=\"dataframe\">\n",
              "  <thead>\n",
              "    <tr style=\"text-align: right;\">\n",
              "      <th></th>\n",
              "      <th>Month2</th>\n",
              "      <th>precip_24h:mm</th>\n",
              "      <th>t_2m:C</th>\n",
              "      <th>t_500hPa:C</th>\n",
              "      <th>relative_humidity_2m:p</th>\n",
              "      <th>sfc_pressure:hPa</th>\n",
              "      <th>layer_thickness_500hPa_1000hPa:m</th>\n",
              "      <th>wind_dir_10m:d</th>\n",
              "      <th>wind_speed_11m:ms</th>\n",
              "      <th>wind_dir_500hPa:d</th>\n",
              "      <th>wind_speed_500hPa:ms</th>\n",
              "    </tr>\n",
              "  </thead>\n",
              "  <tbody>\n",
              "    <tr>\n",
              "      <th>0</th>\n",
              "      <td>1</td>\n",
              "      <td>0.00</td>\n",
              "      <td>26.8</td>\n",
              "      <td>-10.7</td>\n",
              "      <td>80.1</td>\n",
              "      <td>1008</td>\n",
              "      <td>5735.7</td>\n",
              "      <td>101.7</td>\n",
              "      <td>3.1</td>\n",
              "      <td>252.0</td>\n",
              "      <td>12.3</td>\n",
              "    </tr>\n",
              "    <tr>\n",
              "      <th>1</th>\n",
              "      <td>1</td>\n",
              "      <td>0.00</td>\n",
              "      <td>25.8</td>\n",
              "      <td>-10.7</td>\n",
              "      <td>79.5</td>\n",
              "      <td>1010</td>\n",
              "      <td>5729.9</td>\n",
              "      <td>46.0</td>\n",
              "      <td>4.7</td>\n",
              "      <td>226.4</td>\n",
              "      <td>10.2</td>\n",
              "    </tr>\n",
              "    <tr>\n",
              "      <th>2</th>\n",
              "      <td>1</td>\n",
              "      <td>0.00</td>\n",
              "      <td>26.5</td>\n",
              "      <td>-9.0</td>\n",
              "      <td>74.7</td>\n",
              "      <td>1008</td>\n",
              "      <td>5723.6</td>\n",
              "      <td>215.8</td>\n",
              "      <td>3.2</td>\n",
              "      <td>317.2</td>\n",
              "      <td>14.2</td>\n",
              "    </tr>\n",
              "    <tr>\n",
              "      <th>3</th>\n",
              "      <td>1</td>\n",
              "      <td>0.07</td>\n",
              "      <td>26.6</td>\n",
              "      <td>-10.7</td>\n",
              "      <td>68.4</td>\n",
              "      <td>1014</td>\n",
              "      <td>5699.5</td>\n",
              "      <td>156.4</td>\n",
              "      <td>10.1</td>\n",
              "      <td>237.7</td>\n",
              "      <td>17.9</td>\n",
              "    </tr>\n",
              "    <tr>\n",
              "      <th>4</th>\n",
              "      <td>1</td>\n",
              "      <td>0.00</td>\n",
              "      <td>20.0</td>\n",
              "      <td>-12.0</td>\n",
              "      <td>68.3</td>\n",
              "      <td>1020</td>\n",
              "      <td>5658.2</td>\n",
              "      <td>115.4</td>\n",
              "      <td>9.2</td>\n",
              "      <td>217.5</td>\n",
              "      <td>14.6</td>\n",
              "    </tr>\n",
              "  </tbody>\n",
              "</table>\n",
              "</div>\n",
              "      <button class=\"colab-df-convert\" onclick=\"convertToInteractive('df-0058068e-df18-4107-9a25-13d33e223e41')\"\n",
              "              title=\"Convert this dataframe to an interactive table.\"\n",
              "              style=\"display:none;\">\n",
              "        \n",
              "  <svg xmlns=\"http://www.w3.org/2000/svg\" height=\"24px\"viewBox=\"0 0 24 24\"\n",
              "       width=\"24px\">\n",
              "    <path d=\"M0 0h24v24H0V0z\" fill=\"none\"/>\n",
              "    <path d=\"M18.56 5.44l.94 2.06.94-2.06 2.06-.94-2.06-.94-.94-2.06-.94 2.06-2.06.94zm-11 1L8.5 8.5l.94-2.06 2.06-.94-2.06-.94L8.5 2.5l-.94 2.06-2.06.94zm10 10l.94 2.06.94-2.06 2.06-.94-2.06-.94-.94-2.06-.94 2.06-2.06.94z\"/><path d=\"M17.41 7.96l-1.37-1.37c-.4-.4-.92-.59-1.43-.59-.52 0-1.04.2-1.43.59L10.3 9.45l-7.72 7.72c-.78.78-.78 2.05 0 2.83L4 21.41c.39.39.9.59 1.41.59.51 0 1.02-.2 1.41-.59l7.78-7.78 2.81-2.81c.8-.78.8-2.07 0-2.86zM5.41 20L4 18.59l7.72-7.72 1.47 1.35L5.41 20z\"/>\n",
              "  </svg>\n",
              "      </button>\n",
              "      \n",
              "  <style>\n",
              "    .colab-df-container {\n",
              "      display:flex;\n",
              "      flex-wrap:wrap;\n",
              "      gap: 12px;\n",
              "    }\n",
              "\n",
              "    .colab-df-convert {\n",
              "      background-color: #E8F0FE;\n",
              "      border: none;\n",
              "      border-radius: 50%;\n",
              "      cursor: pointer;\n",
              "      display: none;\n",
              "      fill: #1967D2;\n",
              "      height: 32px;\n",
              "      padding: 0 0 0 0;\n",
              "      width: 32px;\n",
              "    }\n",
              "\n",
              "    .colab-df-convert:hover {\n",
              "      background-color: #E2EBFA;\n",
              "      box-shadow: 0px 1px 2px rgba(60, 64, 67, 0.3), 0px 1px 3px 1px rgba(60, 64, 67, 0.15);\n",
              "      fill: #174EA6;\n",
              "    }\n",
              "\n",
              "    [theme=dark] .colab-df-convert {\n",
              "      background-color: #3B4455;\n",
              "      fill: #D2E3FC;\n",
              "    }\n",
              "\n",
              "    [theme=dark] .colab-df-convert:hover {\n",
              "      background-color: #434B5C;\n",
              "      box-shadow: 0px 1px 3px 1px rgba(0, 0, 0, 0.15);\n",
              "      filter: drop-shadow(0px 1px 2px rgba(0, 0, 0, 0.3));\n",
              "      fill: #FFFFFF;\n",
              "    }\n",
              "  </style>\n",
              "\n",
              "      <script>\n",
              "        const buttonEl =\n",
              "          document.querySelector('#df-0058068e-df18-4107-9a25-13d33e223e41 button.colab-df-convert');\n",
              "        buttonEl.style.display =\n",
              "          google.colab.kernel.accessAllowed ? 'block' : 'none';\n",
              "\n",
              "        async function convertToInteractive(key) {\n",
              "          const element = document.querySelector('#df-0058068e-df18-4107-9a25-13d33e223e41');\n",
              "          const dataTable =\n",
              "            await google.colab.kernel.invokeFunction('convertToInteractive',\n",
              "                                                     [key], {});\n",
              "          if (!dataTable) return;\n",
              "\n",
              "          const docLinkHtml = 'Like what you see? Visit the ' +\n",
              "            '<a target=\"_blank\" href=https://colab.research.google.com/notebooks/data_table.ipynb>data table notebook</a>'\n",
              "            + ' to learn more about interactive tables.';\n",
              "          element.innerHTML = '';\n",
              "          dataTable['output_type'] = 'display_data';\n",
              "          await google.colab.output.renderOutput(dataTable, element);\n",
              "          const docLink = document.createElement('div');\n",
              "          docLink.innerHTML = docLinkHtml;\n",
              "          element.appendChild(docLink);\n",
              "        }\n",
              "      </script>\n",
              "    </div>\n",
              "  </div>\n",
              "  "
            ]
          },
          "metadata": {},
          "execution_count": 11
        }
      ]
    },
    {
      "cell_type": "code",
      "source": [
        "#Para saber que columnas tengo en el DATASET\n",
        "df.columns"
      ],
      "metadata": {
        "colab": {
          "base_uri": "https://localhost:8080/"
        },
        "id": "d7EOWnK6cld3",
        "outputId": "727bdecf-6a56-438f-899c-8047b4665511"
      },
      "execution_count": 12,
      "outputs": [
        {
          "output_type": "execute_result",
          "data": {
            "text/plain": [
              "Index(['lat', 'lon', 'Nombre_Estacio', 'valid date', 'precip_24h:mm', 't_2m:C',\n",
              "       't_500hPa:C', 'wind_dir_10m:d', 'wind_speed_11m:ms',\n",
              "       'wind_dir_500hPa:d', 'wind_speed_500hPa:ms', 'relative_humidity_2m:p',\n",
              "       'sfc_pressure:hPa', 'layer_thickness_500hPa_1000hPa:m', 'Date', 'Month',\n",
              "       'Month2'],\n",
              "      dtype='object')"
            ]
          },
          "metadata": {},
          "execution_count": 12
        }
      ]
    },
    {
      "cell_type": "code",
      "source": [
        "dfweather3.corr()"
      ],
      "metadata": {
        "colab": {
          "base_uri": "https://localhost:8080/",
          "height": 0
        },
        "id": "AgWKluQZZTY8",
        "outputId": "a3a316c0-53a6-42e5-f020-be5ff9d80e55"
      },
      "execution_count": 13,
      "outputs": [
        {
          "output_type": "execute_result",
          "data": {
            "text/plain": [
              "                                    Month2  precip_24h:mm    t_2m:C  \\\n",
              "Month2                            1.000000      -0.008822 -0.231567   \n",
              "precip_24h:mm                    -0.008822       1.000000  0.027696   \n",
              "t_2m:C                           -0.231567       0.027696  1.000000   \n",
              "t_500hPa:C                       -0.283930       0.086625  0.760097   \n",
              "relative_humidity_2m:p           -0.032638       0.179858 -0.119449   \n",
              "sfc_pressure:hPa                  0.060478      -0.171514 -0.554483   \n",
              "layer_thickness_500hPa_1000hPa:m -0.240154       0.057915  0.851113   \n",
              "wind_dir_10m:d                   -0.016567       0.092866 -0.184937   \n",
              "wind_speed_11m:ms                 0.055256       0.102492  0.033531   \n",
              "wind_dir_500hPa:d                 0.080984       0.089425 -0.051478   \n",
              "wind_speed_500hPa:ms              0.167048       0.152500 -0.334537   \n",
              "\n",
              "                                  t_500hPa:C  relative_humidity_2m:p  \\\n",
              "Month2                             -0.283930               -0.032638   \n",
              "precip_24h:mm                       0.086625                0.179858   \n",
              "t_2m:C                              0.760097               -0.119449   \n",
              "t_500hPa:C                          1.000000                0.074692   \n",
              "relative_humidity_2m:p              0.074692                1.000000   \n",
              "sfc_pressure:hPa                   -0.443054               -0.062973   \n",
              "layer_thickness_500hPa_1000hPa:m    0.927975                0.119955   \n",
              "wind_dir_10m:d                     -0.262745               -0.103944   \n",
              "wind_speed_11m:ms                   0.020969               -0.020704   \n",
              "wind_dir_500hPa:d                  -0.028373                0.148573   \n",
              "wind_speed_500hPa:ms               -0.276909               -0.060714   \n",
              "\n",
              "                                  sfc_pressure:hPa  \\\n",
              "Month2                                    0.060478   \n",
              "precip_24h:mm                            -0.171514   \n",
              "t_2m:C                                   -0.554483   \n",
              "t_500hPa:C                               -0.443054   \n",
              "relative_humidity_2m:p                   -0.062973   \n",
              "sfc_pressure:hPa                          1.000000   \n",
              "layer_thickness_500hPa_1000hPa:m         -0.580130   \n",
              "wind_dir_10m:d                           -0.029817   \n",
              "wind_speed_11m:ms                         0.114742   \n",
              "wind_dir_500hPa:d                        -0.166141   \n",
              "wind_speed_500hPa:ms                     -0.062204   \n",
              "\n",
              "                                  layer_thickness_500hPa_1000hPa:m  \\\n",
              "Month2                                                   -0.240154   \n",
              "precip_24h:mm                                             0.057915   \n",
              "t_2m:C                                                    0.851113   \n",
              "t_500hPa:C                                                0.927975   \n",
              "relative_humidity_2m:p                                    0.119955   \n",
              "sfc_pressure:hPa                                         -0.580130   \n",
              "layer_thickness_500hPa_1000hPa:m                          1.000000   \n",
              "wind_dir_10m:d                                           -0.277859   \n",
              "wind_speed_11m:ms                                        -0.025624   \n",
              "wind_dir_500hPa:d                                         0.030063   \n",
              "wind_speed_500hPa:ms                                     -0.330819   \n",
              "\n",
              "                                  wind_dir_10m:d  wind_speed_11m:ms  \\\n",
              "Month2                                 -0.016567           0.055256   \n",
              "precip_24h:mm                           0.092866           0.102492   \n",
              "t_2m:C                                 -0.184937           0.033531   \n",
              "t_500hPa:C                             -0.262745           0.020969   \n",
              "relative_humidity_2m:p                 -0.103944          -0.020704   \n",
              "sfc_pressure:hPa                       -0.029817           0.114742   \n",
              "layer_thickness_500hPa_1000hPa:m       -0.277859          -0.025624   \n",
              "wind_dir_10m:d                          1.000000          -0.019531   \n",
              "wind_speed_11m:ms                      -0.019531           1.000000   \n",
              "wind_dir_500hPa:d                      -0.027327          -0.017661   \n",
              "wind_speed_500hPa:ms                    0.289128           0.027306   \n",
              "\n",
              "                                  wind_dir_500hPa:d  wind_speed_500hPa:ms  \n",
              "Month2                                     0.080984              0.167048  \n",
              "precip_24h:mm                              0.089425              0.152500  \n",
              "t_2m:C                                    -0.051478             -0.334537  \n",
              "t_500hPa:C                                -0.028373             -0.276909  \n",
              "relative_humidity_2m:p                     0.148573             -0.060714  \n",
              "sfc_pressure:hPa                          -0.166141             -0.062204  \n",
              "layer_thickness_500hPa_1000hPa:m           0.030063             -0.330819  \n",
              "wind_dir_10m:d                            -0.027327              0.289128  \n",
              "wind_speed_11m:ms                         -0.017661              0.027306  \n",
              "wind_dir_500hPa:d                          1.000000              0.261078  \n",
              "wind_speed_500hPa:ms                       0.261078              1.000000  "
            ],
            "text/html": [
              "\n",
              "  <div id=\"df-8007aa1c-ae29-41bf-ba77-ef97079c20b6\">\n",
              "    <div class=\"colab-df-container\">\n",
              "      <div>\n",
              "<style scoped>\n",
              "    .dataframe tbody tr th:only-of-type {\n",
              "        vertical-align: middle;\n",
              "    }\n",
              "\n",
              "    .dataframe tbody tr th {\n",
              "        vertical-align: top;\n",
              "    }\n",
              "\n",
              "    .dataframe thead th {\n",
              "        text-align: right;\n",
              "    }\n",
              "</style>\n",
              "<table border=\"1\" class=\"dataframe\">\n",
              "  <thead>\n",
              "    <tr style=\"text-align: right;\">\n",
              "      <th></th>\n",
              "      <th>Month2</th>\n",
              "      <th>precip_24h:mm</th>\n",
              "      <th>t_2m:C</th>\n",
              "      <th>t_500hPa:C</th>\n",
              "      <th>relative_humidity_2m:p</th>\n",
              "      <th>sfc_pressure:hPa</th>\n",
              "      <th>layer_thickness_500hPa_1000hPa:m</th>\n",
              "      <th>wind_dir_10m:d</th>\n",
              "      <th>wind_speed_11m:ms</th>\n",
              "      <th>wind_dir_500hPa:d</th>\n",
              "      <th>wind_speed_500hPa:ms</th>\n",
              "    </tr>\n",
              "  </thead>\n",
              "  <tbody>\n",
              "    <tr>\n",
              "      <th>Month2</th>\n",
              "      <td>1.000000</td>\n",
              "      <td>-0.008822</td>\n",
              "      <td>-0.231567</td>\n",
              "      <td>-0.283930</td>\n",
              "      <td>-0.032638</td>\n",
              "      <td>0.060478</td>\n",
              "      <td>-0.240154</td>\n",
              "      <td>-0.016567</td>\n",
              "      <td>0.055256</td>\n",
              "      <td>0.080984</td>\n",
              "      <td>0.167048</td>\n",
              "    </tr>\n",
              "    <tr>\n",
              "      <th>precip_24h:mm</th>\n",
              "      <td>-0.008822</td>\n",
              "      <td>1.000000</td>\n",
              "      <td>0.027696</td>\n",
              "      <td>0.086625</td>\n",
              "      <td>0.179858</td>\n",
              "      <td>-0.171514</td>\n",
              "      <td>0.057915</td>\n",
              "      <td>0.092866</td>\n",
              "      <td>0.102492</td>\n",
              "      <td>0.089425</td>\n",
              "      <td>0.152500</td>\n",
              "    </tr>\n",
              "    <tr>\n",
              "      <th>t_2m:C</th>\n",
              "      <td>-0.231567</td>\n",
              "      <td>0.027696</td>\n",
              "      <td>1.000000</td>\n",
              "      <td>0.760097</td>\n",
              "      <td>-0.119449</td>\n",
              "      <td>-0.554483</td>\n",
              "      <td>0.851113</td>\n",
              "      <td>-0.184937</td>\n",
              "      <td>0.033531</td>\n",
              "      <td>-0.051478</td>\n",
              "      <td>-0.334537</td>\n",
              "    </tr>\n",
              "    <tr>\n",
              "      <th>t_500hPa:C</th>\n",
              "      <td>-0.283930</td>\n",
              "      <td>0.086625</td>\n",
              "      <td>0.760097</td>\n",
              "      <td>1.000000</td>\n",
              "      <td>0.074692</td>\n",
              "      <td>-0.443054</td>\n",
              "      <td>0.927975</td>\n",
              "      <td>-0.262745</td>\n",
              "      <td>0.020969</td>\n",
              "      <td>-0.028373</td>\n",
              "      <td>-0.276909</td>\n",
              "    </tr>\n",
              "    <tr>\n",
              "      <th>relative_humidity_2m:p</th>\n",
              "      <td>-0.032638</td>\n",
              "      <td>0.179858</td>\n",
              "      <td>-0.119449</td>\n",
              "      <td>0.074692</td>\n",
              "      <td>1.000000</td>\n",
              "      <td>-0.062973</td>\n",
              "      <td>0.119955</td>\n",
              "      <td>-0.103944</td>\n",
              "      <td>-0.020704</td>\n",
              "      <td>0.148573</td>\n",
              "      <td>-0.060714</td>\n",
              "    </tr>\n",
              "    <tr>\n",
              "      <th>sfc_pressure:hPa</th>\n",
              "      <td>0.060478</td>\n",
              "      <td>-0.171514</td>\n",
              "      <td>-0.554483</td>\n",
              "      <td>-0.443054</td>\n",
              "      <td>-0.062973</td>\n",
              "      <td>1.000000</td>\n",
              "      <td>-0.580130</td>\n",
              "      <td>-0.029817</td>\n",
              "      <td>0.114742</td>\n",
              "      <td>-0.166141</td>\n",
              "      <td>-0.062204</td>\n",
              "    </tr>\n",
              "    <tr>\n",
              "      <th>layer_thickness_500hPa_1000hPa:m</th>\n",
              "      <td>-0.240154</td>\n",
              "      <td>0.057915</td>\n",
              "      <td>0.851113</td>\n",
              "      <td>0.927975</td>\n",
              "      <td>0.119955</td>\n",
              "      <td>-0.580130</td>\n",
              "      <td>1.000000</td>\n",
              "      <td>-0.277859</td>\n",
              "      <td>-0.025624</td>\n",
              "      <td>0.030063</td>\n",
              "      <td>-0.330819</td>\n",
              "    </tr>\n",
              "    <tr>\n",
              "      <th>wind_dir_10m:d</th>\n",
              "      <td>-0.016567</td>\n",
              "      <td>0.092866</td>\n",
              "      <td>-0.184937</td>\n",
              "      <td>-0.262745</td>\n",
              "      <td>-0.103944</td>\n",
              "      <td>-0.029817</td>\n",
              "      <td>-0.277859</td>\n",
              "      <td>1.000000</td>\n",
              "      <td>-0.019531</td>\n",
              "      <td>-0.027327</td>\n",
              "      <td>0.289128</td>\n",
              "    </tr>\n",
              "    <tr>\n",
              "      <th>wind_speed_11m:ms</th>\n",
              "      <td>0.055256</td>\n",
              "      <td>0.102492</td>\n",
              "      <td>0.033531</td>\n",
              "      <td>0.020969</td>\n",
              "      <td>-0.020704</td>\n",
              "      <td>0.114742</td>\n",
              "      <td>-0.025624</td>\n",
              "      <td>-0.019531</td>\n",
              "      <td>1.000000</td>\n",
              "      <td>-0.017661</td>\n",
              "      <td>0.027306</td>\n",
              "    </tr>\n",
              "    <tr>\n",
              "      <th>wind_dir_500hPa:d</th>\n",
              "      <td>0.080984</td>\n",
              "      <td>0.089425</td>\n",
              "      <td>-0.051478</td>\n",
              "      <td>-0.028373</td>\n",
              "      <td>0.148573</td>\n",
              "      <td>-0.166141</td>\n",
              "      <td>0.030063</td>\n",
              "      <td>-0.027327</td>\n",
              "      <td>-0.017661</td>\n",
              "      <td>1.000000</td>\n",
              "      <td>0.261078</td>\n",
              "    </tr>\n",
              "    <tr>\n",
              "      <th>wind_speed_500hPa:ms</th>\n",
              "      <td>0.167048</td>\n",
              "      <td>0.152500</td>\n",
              "      <td>-0.334537</td>\n",
              "      <td>-0.276909</td>\n",
              "      <td>-0.060714</td>\n",
              "      <td>-0.062204</td>\n",
              "      <td>-0.330819</td>\n",
              "      <td>0.289128</td>\n",
              "      <td>0.027306</td>\n",
              "      <td>0.261078</td>\n",
              "      <td>1.000000</td>\n",
              "    </tr>\n",
              "  </tbody>\n",
              "</table>\n",
              "</div>\n",
              "      <button class=\"colab-df-convert\" onclick=\"convertToInteractive('df-8007aa1c-ae29-41bf-ba77-ef97079c20b6')\"\n",
              "              title=\"Convert this dataframe to an interactive table.\"\n",
              "              style=\"display:none;\">\n",
              "        \n",
              "  <svg xmlns=\"http://www.w3.org/2000/svg\" height=\"24px\"viewBox=\"0 0 24 24\"\n",
              "       width=\"24px\">\n",
              "    <path d=\"M0 0h24v24H0V0z\" fill=\"none\"/>\n",
              "    <path d=\"M18.56 5.44l.94 2.06.94-2.06 2.06-.94-2.06-.94-.94-2.06-.94 2.06-2.06.94zm-11 1L8.5 8.5l.94-2.06 2.06-.94-2.06-.94L8.5 2.5l-.94 2.06-2.06.94zm10 10l.94 2.06.94-2.06 2.06-.94-2.06-.94-.94-2.06-.94 2.06-2.06.94z\"/><path d=\"M17.41 7.96l-1.37-1.37c-.4-.4-.92-.59-1.43-.59-.52 0-1.04.2-1.43.59L10.3 9.45l-7.72 7.72c-.78.78-.78 2.05 0 2.83L4 21.41c.39.39.9.59 1.41.59.51 0 1.02-.2 1.41-.59l7.78-7.78 2.81-2.81c.8-.78.8-2.07 0-2.86zM5.41 20L4 18.59l7.72-7.72 1.47 1.35L5.41 20z\"/>\n",
              "  </svg>\n",
              "      </button>\n",
              "      \n",
              "  <style>\n",
              "    .colab-df-container {\n",
              "      display:flex;\n",
              "      flex-wrap:wrap;\n",
              "      gap: 12px;\n",
              "    }\n",
              "\n",
              "    .colab-df-convert {\n",
              "      background-color: #E8F0FE;\n",
              "      border: none;\n",
              "      border-radius: 50%;\n",
              "      cursor: pointer;\n",
              "      display: none;\n",
              "      fill: #1967D2;\n",
              "      height: 32px;\n",
              "      padding: 0 0 0 0;\n",
              "      width: 32px;\n",
              "    }\n",
              "\n",
              "    .colab-df-convert:hover {\n",
              "      background-color: #E2EBFA;\n",
              "      box-shadow: 0px 1px 2px rgba(60, 64, 67, 0.3), 0px 1px 3px 1px rgba(60, 64, 67, 0.15);\n",
              "      fill: #174EA6;\n",
              "    }\n",
              "\n",
              "    [theme=dark] .colab-df-convert {\n",
              "      background-color: #3B4455;\n",
              "      fill: #D2E3FC;\n",
              "    }\n",
              "\n",
              "    [theme=dark] .colab-df-convert:hover {\n",
              "      background-color: #434B5C;\n",
              "      box-shadow: 0px 1px 3px 1px rgba(0, 0, 0, 0.15);\n",
              "      filter: drop-shadow(0px 1px 2px rgba(0, 0, 0, 0.3));\n",
              "      fill: #FFFFFF;\n",
              "    }\n",
              "  </style>\n",
              "\n",
              "      <script>\n",
              "        const buttonEl =\n",
              "          document.querySelector('#df-8007aa1c-ae29-41bf-ba77-ef97079c20b6 button.colab-df-convert');\n",
              "        buttonEl.style.display =\n",
              "          google.colab.kernel.accessAllowed ? 'block' : 'none';\n",
              "\n",
              "        async function convertToInteractive(key) {\n",
              "          const element = document.querySelector('#df-8007aa1c-ae29-41bf-ba77-ef97079c20b6');\n",
              "          const dataTable =\n",
              "            await google.colab.kernel.invokeFunction('convertToInteractive',\n",
              "                                                     [key], {});\n",
              "          if (!dataTable) return;\n",
              "\n",
              "          const docLinkHtml = 'Like what you see? Visit the ' +\n",
              "            '<a target=\"_blank\" href=https://colab.research.google.com/notebooks/data_table.ipynb>data table notebook</a>'\n",
              "            + ' to learn more about interactive tables.';\n",
              "          element.innerHTML = '';\n",
              "          dataTable['output_type'] = 'display_data';\n",
              "          await google.colab.output.renderOutput(dataTable, element);\n",
              "          const docLink = document.createElement('div');\n",
              "          docLink.innerHTML = docLinkHtml;\n",
              "          element.appendChild(docLink);\n",
              "        }\n",
              "      </script>\n",
              "    </div>\n",
              "  </div>\n",
              "  "
            ]
          },
          "metadata": {},
          "execution_count": 13
        }
      ]
    },
    {
      "cell_type": "markdown",
      "source": [
        "En esta tabla podemos ver la correlación entre las diferentes variables meteorológicas. \n",
        "Cada fila y columna representa una variable diferente y cada celda de la tabla muestra la correlación entre dos variables en particular.\n",
        "\n",
        "La correlación es una medida estadística que indica la fuerza y dirección de la relación entre dos variables. \n",
        "La correlación puede variar entre -1 y 1, donde -1 indica una correlación negativa perfecta, 0 indica que no hay correlación y 1 indica una correlación positiva perfecta."
      ],
      "metadata": {
        "id": "SuFB2b2SZmt1"
      }
    },
    {
      "cell_type": "code",
      "source": [
        "#annot=True, me deja ver los valores de la correlacion en cada cuadro\n",
        "sns.heatmap(df.corr(), annot=False, cmap='coolwarm', linewidths='5',linecolor='white')"
      ],
      "metadata": {
        "colab": {
          "base_uri": "https://localhost:8080/",
          "height": 0
        },
        "id": "KOM9S9V9aqo8",
        "outputId": "cfe9ea20-6825-4383-d65c-460f6ef6cdfa"
      },
      "execution_count": 14,
      "outputs": [
        {
          "output_type": "execute_result",
          "data": {
            "text/plain": [
              "<AxesSubplot:>"
            ]
          },
          "metadata": {},
          "execution_count": 14
        },
        {
          "output_type": "display_data",
          "data": {
            "text/plain": [
              "<Figure size 432x288 with 2 Axes>"
            ],
            "image/png": "[encoded data removed]"
          },
          "metadata": {
            "needs_background": "light"
          }
        }
      ]
    },
    {
      "cell_type": "markdown",
      "source": [
        "La matriz de correlación es una matriz cuadrada que muestra la correlación lineal entre pares de variables del DataFrame que se esta trabajando.\n",
        "\n",
        "El valor de correlación varía entre -1 y 1, donde -1 indica una correlación negativa perfecta (una variable aumenta mientras que la otra disminuye) y 1 indica una correlación positiva perfecta (ambas variables aumentan o disminuyen juntas). Un valor de 0 indica que no hay correlación entre las variables."
      ],
      "metadata": {
        "id": "pHjPOkU3awrC"
      }
    },
    {
      "cell_type": "code",
      "source": [
        "#Me cuenta la cantidad de valores que hay de cada valor de temperatura\n",
        "dfweather3['t_2m:C'].value_counts()"
      ],
      "metadata": {
        "colab": {
          "base_uri": "https://localhost:8080/"
        },
        "id": "0oi5maZ0bEpQ",
        "outputId": "f7660524-e1c6-48ab-f237-df8be6cd67ac"
      },
      "execution_count": 15,
      "outputs": [
        {
          "output_type": "execute_result",
          "data": {
            "text/plain": [
              "21.4    364\n",
              "15.3    362\n",
              "15.2    361\n",
              "22.0    360\n",
              "21.8    360\n",
              "       ... \n",
              "1.8       1\n",
              "3.6       1\n",
              "1.1       1\n",
              "32.3      1\n",
              "32.9      1\n",
              "Name: t_2m:C, Length: 310, dtype: int64"
            ]
          },
          "metadata": {},
          "execution_count": 15
        }
      ]
    },
    {
      "cell_type": "markdown",
      "source": [
        "Esta instruccion cuenta cuántas veces aparece cada valor en la columna \"t_2m:C\" del conjunto de datos \"dfweather3\"."
      ],
      "metadata": {
        "id": "yOrRN2bEy2Pm"
      }
    },
    {
      "cell_type": "code",
      "source": [
        "dfweather3['precip_24h:mm'].value_counts()"
      ],
      "metadata": {
        "colab": {
          "base_uri": "https://localhost:8080/"
        },
        "id": "OEh5wT-TbpMM",
        "outputId": "851d0216-53a9-48f8-bbc4-3b854544a63a"
      },
      "execution_count": 16,
      "outputs": [
        {
          "output_type": "execute_result",
          "data": {
            "text/plain": [
              "0.00     32952\n",
              "0.06       313\n",
              "0.05       233\n",
              "0.07       204\n",
              "0.16       187\n",
              "         ...  \n",
              "48.38        1\n",
              "26.10        1\n",
              "44.33        1\n",
              "49.69        1\n",
              "36.07        1\n",
              "Name: precip_24h:mm, Length: 3621, dtype: int64"
            ]
          },
          "metadata": {},
          "execution_count": 16
        }
      ]
    },
    {
      "cell_type": "markdown",
      "source": [
        "En esta ultima tabla, vemos que la mayor cantidad de eventos de precipitacion en 24 horas registrados fue de 0mm, con varios eventos registrados de muy poca precipitacion y unos pocos eventos de precipitacion intensa"
      ],
      "metadata": {
        "id": "772SyjsNb1dt"
      }
    },
    {
      "cell_type": "markdown",
      "source": [
        "##ALGUNOS GRAFICOS"
      ],
      "metadata": {
        "id": "Fpqz6pquc_Vd"
      }
    },
    {
      "cell_type": "code",
      "source": [
        "sns.displot(data=dfweather3 , x= dfweather3['Month2'], y=dfweather3['layer_thickness_500hPa_1000hPa:m'])\n",
        "plt.show"
      ],
      "metadata": {
        "colab": {
          "base_uri": "https://localhost:8080/",
          "height": 386
        },
        "id": "EsMho8mudDAu",
        "outputId": "a5020617-e788-4e6c-8c5b-9e99fb91dccb"
      },
      "execution_count": 17,
      "outputs": [
        {
          "output_type": "execute_result",
          "data": {
            "text/plain": [
              "<function matplotlib.pyplot.show(close=None, block=None)>"
            ]
          },
          "metadata": {},
          "execution_count": 17
        },
        {
          "output_type": "display_data",
          "data": {
            "text/plain": [
              "<Figure size 360x360 with 1 Axes>"
            ],
            "image/png": "[encoded data removed]"
          },
          "metadata": {
            "needs_background": "light"
          }
        }
      ]
    },
    {
      "cell_type": "markdown",
      "source": [
        "En este grafico vemos que el espesor de la capa entre 1000 y 500 hPa es menor durante los meses de Invierno y mayor durante los meses de Verano"
      ],
      "metadata": {
        "id": "PiBNSP41dPGz"
      }
    },
    {
      "cell_type": "code",
      "source": [
        "#Cantidad total de precipitacion por mes\n",
        "sum_precip = dfweather3.groupby('Month2').sum()['precip_24h:mm']\n",
        "sum_precip"
      ],
      "metadata": {
        "colab": {
          "base_uri": "https://localhost:8080/"
        },
        "id": "y0bnhlAyd8L5",
        "outputId": "92e1c433-80e7-4e4b-de00-00993ddf8b62"
      },
      "execution_count": 18,
      "outputs": [
        {
          "output_type": "execute_result",
          "data": {
            "text/plain": [
              "Month2\n",
              "1     17272.73\n",
              "2     18504.50\n",
              "3     17414.75\n",
              "4     14486.01\n",
              "5     11250.56\n",
              "6      8220.52\n",
              "7     11749.93\n",
              "8     11988.45\n",
              "9     15271.03\n",
              "10    19315.44\n",
              "11    15025.44\n",
              "12    15548.97\n",
              "Name: precip_24h:mm, dtype: float64"
            ]
          },
          "metadata": {},
          "execution_count": 18
        }
      ]
    },
    {
      "cell_type": "code",
      "source": [
        "sum_precip.reset_index().sort_values(by='Month2', ascending=True).iloc[0:12].plot(kind='bar',x='Month2', y='precip_24h:mm')"
      ],
      "metadata": {
        "colab": {
          "base_uri": "https://localhost:8080/",
          "height": 300
        },
        "id": "o_AErlYzeEl3",
        "outputId": "0ace9968-07b7-4de4-9079-9956aa445e30"
      },
      "execution_count": 19,
      "outputs": [
        {
          "output_type": "execute_result",
          "data": {
            "text/plain": [
              "<AxesSubplot:xlabel='Month2'>"
            ]
          },
          "metadata": {},
          "execution_count": 19
        },
        {
          "output_type": "display_data",
          "data": {
            "text/plain": [
              "<Figure size 432x288 with 1 Axes>"
            ],
            "image/png": "[encoded data removed]"
          },
          "metadata": {
            "needs_background": "light"
          }
        }
      ]
    },
    {
      "cell_type": "markdown",
      "source": [
        "En este grafico vemos que la menor cantidad de precipitaciones se presenta durante los meses de invierno en el Hemisferio Sur, y la mayor cantidad de precipitaciones ocurre durante los meses de verano del Hemisferio Sur"
      ],
      "metadata": {
        "id": "LL4TlD02eO4q"
      }
    },
    {
      "cell_type": "code",
      "source": [
        "#MAX, MIN y MEDIANA, Temperatura por mes\n",
        "max_temp = dfweather3.groupby('Month2').max()['t_2m:C']\n",
        "\n",
        "min_temp = dfweather3.groupby('Month2').min()['t_2m:C']\n",
        "\n",
        "med_temp = dfweather3.groupby('Month2').median()['t_2m:C']\n",
        "\n",
        "max_temp, min_temp, med_temp "
      ],
      "metadata": {
        "colab": {
          "base_uri": "https://localhost:8080/"
        },
        "id": "o1I8syw9eq9M",
        "outputId": "bacd24dd-816f-485f-c439-c56ac6a78730"
      },
      "execution_count": 20,
      "outputs": [
        {
          "output_type": "execute_result",
          "data": {
            "text/plain": [
              "(Month2\n",
              " 1     32.9\n",
              " 2     30.6\n",
              " 3     29.7\n",
              " 4     26.3\n",
              " 5     23.1\n",
              " 6     21.3\n",
              " 7     21.8\n",
              " 8     25.5\n",
              " 9     26.5\n",
              " 10    30.1\n",
              " 11    30.9\n",
              " 12    32.0\n",
              " Name: t_2m:C, dtype: float64, Month2\n",
              " 1     13.1\n",
              " 2     12.9\n",
              " 3     10.2\n",
              " 4      6.6\n",
              " 5      2.3\n",
              " 6      1.3\n",
              " 7      1.0\n",
              " 8      2.3\n",
              " 9      4.1\n",
              " 10     6.5\n",
              " 11     8.8\n",
              " 12    11.0\n",
              " Name: t_2m:C, dtype: float64, Month2\n",
              " 1     24.9\n",
              " 2     24.0\n",
              " 3     21.9\n",
              " 4     19.3\n",
              " 5     15.4\n",
              " 6     12.2\n",
              " 7     11.5\n",
              " 8     12.9\n",
              " 9     14.7\n",
              " 10    17.1\n",
              " 11    20.9\n",
              " 12    23.3\n",
              " Name: t_2m:C, dtype: float64)"
            ]
          },
          "metadata": {},
          "execution_count": 20
        }
      ]
    },
    {
      "cell_type": "markdown",
      "source": [
        "En esta ultima tabla vemos las temperaturas maximas, minimas y la mediana, por cada uno de los meses del año"
      ],
      "metadata": {
        "id": "XCYlsMO1fcNB"
      }
    },
    {
      "cell_type": "code",
      "source": [
        "sns.set(style=\"dark\", palette=\"dark\", font=\"Arial\",font_scale=1)\n",
        "chart=sns.barplot(df['Nombre_Estacio'], df['precip_24h:mm'])\n",
        "chart.set_xticklabels(\n",
        "    chart.get_xticklabels(), \n",
        "    rotation=90, \n",
        "    horizontalalignment='right'\n",
        ")\n",
        "plt.show"
      ],
      "metadata": {
        "colab": {
          "base_uri": "https://localhost:8080/",
          "height": 535
        },
        "id": "pKHov07hfyN6",
        "outputId": "15ae8278-dced-4715-828a-f3089d91bfdf"
      },
      "execution_count": 21,
      "outputs": [
        {
          "output_type": "stream",
          "name": "stderr",
          "text": [
            "/usr/local/lib/python3.8/dist-packages/seaborn/_decorators.py:36: FutureWarning: Pass the following variables as keyword args: x, y. From version 0.12, the only valid positional argument will be `data`, and passing other arguments without an explicit keyword will result in an error or misinterpretation.\n",
            "  warnings.warn(\n"
          ]
        },
        {
          "output_type": "execute_result",
          "data": {
            "text/plain": [
              "<function matplotlib.pyplot.show(close=None, block=None)>"
            ]
          },
          "metadata": {},
          "execution_count": 21
        },
        {
          "output_type": "stream",
          "name": "stderr",
          "text": [
            "WARNING:matplotlib.font_manager:findfont: Font family ['Arial'] not found. Falling back to DejaVu Sans.\n",
            "WARNING:matplotlib.font_manager:findfont: Font family ['Arial'] not found. Falling back to DejaVu Sans.\n"
          ]
        },
        {
          "output_type": "display_data",
          "data": {
            "text/plain": [
              "<Figure size 432x288 with 1 Axes>"
            ],
            "image/png": "[encoded data removed]"
          },
          "metadata": {}
        }
      ]
    },
    {
      "cell_type": "markdown",
      "source": [
        "En este grafico podemos ver la precipitacion en 24 hrs historica en varias estaciones de la Provincia de Buenos Aires, siendo la estacion Buenos Aires Observatorio, la que mayor cantidad de precipitaciones registro durante este periodo"
      ],
      "metadata": {
        "id": "ma9rUejPf2Zb"
      }
    },
    {
      "cell_type": "code",
      "source": [
        "sns.displot(data=dfweather3 , x= dfweather3['t_2m:C'], y=dfweather3['t_500hPa:C'])"
      ],
      "metadata": {
        "colab": {
          "base_uri": "https://localhost:8080/",
          "height": 382
        },
        "id": "neFHuwvxgnVE",
        "outputId": "cf003648-7226-4ca6-953b-0d09ec17cedf"
      },
      "execution_count": 22,
      "outputs": [
        {
          "output_type": "execute_result",
          "data": {
            "text/plain": [
              "<seaborn.axisgrid.FacetGrid at 0x7ff42add3220>"
            ]
          },
          "metadata": {},
          "execution_count": 22
        },
        {
          "output_type": "display_data",
          "data": {
            "text/plain": [
              "<Figure size 360x360 with 1 Axes>"
            ],
            "image/png": "[encoded data removed]"
          },
          "metadata": {}
        }
      ]
    },
    {
      "cell_type": "markdown",
      "source": [
        "En este grafico se puede observar que el aumento y la disminucion de la temperatura en superficie y en 500 hPa es directamente proporcional"
      ],
      "metadata": {
        "id": "pdDhQe48hAV2"
      }
    },
    {
      "cell_type": "markdown",
      "source": [
        "##Interpretar la salida de un modelo lineal"
      ],
      "metadata": {
        "id": "tV7s8JRahStt"
      }
    },
    {
      "cell_type": "code",
      "source": [
        "dfweather3.columns = ['Month2', 'precip_24h_mm', 't_2m_C', 't_500hPa_C',\n",
        "       'relative_humidity_2m_p', 'sfc_pressure_hPa',\n",
        "       'layer_thickness_500hPa_1000hPa_m', 'wind_dir_10m_d',\n",
        "       'wind_speed_11m_ms', 'wind_dir_500hPa_d', 'wind_speed_500hPa_ms']"
      ],
      "metadata": {
        "id": "lRTxgCukwT6M"
      },
      "execution_count": 23,
      "outputs": []
    },
    {
      "cell_type": "code",
      "source": [
        "model1 = 'precip_24h_mm~Month2'\n",
        "lm1   = sm.ols(formula = model1, data = dfweather3).fit()\n",
        "print(lm1.summary())"
      ],
      "metadata": {
        "colab": {
          "base_uri": "https://localhost:8080/"
        },
        "id": "-nZ8e1MfogaL",
        "outputId": "700252f4-b2da-4cc5-844c-0dfa49966173"
      },
      "execution_count": 24,
      "outputs": [
        {
          "output_type": "stream",
          "name": "stdout",
          "text": [
            "                            OLS Regression Results                            \n",
            "==============================================================================\n",
            "Dep. Variable:          precip_24h_mm   R-squared:                       0.000\n",
            "Model:                            OLS   Adj. R-squared:                  0.000\n",
            "Method:                 Least Squares   F-statistic:                     4.266\n",
            "Date:                Sat, 25 Feb 2023   Prob (F-statistic):             0.0389\n",
            "Time:                        19:46:01   Log-Likelihood:            -2.0596e+05\n",
            "No. Observations:               54810   AIC:                         4.119e+05\n",
            "Df Residuals:                   54808   BIC:                         4.119e+05\n",
            "Df Model:                           1                                         \n",
            "Covariance Type:            nonrobust                                         \n",
            "==============================================================================\n",
            "                 coef    std err          t      P>|t|      [0.025      0.975]\n",
            "------------------------------------------------------------------------------\n",
            "Intercept      3.3849      0.095     35.740      0.000       3.199       3.571\n",
            "Month2        -0.0265      0.013     -2.065      0.039      -0.052      -0.001\n",
            "==============================================================================\n",
            "Omnibus:                    73832.141   Durbin-Watson:                   1.713\n",
            "Prob(Omnibus):                  0.000   Jarque-Bera (JB):         22908573.113\n",
            "Skew:                           7.669   Prob(JB):                         0.00\n",
            "Kurtosis:                     101.974   Cond. No.                         16.0\n",
            "==============================================================================\n",
            "\n",
            "Notes:\n",
            "[1] Standard Errors assume that the covariance matrix of the errors is correctly specified.\n"
          ]
        }
      ]
    },
    {
      "cell_type": "markdown",
      "source": [
        "Estos resultados corresponden a un modelo de regresión lineal simple en el que la variable dependiente es \"precip_24h_mm\" y la variable independiente es \"Month2\". \n",
        "El modelo muestra que el valor de R-cuadrado es 0, lo que significa que el modelo no explica la variabilidad de la variable dependiente. \n",
        "La variable independiente \"Month2\" tiene un coeficiente negativo de -0.0265 y un valor de p significativo de 0.039, lo que indica que hay una relación significativa entre \"Month2\" y \"precip_24h_mm\".\n",
        "\n",
        "El valor del coeficiente de intercepción es de 3.3849 y también es significativo. El valor de p para el estadístico F es significativo, lo que indica que al menos una de las variables independientes contribuye significativamente al modelo.\n",
        "\n",
        "El modelo tiene un valor bajo de Durbin-Watson de 1.713, lo que sugiere la presencia de autocorrelación positiva en los errores. \n",
        "\n"
      ],
      "metadata": {
        "id": "oneDY3kExZJq"
      }
    },
    {
      "cell_type": "code",
      "source": [
        "model2 = 't_500hPa_C~t_2m_C'\n",
        "lm1   = sm.ols(formula = model1, data = dfweather3).fit()\n",
        "print(lm1.summary())"
      ],
      "metadata": {
        "colab": {
          "base_uri": "https://localhost:8080/"
        },
        "id": "R-9gGO3Tx0FH",
        "outputId": "f556e027-5659-4aac-9a32-42241d203990"
      },
      "execution_count": 42,
      "outputs": [
        {
          "output_type": "stream",
          "name": "stdout",
          "text": [
            "                            OLS Regression Results                            \n",
            "==============================================================================\n",
            "Dep. Variable:          precip_24h_mm   R-squared:                       0.008\n",
            "Model:                            OLS   Adj. R-squared:                  0.007\n",
            "Method:                 Least Squares   F-statistic:                     414.4\n",
            "Date:                Sat, 25 Feb 2023   Prob (F-statistic):           8.93e-92\n",
            "Time:                        20:36:32   Log-Likelihood:            -2.0576e+05\n",
            "No. Observations:               54810   AIC:                         4.115e+05\n",
            "Df Residuals:                   54808   BIC:                         4.115e+05\n",
            "Df Model:                           1                                         \n",
            "Covariance Type:            nonrobust                                         \n",
            "==============================================================================\n",
            "                 coef    std err          t      P>|t|      [0.025      0.975]\n",
            "------------------------------------------------------------------------------\n",
            "Intercept      6.0069      0.144     41.652      0.000       5.724       6.290\n",
            "t_500hPa_C     0.2021      0.010     20.356      0.000       0.183       0.222\n",
            "==============================================================================\n",
            "Omnibus:                    73570.283   Durbin-Watson:                   1.732\n",
            "Prob(Omnibus):                  0.000   Jarque-Bera (JB):         22666389.424\n",
            "Skew:                           7.618   Prob(JB):                         0.00\n",
            "Kurtosis:                     101.453   Cond. No.                         47.7\n",
            "==============================================================================\n",
            "\n",
            "Notes:\n",
            "[1] Standard Errors assume that the covariance matrix of the errors is correctly specified.\n"
          ]
        }
      ]
    },
    {
      "cell_type": "markdown",
      "source": [
        "Este resultado evalúa la relación entre las temperaturas a 500 hPa y las temperaturas a 2m en BUenos Aires.\n",
        "El modelo explica el 57.8% de la variabilidad en las temperaturas a 500 hPa en función de las temperaturas a 2m y se considera altamente significativo según el valor de p (0.00).\n",
        "\n",
        "La variable independiente en este modelo es la temperatura a 2m, y la variable dependiente es la temperatura a 500 hPa. \n",
        "La pendiente del modelo es 0.6173, lo que indica que por cada aumento de un grado Celsius en la temperatura a 2m, la temperatura a 500 hPa aumenta en \n",
        "0.6173 grados Celsius.\n",
        "\n",
        "La constante del modelo es -24.8998, lo que indica que cuando la temperatura a 2m es cero, se espera que la temperatura a 500 hPa sea de alrededor de -24.8998 grados Celsius en la atmosfera de Buenos Aires.\n",
        "\n",
        "En general, este modelo parece ser un buen ajuste para los datos y puede ser útil para predecir las temperaturas a 500 hPa en función de las temperaturas a 2m."
      ],
      "metadata": {
        "id": "LvD0TqGTyGw9"
      }
    },
    {
      "cell_type": "code",
      "source": [
        "model3 = 'layer_thickness_500hPa_1000hPa_m~t_2m_C'\n",
        "lm1   = sm.ols(formula = model1, data = dfweather3).fit()\n",
        "print(lm1.summary())"
      ],
      "metadata": {
        "colab": {
          "base_uri": "https://localhost:8080/"
        },
        "id": "5pTzQdM6yZsK",
        "outputId": "d3b45490-6515-43ee-b70d-64ab8c61529a"
      },
      "execution_count": 43,
      "outputs": [
        {
          "output_type": "stream",
          "name": "stdout",
          "text": [
            "                            OLS Regression Results                            \n",
            "==============================================================================\n",
            "Dep. Variable:          precip_24h_mm   R-squared:                       0.008\n",
            "Model:                            OLS   Adj. R-squared:                  0.007\n",
            "Method:                 Least Squares   F-statistic:                     414.4\n",
            "Date:                Sat, 25 Feb 2023   Prob (F-statistic):           8.93e-92\n",
            "Time:                        20:36:44   Log-Likelihood:            -2.0576e+05\n",
            "No. Observations:               54810   AIC:                         4.115e+05\n",
            "Df Residuals:                   54808   BIC:                         4.115e+05\n",
            "Df Model:                           1                                         \n",
            "Covariance Type:            nonrobust                                         \n",
            "==============================================================================\n",
            "                 coef    std err          t      P>|t|      [0.025      0.975]\n",
            "------------------------------------------------------------------------------\n",
            "Intercept      6.0069      0.144     41.652      0.000       5.724       6.290\n",
            "t_500hPa_C     0.2021      0.010     20.356      0.000       0.183       0.222\n",
            "==============================================================================\n",
            "Omnibus:                    73570.283   Durbin-Watson:                   1.732\n",
            "Prob(Omnibus):                  0.000   Jarque-Bera (JB):         22666389.424\n",
            "Skew:                           7.618   Prob(JB):                         0.00\n",
            "Kurtosis:                     101.453   Cond. No.                         47.7\n",
            "==============================================================================\n",
            "\n",
            "Notes:\n",
            "[1] Standard Errors assume that the covariance matrix of the errors is correctly specified.\n"
          ]
        }
      ]
    },
    {
      "cell_type": "markdown",
      "source": [
        "Esta tabla muestra los resultados de una regresión de mínimos cuadrados ordinarios (OLS) en la que se utiliza la variable \"t_2m_C\" como predictor y \"layer_thickness_500hPa_1000hPa_m\" como la variable dependiente. \n",
        "Los valores de R-cuadrado y ajustado R-cuadrado son iguales a 0.724, lo que indica que el modelo explica el 72.4% de la varianza en la variable dependiente. \n",
        "\n",
        "El valor de F-estadístico es 1.441e+05, lo que indica que el modelo en conjunto es estadísticamente significativo en el nivel de confianza del 99%. \n",
        "\n",
        "El coeficiente para la variable predictora \"t_2m_C\" es 15.3875, lo que significa que por cada aumento de 1 grado Celsius en la temperatura a 2 metros sobre el nivel del suelo, la capa de aire entre 500 y 1000 hPa aumenta en 15.3875 metros. \n",
        "\n",
        "El valor P de la prueba t para este coeficiente es prácticamente cero (0.000), lo que indica que es estadísticamente significativo en el nivel de confianza del 99%. \n",
        "\n",
        "El intercepto es 5331.2022, lo que significa que si la temperatura a 2 metros sobre el nivel del suelo fuera cero, la capa de aire entre 500 y 1000 hPa tendría un espesor de 5331.2022 metros."
      ],
      "metadata": {
        "id": "SvpOhx_Qyoj-"
      }
    },
    {
      "cell_type": "code",
      "source": [
        "model4 = 'precip_24h_mm~layer_thickness_500hPa_1000hPa_m'\n",
        "lm1   = sm.ols(formula = model1, data = dfweather3).fit()\n",
        "print(lm1.summary())"
      ],
      "metadata": {
        "colab": {
          "base_uri": "https://localhost:8080/"
        },
        "id": "GdX6h2G9y4ke",
        "outputId": "68a20e06-79ca-4fa8-fa50-4de0ba7f6d53"
      },
      "execution_count": 44,
      "outputs": [
        {
          "output_type": "stream",
          "name": "stdout",
          "text": [
            "                            OLS Regression Results                            \n",
            "==============================================================================\n",
            "Dep. Variable:          precip_24h_mm   R-squared:                       0.008\n",
            "Model:                            OLS   Adj. R-squared:                  0.007\n",
            "Method:                 Least Squares   F-statistic:                     414.4\n",
            "Date:                Sat, 25 Feb 2023   Prob (F-statistic):           8.93e-92\n",
            "Time:                        20:36:54   Log-Likelihood:            -2.0576e+05\n",
            "No. Observations:               54810   AIC:                         4.115e+05\n",
            "Df Residuals:                   54808   BIC:                         4.115e+05\n",
            "Df Model:                           1                                         \n",
            "Covariance Type:            nonrobust                                         \n",
            "==============================================================================\n",
            "                 coef    std err          t      P>|t|      [0.025      0.975]\n",
            "------------------------------------------------------------------------------\n",
            "Intercept      6.0069      0.144     41.652      0.000       5.724       6.290\n",
            "t_500hPa_C     0.2021      0.010     20.356      0.000       0.183       0.222\n",
            "==============================================================================\n",
            "Omnibus:                    73570.283   Durbin-Watson:                   1.732\n",
            "Prob(Omnibus):                  0.000   Jarque-Bera (JB):         22666389.424\n",
            "Skew:                           7.618   Prob(JB):                         0.00\n",
            "Kurtosis:                     101.453   Cond. No.                         47.7\n",
            "==============================================================================\n",
            "\n",
            "Notes:\n",
            "[1] Standard Errors assume that the covariance matrix of the errors is correctly specified.\n"
          ]
        }
      ]
    },
    {
      "cell_type": "markdown",
      "source": [
        "Este es el resultado de una regresión lineal donde la variable dependiente es la precipitación acumulada en 24 horas y la variable independiente es el espesor de la capa atmosférica entre 500 y 1000 hPa. \n",
        "\n",
        "El modelo muestra un R-cuadrado de 0.003, lo que indica que solo el 0.3% de la variabilidad en la precipitación puede ser explicada por la variable independiente en el modelo. \n",
        "\n",
        "Además, el valor p para la variable independiente es muy bajo (0.000), *lo que sugiere que la variable es significativa para predecir la precipitación*. \n",
        "\n",
        "La constante (intercept) es -30.8270 y el coeficiente de la variable independiente es 0.0061. Por lo tanto, el modelo sugiere que un aumento de 1 metro en el espesor de la capa atmosférica entre 500 y 1000 hPa se asocia con un aumento de 0.0061 mm en la precipitación acumulada en 24 horas. Sin embargo, es importante tener en cuenta que el R-cuadrado es muy bajo, lo que indica que el modelo no explica bien la variabilidad en la precipitación, y puede haber otras variables importantes que no se han incluido en el modelo."
      ],
      "metadata": {
        "id": "FEUJA1BmznPD"
      }
    },
    {
      "cell_type": "code",
      "source": [
        "model5 = 'precip_24h_mm~t_2m_C'\n",
        "lm1   = sm.ols(formula = model1, data = dfweather3).fit()\n",
        "print(lm1.summary())"
      ],
      "metadata": {
        "colab": {
          "base_uri": "https://localhost:8080/"
        },
        "id": "C0yyTfV30DHa",
        "outputId": "2893b44f-0f21-43cb-9ee0-66b0faa307ff"
      },
      "execution_count": 45,
      "outputs": [
        {
          "output_type": "stream",
          "name": "stdout",
          "text": [
            "                            OLS Regression Results                            \n",
            "==============================================================================\n",
            "Dep. Variable:          precip_24h_mm   R-squared:                       0.008\n",
            "Model:                            OLS   Adj. R-squared:                  0.007\n",
            "Method:                 Least Squares   F-statistic:                     414.4\n",
            "Date:                Sat, 25 Feb 2023   Prob (F-statistic):           8.93e-92\n",
            "Time:                        20:37:05   Log-Likelihood:            -2.0576e+05\n",
            "No. Observations:               54810   AIC:                         4.115e+05\n",
            "Df Residuals:                   54808   BIC:                         4.115e+05\n",
            "Df Model:                           1                                         \n",
            "Covariance Type:            nonrobust                                         \n",
            "==============================================================================\n",
            "                 coef    std err          t      P>|t|      [0.025      0.975]\n",
            "------------------------------------------------------------------------------\n",
            "Intercept      6.0069      0.144     41.652      0.000       5.724       6.290\n",
            "t_500hPa_C     0.2021      0.010     20.356      0.000       0.183       0.222\n",
            "==============================================================================\n",
            "Omnibus:                    73570.283   Durbin-Watson:                   1.732\n",
            "Prob(Omnibus):                  0.000   Jarque-Bera (JB):         22666389.424\n",
            "Skew:                           7.618   Prob(JB):                         0.00\n",
            "Kurtosis:                     101.453   Cond. No.                         47.7\n",
            "==============================================================================\n",
            "\n",
            "Notes:\n",
            "[1] Standard Errors assume that the covariance matrix of the errors is correctly specified.\n"
          ]
        }
      ]
    },
    {
      "cell_type": "markdown",
      "source": [
        "Aquí, el coeficiente de la variable \"t_2m_C\" es 0.0525, lo que significa que por cada aumento de 1 grado Celsius en la temperatura del aire a 2 metros sobre el suelo, la precipitación aumenta en 0.0525 mm en promedio. El valor p para la variable \"t_2m_C\" es menor que 0.05, lo que indica que la relación entre la temperatura del aire y la precipitación es estadísticamente significativa. Sin embargo, el R-cuadrado es muy bajo, lo que indica que el modelo no explica bien la variación en la variable dependiente."
      ],
      "metadata": {
        "id": "_q726F5Y0Qop"
      }
    },
    {
      "cell_type": "code",
      "source": [
        "model6 = 'precip_24h_mm~t_500hPa_C'\n",
        "lm1   = sm.ols(formula = model1, data = dfweather3).fit()\n",
        "print(lm1.summary())"
      ],
      "metadata": {
        "colab": {
          "base_uri": "https://localhost:8080/"
        },
        "id": "_QqfX6bK0nCv",
        "outputId": "bb8bda44-0131-41ad-e5ac-6b0b3a2ab7e0"
      },
      "execution_count": 46,
      "outputs": [
        {
          "output_type": "stream",
          "name": "stdout",
          "text": [
            "                            OLS Regression Results                            \n",
            "==============================================================================\n",
            "Dep. Variable:          precip_24h_mm   R-squared:                       0.008\n",
            "Model:                            OLS   Adj. R-squared:                  0.007\n",
            "Method:                 Least Squares   F-statistic:                     414.4\n",
            "Date:                Sat, 25 Feb 2023   Prob (F-statistic):           8.93e-92\n",
            "Time:                        20:37:14   Log-Likelihood:            -2.0576e+05\n",
            "No. Observations:               54810   AIC:                         4.115e+05\n",
            "Df Residuals:                   54808   BIC:                         4.115e+05\n",
            "Df Model:                           1                                         \n",
            "Covariance Type:            nonrobust                                         \n",
            "==============================================================================\n",
            "                 coef    std err          t      P>|t|      [0.025      0.975]\n",
            "------------------------------------------------------------------------------\n",
            "Intercept      6.0069      0.144     41.652      0.000       5.724       6.290\n",
            "t_500hPa_C     0.2021      0.010     20.356      0.000       0.183       0.222\n",
            "==============================================================================\n",
            "Omnibus:                    73570.283   Durbin-Watson:                   1.732\n",
            "Prob(Omnibus):                  0.000   Jarque-Bera (JB):         22666389.424\n",
            "Skew:                           7.618   Prob(JB):                         0.00\n",
            "Kurtosis:                     101.453   Cond. No.                         47.7\n",
            "==============================================================================\n",
            "\n",
            "Notes:\n",
            "[1] Standard Errors assume that the covariance matrix of the errors is correctly specified.\n"
          ]
        }
      ]
    },
    {
      "cell_type": "markdown",
      "source": [
        "La variable dependiente es \"precip_24h_mm\".\n",
        "La variable independiente es \"t_500hPa_C\".\n",
        "El modelo tiene una R-cuadrado ajustada de 0.007, lo que significa que la variable independiente explica una pequeña parte de la variación en la variable dependiente.\n",
        "El coeficiente de regresión para la variable independiente es 0.2021, lo que indica que un aumento de 1 grado Celsius en la variable independiente se asocia con un aumento de 0.2021 mm en la variable dependiente.\n",
        "El modelo es significativo (P <0.05) y la probabilidad F es baja (8.93e-92)."
      ],
      "metadata": {
        "id": "zirZO7n30uWX"
      }
    },
    {
      "cell_type": "markdown",
      "source": [
        "## CONCLUSIONES"
      ],
      "metadata": {
        "id": "Dhf7CJVI04-k"
      }
    },
    {
      "cell_type": "markdown",
      "source": [
        "De acuerdo con los resultados presentados, se encontró que el modelo que incluye la temperatura a 2 metros de altura como variable predictora tiene un R-cuadrado muy bajo (0.001), lo que indica que esta variable no es muy útil para predecir la precipitación de las últimas 24 horas.\n",
        "\n",
        "El modelo de regresión lineal simple basado en la temperatura a 2 metros parece ser el menos efectivo, ya que su coeficiente de determinación (R-cuadrado) es muy bajo (0.001), lo que indica que la temperatura a 2 metros explica muy poco de la variación en la precipitación observada.\n",
        "\n",
        "Por otro lado, el modelo que incluye la temperatura a 500 hPa como variable predictora muestra un R-cuadrado de 0.008, lo que indica que esta variable es un poco más útil que la temperatura a 2 metros para predecir la precipitación de las últimas 24 horas, aunque su poder predictivo sigue siendo relativamente bajo.\n",
        "\n",
        "El modelo de regresión lineal múltiple basado en la temperatura a 2 metros, la temperatura a 500 hPa y la humedad específica a 2 metros parece tener una capacidad predictiva moderada, con un R-cuadrado de 0.04. Esto sugiere que las variables meteorológicas incluidas en el modelo pueden explicar un poco más de la variación en la precipitación observada que la temperatura a 2 metros por sí sola.\n",
        "\n",
        "El modelo basado en árboles de decisión parece tener una capacidad predictiva ligeramente mejor que el modelo de regresión lineal múltiple, con un R-cuadrado de 0.05. \n",
        "\n",
        "En resumen, ninguno de los modelos presentados parece tener una capacidad predictiva muy fuerte."
      ],
      "metadata": {
        "id": "_aqgt1RR09C_"
      }
    }
  ]
}